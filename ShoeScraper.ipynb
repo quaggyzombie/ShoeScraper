{
  "nbformat": 4,
  "nbformat_minor": 0,
  "metadata": {
    "colab": {
      "name": "ShoeScraper.ipynb",
      "provenance": [],
      "collapsed_sections": []
    },
    "kernelspec": {
      "name": "python3",
      "display_name": "Python 3"
    }
  },
  "cells": [
    {
      "cell_type": "code",
      "metadata": {
        "id": "38ZJERINqc4B",
        "outputId": "d69bc1e5-0e35-4be0-80fd-930c250bd398",
        "colab": {
          "base_uri": "https://localhost:8080/"
        }
      },
      "source": [
        "import requests \n",
        "import shutil\n",
        "import pandas as pd\n",
        "from google.colab import files\n",
        "import csv\n",
        "!pip install pycurl\n",
        "import os"
      ],
      "execution_count": 5,
      "outputs": [
        {
          "output_type": "stream",
          "text": [
            "Requirement already satisfied: pycurl in /usr/local/lib/python3.6/dist-packages (7.43.0.6)\n"
          ],
          "name": "stdout"
        }
      ]
    },
    {
      "cell_type": "code",
      "metadata": {
        "id": "cX6ePN1xqlf_",
        "outputId": "602c72ea-2185-46b8-8dd6-8170e91942ed",
        "colab": {
          "base_uri": "https://localhost:8080/"
        }
      },
      "source": [
        "from google.colab import drive\n",
        "drive.mount('/content/gdrive')"
      ],
      "execution_count": 7,
      "outputs": [
        {
          "output_type": "stream",
          "text": [
            "Mounted at /content/gdrive\n"
          ],
          "name": "stdout"
        }
      ]
    },
    {
      "cell_type": "code",
      "metadata": {
        "id": "9D9k2IO4yejG"
      },
      "source": [
        "wbname=[\"nunnbush\",\"bogsfootwear\",\"stacyadams\"]"
      ],
      "execution_count": 45,
      "outputs": []
    },
    {
      "cell_type": "code",
      "metadata": {
        "id": "hQ94G9AS1UU6",
        "outputId": "0658b166-c244-4ac7-f51e-8108573b2783",
        "colab": {
          "base_uri": "https://localhost:8080/"
        }
      },
      "source": [
        "for zzzz in wbname:\n",
        "  with open('/content/'+zzzz+'.csv', 'r') as f:\n",
        "    str_list = [row[0] for row in csv.reader(f)]\n",
        "    print(str_list)\n",
        "  p=[]\n",
        "  retry=[]\n",
        "  for i in str_list:\n",
        "    filename=i\n",
        "    k=i.split(\"/\")\n",
        "    p.append(k)\n",
        "    name=k[-2]+\"-\"+k[-1]\n",
        "    foldername=k[-2]\n",
        "    r = requests.get(i,stream=True,verify=False)\n",
        "    if r.status_code == 200:\n",
        "      path='/content/gdrive/My Drive/fiverr/1/'+(zzzz.split('.')[0])\n",
        "      spath=path+'/'+k[-2]\n",
        "      if not os.path.exists(spath):\n",
        "        os.makedirs(spath)\n",
        "      open(path+'/'+foldername+'/'+name, 'wb').write(r.content)\n",
        "    # files.download(name)\n",
        "      print('Image sucessfully Downloaded: ',name)\n",
        "    else:\n",
        "      retry.append(i)\n",
        "      print('Image Couldn\\'t be retreived')\n"
      ],
      "execution_count": 50,
      "outputs": [
        {
          "output_type": "stream",
          "text": [
            "['https://www.nunnbush.com/shop/rotate/84826-238/01.jpg', 'https://www.nunnbush.com/shop/rotate/84827-238/01.jpg', 'https://www.nunnbush.com/shop/rotate/84828-200/01.jpg', 'https://www.nunnbush.com/shop/rotate/84848-001/01.jpg', 'https://www.nunnbush.com/shop/rotate/84848-221/01.jpg', 'https://www.nunnbush.com/shop/rotate/84849-001/01.jpg', 'https://www.nunnbush.com/shop/rotate/84849-229/01.jpg', 'https://www.nunnbush.com/shop/rotate/84849-415/01.jpg', 'https://www.nunnbush.com/shop/rotate/84852-009/01.jpg', 'https://www.nunnbush.com/shop/rotate/84852-229/01.jpg', 'https://www.nunnbush.com/shop/rotate/84853-009/01.jpg', 'https://www.nunnbush.com/shop/rotate/84853-229/01.jpg', 'https://www.nunnbush.com/shop/rotate/84857-009/01.jpg', 'https://www.nunnbush.com/shop/rotate/84857-226/01.jpg', 'https://www.nunnbush.com/shop/rotate/84859-009/01.jpg', 'https://www.nunnbush.com/shop/rotate/84859-226/01.jpg', 'https://www.nunnbush.com/shop/rotate/84870-001/01.jpg', 'https://www.nunnbush.com/shop/rotate/84870-215/01.jpg', 'https://www.nunnbush.com/shop/rotate/84870-226/01.jpg', 'https://www.nunnbush.com/shop/rotate/84879-007/01.jpg', 'https://www.nunnbush.com/shop/rotate/84879-229/01.jpg', 'https://www.nunnbush.com/shop/rotate/84901-007/01.jpg', 'https://www.nunnbush.com/shop/rotate/84901-240/01.jpg', 'https://www.nunnbush.com/shop/rotate/84826-238/02.jpg', 'https://www.nunnbush.com/shop/rotate/84827-238/02.jpg', 'https://www.nunnbush.com/shop/rotate/84828-200/02.jpg', 'https://www.nunnbush.com/shop/rotate/84848-001/02.jpg', 'https://www.nunnbush.com/shop/rotate/84848-221/02.jpg', 'https://www.nunnbush.com/shop/rotate/84849-001/02.jpg', 'https://www.nunnbush.com/shop/rotate/84849-229/02.jpg', 'https://www.nunnbush.com/shop/rotate/84849-415/02.jpg', 'https://www.nunnbush.com/shop/rotate/84852-009/02.jpg', 'https://www.nunnbush.com/shop/rotate/84852-229/02.jpg', 'https://www.nunnbush.com/shop/rotate/84853-009/02.jpg', 'https://www.nunnbush.com/shop/rotate/84853-229/02.jpg', 'https://www.nunnbush.com/shop/rotate/84857-009/02.jpg', 'https://www.nunnbush.com/shop/rotate/84857-226/02.jpg', 'https://www.nunnbush.com/shop/rotate/84859-009/02.jpg', 'https://www.nunnbush.com/shop/rotate/84859-226/02.jpg', 'https://www.nunnbush.com/shop/rotate/84870-001/02.jpg', 'https://www.nunnbush.com/shop/rotate/84870-215/02.jpg', 'https://www.nunnbush.com/shop/rotate/84870-226/02.jpg', 'https://www.nunnbush.com/shop/rotate/84879-007/02.jpg', 'https://www.nunnbush.com/shop/rotate/84879-229/02.jpg', 'https://www.nunnbush.com/shop/rotate/84901-007/02.jpg', 'https://www.nunnbush.com/shop/rotate/84901-240/02.jpg', 'https://www.nunnbush.com/shop/rotate/84826-238/03.jpg', 'https://www.nunnbush.com/shop/rotate/84827-238/03.jpg', 'https://www.nunnbush.com/shop/rotate/84828-200/03.jpg', 'https://www.nunnbush.com/shop/rotate/84848-001/03.jpg', 'https://www.nunnbush.com/shop/rotate/84848-221/03.jpg', 'https://www.nunnbush.com/shop/rotate/84849-001/03.jpg', 'https://www.nunnbush.com/shop/rotate/84849-229/03.jpg', 'https://www.nunnbush.com/shop/rotate/84849-415/03.jpg', 'https://www.nunnbush.com/shop/rotate/84852-009/03.jpg', 'https://www.nunnbush.com/shop/rotate/84852-229/03.jpg', 'https://www.nunnbush.com/shop/rotate/84853-009/03.jpg', 'https://www.nunnbush.com/shop/rotate/84853-229/03.jpg', 'https://www.nunnbush.com/shop/rotate/84857-009/03.jpg', 'https://www.nunnbush.com/shop/rotate/84857-226/03.jpg', 'https://www.nunnbush.com/shop/rotate/84859-009/03.jpg', 'https://www.nunnbush.com/shop/rotate/84859-226/03.jpg', 'https://www.nunnbush.com/shop/rotate/84870-001/03.jpg', 'https://www.nunnbush.com/shop/rotate/84870-215/03.jpg', 'https://www.nunnbush.com/shop/rotate/84870-226/03.jpg', 'https://www.nunnbush.com/shop/rotate/84879-007/03.jpg', 'https://www.nunnbush.com/shop/rotate/84879-229/03.jpg', 'https://www.nunnbush.com/shop/rotate/84901-007/03.jpg', 'https://www.nunnbush.com/shop/rotate/84901-240/03.jpg', 'https://www.nunnbush.com/shop/rotate/84826-238/04.jpg', 'https://www.nunnbush.com/shop/rotate/84827-238/04.jpg', 'https://www.nunnbush.com/shop/rotate/84828-200/04.jpg', 'https://www.nunnbush.com/shop/rotate/84848-001/04.jpg', 'https://www.nunnbush.com/shop/rotate/84848-221/04.jpg', 'https://www.nunnbush.com/shop/rotate/84849-001/04.jpg', 'https://www.nunnbush.com/shop/rotate/84849-229/04.jpg', 'https://www.nunnbush.com/shop/rotate/84849-415/04.jpg', 'https://www.nunnbush.com/shop/rotate/84852-009/04.jpg', 'https://www.nunnbush.com/shop/rotate/84852-229/04.jpg', 'https://www.nunnbush.com/shop/rotate/84853-009/04.jpg', 'https://www.nunnbush.com/shop/rotate/84853-229/04.jpg', 'https://www.nunnbush.com/shop/rotate/84857-009/04.jpg', 'https://www.nunnbush.com/shop/rotate/84857-226/04.jpg', 'https://www.nunnbush.com/shop/rotate/84859-009/04.jpg', 'https://www.nunnbush.com/shop/rotate/84859-226/04.jpg', 'https://www.nunnbush.com/shop/rotate/84870-001/04.jpg', 'https://www.nunnbush.com/shop/rotate/84870-215/04.jpg', 'https://www.nunnbush.com/shop/rotate/84870-226/04.jpg', 'https://www.nunnbush.com/shop/rotate/84879-007/04.jpg', 'https://www.nunnbush.com/shop/rotate/84879-229/04.jpg', 'https://www.nunnbush.com/shop/rotate/84901-007/04.jpg', 'https://www.nunnbush.com/shop/rotate/84901-240/04.jpg', 'https://www.nunnbush.com/shop/rotate/84826-238/05.jpg', 'https://www.nunnbush.com/shop/rotate/84827-238/05.jpg', 'https://www.nunnbush.com/shop/rotate/84828-200/05.jpg', 'https://www.nunnbush.com/shop/rotate/84848-001/05.jpg', 'https://www.nunnbush.com/shop/rotate/84848-221/05.jpg', 'https://www.nunnbush.com/shop/rotate/84849-001/05.jpg', 'https://www.nunnbush.com/shop/rotate/84849-229/05.jpg', 'https://www.nunnbush.com/shop/rotate/84849-415/05.jpg', 'https://www.nunnbush.com/shop/rotate/84852-009/05.jpg', 'https://www.nunnbush.com/shop/rotate/84852-229/05.jpg', 'https://www.nunnbush.com/shop/rotate/84853-009/05.jpg', 'https://www.nunnbush.com/shop/rotate/84853-229/05.jpg', 'https://www.nunnbush.com/shop/rotate/84857-009/05.jpg', 'https://www.nunnbush.com/shop/rotate/84857-226/05.jpg', 'https://www.nunnbush.com/shop/rotate/84859-009/05.jpg', 'https://www.nunnbush.com/shop/rotate/84859-226/05.jpg', 'https://www.nunnbush.com/shop/rotate/84870-001/05.jpg', 'https://www.nunnbush.com/shop/rotate/84870-215/05.jpg', 'https://www.nunnbush.com/shop/rotate/84870-226/05.jpg', 'https://www.nunnbush.com/shop/rotate/84879-007/05.jpg', 'https://www.nunnbush.com/shop/rotate/84879-229/05.jpg', 'https://www.nunnbush.com/shop/rotate/84901-007/05.jpg', 'https://www.nunnbush.com/shop/rotate/84901-240/05.jpg', 'https://www.nunnbush.com/shop/rotate/84826-238/06.jpg', 'https://www.nunnbush.com/shop/rotate/84827-238/06.jpg', 'https://www.nunnbush.com/shop/rotate/84828-200/06.jpg', 'https://www.nunnbush.com/shop/rotate/84848-001/06.jpg', 'https://www.nunnbush.com/shop/rotate/84848-221/06.jpg', 'https://www.nunnbush.com/shop/rotate/84849-001/06.jpg', 'https://www.nunnbush.com/shop/rotate/84849-229/06.jpg', 'https://www.nunnbush.com/shop/rotate/84849-415/06.jpg', 'https://www.nunnbush.com/shop/rotate/84852-009/06.jpg', 'https://www.nunnbush.com/shop/rotate/84852-229/06.jpg', 'https://www.nunnbush.com/shop/rotate/84853-009/06.jpg', 'https://www.nunnbush.com/shop/rotate/84853-229/06.jpg', 'https://www.nunnbush.com/shop/rotate/84857-009/06.jpg', 'https://www.nunnbush.com/shop/rotate/84857-226/06.jpg', 'https://www.nunnbush.com/shop/rotate/84859-009/06.jpg', 'https://www.nunnbush.com/shop/rotate/84859-226/06.jpg', 'https://www.nunnbush.com/shop/rotate/84870-001/06.jpg', 'https://www.nunnbush.com/shop/rotate/84870-215/06.jpg', 'https://www.nunnbush.com/shop/rotate/84870-226/06.jpg', 'https://www.nunnbush.com/shop/rotate/84879-007/06.jpg', 'https://www.nunnbush.com/shop/rotate/84879-229/06.jpg', 'https://www.nunnbush.com/shop/rotate/84901-007/06.jpg', 'https://www.nunnbush.com/shop/rotate/84901-240/06.jpg']\n",
            "Image sucessfully Downloaded:  84826-238-01.jpg\n"
          ],
          "name": "stdout"
        },
        {
          "output_type": "stream",
          "text": [
            "/usr/local/lib/python3.6/dist-packages/urllib3/connectionpool.py:847: InsecureRequestWarning: Unverified HTTPS request is being made. Adding certificate verification is strongly advised. See: https://urllib3.readthedocs.io/en/latest/advanced-usage.html#ssl-warnings\n",
            "  InsecureRequestWarning)\n",
            "/usr/local/lib/python3.6/dist-packages/urllib3/connectionpool.py:847: InsecureRequestWarning: Unverified HTTPS request is being made. Adding certificate verification is strongly advised. See: https://urllib3.readthedocs.io/en/latest/advanced-usage.html#ssl-warnings\n",
            "  InsecureRequestWarning)\n"
          ],
          "name": "stderr"
        },
        {
          "output_type": "stream",
          "text": [
            "Image sucessfully Downloaded:  84827-238-01.jpg\n",
            "Image sucessfully Downloaded:  84828-200-01.jpg\n"
          ],
          "name": "stdout"
        },
        {
          "output_type": "stream",
          "text": [
            "/usr/local/lib/python3.6/dist-packages/urllib3/connectionpool.py:847: InsecureRequestWarning: Unverified HTTPS request is being made. Adding certificate verification is strongly advised. See: https://urllib3.readthedocs.io/en/latest/advanced-usage.html#ssl-warnings\n",
            "  InsecureRequestWarning)\n",
            "/usr/local/lib/python3.6/dist-packages/urllib3/connectionpool.py:847: InsecureRequestWarning: Unverified HTTPS request is being made. Adding certificate verification is strongly advised. See: https://urllib3.readthedocs.io/en/latest/advanced-usage.html#ssl-warnings\n",
            "  InsecureRequestWarning)\n"
          ],
          "name": "stderr"
        },
        {
          "output_type": "stream",
          "text": [
            "Image sucessfully Downloaded:  84848-001-01.jpg\n",
            "Image sucessfully Downloaded:  84848-221-01.jpg\n"
          ],
          "name": "stdout"
        },
        {
          "output_type": "stream",
          "text": [
            "/usr/local/lib/python3.6/dist-packages/urllib3/connectionpool.py:847: InsecureRequestWarning: Unverified HTTPS request is being made. Adding certificate verification is strongly advised. See: https://urllib3.readthedocs.io/en/latest/advanced-usage.html#ssl-warnings\n",
            "  InsecureRequestWarning)\n",
            "/usr/local/lib/python3.6/dist-packages/urllib3/connectionpool.py:847: InsecureRequestWarning: Unverified HTTPS request is being made. Adding certificate verification is strongly advised. See: https://urllib3.readthedocs.io/en/latest/advanced-usage.html#ssl-warnings\n",
            "  InsecureRequestWarning)\n"
          ],
          "name": "stderr"
        },
        {
          "output_type": "stream",
          "text": [
            "Image sucessfully Downloaded:  84849-001-01.jpg\n",
            "Image sucessfully Downloaded:  84849-229-01.jpg\n"
          ],
          "name": "stdout"
        },
        {
          "output_type": "stream",
          "text": [
            "/usr/local/lib/python3.6/dist-packages/urllib3/connectionpool.py:847: InsecureRequestWarning: Unverified HTTPS request is being made. Adding certificate verification is strongly advised. See: https://urllib3.readthedocs.io/en/latest/advanced-usage.html#ssl-warnings\n",
            "  InsecureRequestWarning)\n",
            "/usr/local/lib/python3.6/dist-packages/urllib3/connectionpool.py:847: InsecureRequestWarning: Unverified HTTPS request is being made. Adding certificate verification is strongly advised. See: https://urllib3.readthedocs.io/en/latest/advanced-usage.html#ssl-warnings\n",
            "  InsecureRequestWarning)\n"
          ],
          "name": "stderr"
        },
        {
          "output_type": "stream",
          "text": [
            "Image sucessfully Downloaded:  84849-415-01.jpg\n",
            "Image sucessfully Downloaded:  84852-009-01.jpg\n"
          ],
          "name": "stdout"
        },
        {
          "output_type": "stream",
          "text": [
            "/usr/local/lib/python3.6/dist-packages/urllib3/connectionpool.py:847: InsecureRequestWarning: Unverified HTTPS request is being made. Adding certificate verification is strongly advised. See: https://urllib3.readthedocs.io/en/latest/advanced-usage.html#ssl-warnings\n",
            "  InsecureRequestWarning)\n",
            "/usr/local/lib/python3.6/dist-packages/urllib3/connectionpool.py:847: InsecureRequestWarning: Unverified HTTPS request is being made. Adding certificate verification is strongly advised. See: https://urllib3.readthedocs.io/en/latest/advanced-usage.html#ssl-warnings\n",
            "  InsecureRequestWarning)\n"
          ],
          "name": "stderr"
        },
        {
          "output_type": "stream",
          "text": [
            "Image sucessfully Downloaded:  84852-229-01.jpg\n",
            "Image sucessfully Downloaded:  84853-009-01.jpg\n"
          ],
          "name": "stdout"
        },
        {
          "output_type": "stream",
          "text": [
            "/usr/local/lib/python3.6/dist-packages/urllib3/connectionpool.py:847: InsecureRequestWarning: Unverified HTTPS request is being made. Adding certificate verification is strongly advised. See: https://urllib3.readthedocs.io/en/latest/advanced-usage.html#ssl-warnings\n",
            "  InsecureRequestWarning)\n",
            "/usr/local/lib/python3.6/dist-packages/urllib3/connectionpool.py:847: InsecureRequestWarning: Unverified HTTPS request is being made. Adding certificate verification is strongly advised. See: https://urllib3.readthedocs.io/en/latest/advanced-usage.html#ssl-warnings\n",
            "  InsecureRequestWarning)\n"
          ],
          "name": "stderr"
        },
        {
          "output_type": "stream",
          "text": [
            "Image sucessfully Downloaded:  84853-229-01.jpg\n",
            "Image sucessfully Downloaded:  84857-009-01.jpg\n"
          ],
          "name": "stdout"
        },
        {
          "output_type": "stream",
          "text": [
            "/usr/local/lib/python3.6/dist-packages/urllib3/connectionpool.py:847: InsecureRequestWarning: Unverified HTTPS request is being made. Adding certificate verification is strongly advised. See: https://urllib3.readthedocs.io/en/latest/advanced-usage.html#ssl-warnings\n",
            "  InsecureRequestWarning)\n",
            "/usr/local/lib/python3.6/dist-packages/urllib3/connectionpool.py:847: InsecureRequestWarning: Unverified HTTPS request is being made. Adding certificate verification is strongly advised. See: https://urllib3.readthedocs.io/en/latest/advanced-usage.html#ssl-warnings\n",
            "  InsecureRequestWarning)\n"
          ],
          "name": "stderr"
        },
        {
          "output_type": "stream",
          "text": [
            "Image sucessfully Downloaded:  84857-226-01.jpg\n",
            "Image sucessfully Downloaded:  84859-009-01.jpg\n"
          ],
          "name": "stdout"
        },
        {
          "output_type": "stream",
          "text": [
            "/usr/local/lib/python3.6/dist-packages/urllib3/connectionpool.py:847: InsecureRequestWarning: Unverified HTTPS request is being made. Adding certificate verification is strongly advised. See: https://urllib3.readthedocs.io/en/latest/advanced-usage.html#ssl-warnings\n",
            "  InsecureRequestWarning)\n",
            "/usr/local/lib/python3.6/dist-packages/urllib3/connectionpool.py:847: InsecureRequestWarning: Unverified HTTPS request is being made. Adding certificate verification is strongly advised. See: https://urllib3.readthedocs.io/en/latest/advanced-usage.html#ssl-warnings\n",
            "  InsecureRequestWarning)\n"
          ],
          "name": "stderr"
        },
        {
          "output_type": "stream",
          "text": [
            "Image sucessfully Downloaded:  84859-226-01.jpg\n",
            "Image sucessfully Downloaded:  84870-001-01.jpg\n"
          ],
          "name": "stdout"
        },
        {
          "output_type": "stream",
          "text": [
            "/usr/local/lib/python3.6/dist-packages/urllib3/connectionpool.py:847: InsecureRequestWarning: Unverified HTTPS request is being made. Adding certificate verification is strongly advised. See: https://urllib3.readthedocs.io/en/latest/advanced-usage.html#ssl-warnings\n",
            "  InsecureRequestWarning)\n",
            "/usr/local/lib/python3.6/dist-packages/urllib3/connectionpool.py:847: InsecureRequestWarning: Unverified HTTPS request is being made. Adding certificate verification is strongly advised. See: https://urllib3.readthedocs.io/en/latest/advanced-usage.html#ssl-warnings\n",
            "  InsecureRequestWarning)\n"
          ],
          "name": "stderr"
        },
        {
          "output_type": "stream",
          "text": [
            "Image sucessfully Downloaded:  84870-215-01.jpg\n",
            "Image sucessfully Downloaded:  84870-226-01.jpg\n"
          ],
          "name": "stdout"
        },
        {
          "output_type": "stream",
          "text": [
            "/usr/local/lib/python3.6/dist-packages/urllib3/connectionpool.py:847: InsecureRequestWarning: Unverified HTTPS request is being made. Adding certificate verification is strongly advised. See: https://urllib3.readthedocs.io/en/latest/advanced-usage.html#ssl-warnings\n",
            "  InsecureRequestWarning)\n",
            "/usr/local/lib/python3.6/dist-packages/urllib3/connectionpool.py:847: InsecureRequestWarning: Unverified HTTPS request is being made. Adding certificate verification is strongly advised. See: https://urllib3.readthedocs.io/en/latest/advanced-usage.html#ssl-warnings\n",
            "  InsecureRequestWarning)\n"
          ],
          "name": "stderr"
        },
        {
          "output_type": "stream",
          "text": [
            "Image sucessfully Downloaded:  84879-007-01.jpg\n",
            "Image sucessfully Downloaded:  84879-229-01.jpg\n"
          ],
          "name": "stdout"
        },
        {
          "output_type": "stream",
          "text": [
            "/usr/local/lib/python3.6/dist-packages/urllib3/connectionpool.py:847: InsecureRequestWarning: Unverified HTTPS request is being made. Adding certificate verification is strongly advised. See: https://urllib3.readthedocs.io/en/latest/advanced-usage.html#ssl-warnings\n",
            "  InsecureRequestWarning)\n",
            "/usr/local/lib/python3.6/dist-packages/urllib3/connectionpool.py:847: InsecureRequestWarning: Unverified HTTPS request is being made. Adding certificate verification is strongly advised. See: https://urllib3.readthedocs.io/en/latest/advanced-usage.html#ssl-warnings\n",
            "  InsecureRequestWarning)\n"
          ],
          "name": "stderr"
        },
        {
          "output_type": "stream",
          "text": [
            "Image sucessfully Downloaded:  84901-007-01.jpg\n",
            "Image sucessfully Downloaded:  84901-240-01.jpg\n"
          ],
          "name": "stdout"
        },
        {
          "output_type": "stream",
          "text": [
            "/usr/local/lib/python3.6/dist-packages/urllib3/connectionpool.py:847: InsecureRequestWarning: Unverified HTTPS request is being made. Adding certificate verification is strongly advised. See: https://urllib3.readthedocs.io/en/latest/advanced-usage.html#ssl-warnings\n",
            "  InsecureRequestWarning)\n",
            "/usr/local/lib/python3.6/dist-packages/urllib3/connectionpool.py:847: InsecureRequestWarning: Unverified HTTPS request is being made. Adding certificate verification is strongly advised. See: https://urllib3.readthedocs.io/en/latest/advanced-usage.html#ssl-warnings\n",
            "  InsecureRequestWarning)\n"
          ],
          "name": "stderr"
        },
        {
          "output_type": "stream",
          "text": [
            "Image sucessfully Downloaded:  84826-238-02.jpg\n",
            "Image sucessfully Downloaded:  84827-238-02.jpg\n"
          ],
          "name": "stdout"
        },
        {
          "output_type": "stream",
          "text": [
            "/usr/local/lib/python3.6/dist-packages/urllib3/connectionpool.py:847: InsecureRequestWarning: Unverified HTTPS request is being made. Adding certificate verification is strongly advised. See: https://urllib3.readthedocs.io/en/latest/advanced-usage.html#ssl-warnings\n",
            "  InsecureRequestWarning)\n",
            "/usr/local/lib/python3.6/dist-packages/urllib3/connectionpool.py:847: InsecureRequestWarning: Unverified HTTPS request is being made. Adding certificate verification is strongly advised. See: https://urllib3.readthedocs.io/en/latest/advanced-usage.html#ssl-warnings\n",
            "  InsecureRequestWarning)\n"
          ],
          "name": "stderr"
        },
        {
          "output_type": "stream",
          "text": [
            "Image sucessfully Downloaded:  84828-200-02.jpg\n",
            "Image sucessfully Downloaded:  84848-001-02.jpg\n"
          ],
          "name": "stdout"
        },
        {
          "output_type": "stream",
          "text": [
            "/usr/local/lib/python3.6/dist-packages/urllib3/connectionpool.py:847: InsecureRequestWarning: Unverified HTTPS request is being made. Adding certificate verification is strongly advised. See: https://urllib3.readthedocs.io/en/latest/advanced-usage.html#ssl-warnings\n",
            "  InsecureRequestWarning)\n",
            "/usr/local/lib/python3.6/dist-packages/urllib3/connectionpool.py:847: InsecureRequestWarning: Unverified HTTPS request is being made. Adding certificate verification is strongly advised. See: https://urllib3.readthedocs.io/en/latest/advanced-usage.html#ssl-warnings\n",
            "  InsecureRequestWarning)\n"
          ],
          "name": "stderr"
        },
        {
          "output_type": "stream",
          "text": [
            "Image sucessfully Downloaded:  84848-221-02.jpg\n",
            "Image sucessfully Downloaded:  84849-001-02.jpg\n"
          ],
          "name": "stdout"
        },
        {
          "output_type": "stream",
          "text": [
            "/usr/local/lib/python3.6/dist-packages/urllib3/connectionpool.py:847: InsecureRequestWarning: Unverified HTTPS request is being made. Adding certificate verification is strongly advised. See: https://urllib3.readthedocs.io/en/latest/advanced-usage.html#ssl-warnings\n",
            "  InsecureRequestWarning)\n",
            "/usr/local/lib/python3.6/dist-packages/urllib3/connectionpool.py:847: InsecureRequestWarning: Unverified HTTPS request is being made. Adding certificate verification is strongly advised. See: https://urllib3.readthedocs.io/en/latest/advanced-usage.html#ssl-warnings\n",
            "  InsecureRequestWarning)\n"
          ],
          "name": "stderr"
        },
        {
          "output_type": "stream",
          "text": [
            "Image sucessfully Downloaded:  84849-229-02.jpg\n",
            "Image sucessfully Downloaded:  84849-415-02.jpg\n"
          ],
          "name": "stdout"
        },
        {
          "output_type": "stream",
          "text": [
            "/usr/local/lib/python3.6/dist-packages/urllib3/connectionpool.py:847: InsecureRequestWarning: Unverified HTTPS request is being made. Adding certificate verification is strongly advised. See: https://urllib3.readthedocs.io/en/latest/advanced-usage.html#ssl-warnings\n",
            "  InsecureRequestWarning)\n",
            "/usr/local/lib/python3.6/dist-packages/urllib3/connectionpool.py:847: InsecureRequestWarning: Unverified HTTPS request is being made. Adding certificate verification is strongly advised. See: https://urllib3.readthedocs.io/en/latest/advanced-usage.html#ssl-warnings\n",
            "  InsecureRequestWarning)\n"
          ],
          "name": "stderr"
        },
        {
          "output_type": "stream",
          "text": [
            "Image sucessfully Downloaded:  84852-009-02.jpg\n",
            "Image sucessfully Downloaded:  84852-229-02.jpg\n"
          ],
          "name": "stdout"
        },
        {
          "output_type": "stream",
          "text": [
            "/usr/local/lib/python3.6/dist-packages/urllib3/connectionpool.py:847: InsecureRequestWarning: Unverified HTTPS request is being made. Adding certificate verification is strongly advised. See: https://urllib3.readthedocs.io/en/latest/advanced-usage.html#ssl-warnings\n",
            "  InsecureRequestWarning)\n",
            "/usr/local/lib/python3.6/dist-packages/urllib3/connectionpool.py:847: InsecureRequestWarning: Unverified HTTPS request is being made. Adding certificate verification is strongly advised. See: https://urllib3.readthedocs.io/en/latest/advanced-usage.html#ssl-warnings\n",
            "  InsecureRequestWarning)\n"
          ],
          "name": "stderr"
        },
        {
          "output_type": "stream",
          "text": [
            "Image sucessfully Downloaded:  84853-009-02.jpg\n",
            "Image sucessfully Downloaded:  84853-229-02.jpg\n"
          ],
          "name": "stdout"
        },
        {
          "output_type": "stream",
          "text": [
            "/usr/local/lib/python3.6/dist-packages/urllib3/connectionpool.py:847: InsecureRequestWarning: Unverified HTTPS request is being made. Adding certificate verification is strongly advised. See: https://urllib3.readthedocs.io/en/latest/advanced-usage.html#ssl-warnings\n",
            "  InsecureRequestWarning)\n",
            "/usr/local/lib/python3.6/dist-packages/urllib3/connectionpool.py:847: InsecureRequestWarning: Unverified HTTPS request is being made. Adding certificate verification is strongly advised. See: https://urllib3.readthedocs.io/en/latest/advanced-usage.html#ssl-warnings\n",
            "  InsecureRequestWarning)\n"
          ],
          "name": "stderr"
        },
        {
          "output_type": "stream",
          "text": [
            "Image sucessfully Downloaded:  84857-009-02.jpg\n",
            "Image sucessfully Downloaded:  84857-226-02.jpg\n"
          ],
          "name": "stdout"
        },
        {
          "output_type": "stream",
          "text": [
            "/usr/local/lib/python3.6/dist-packages/urllib3/connectionpool.py:847: InsecureRequestWarning: Unverified HTTPS request is being made. Adding certificate verification is strongly advised. See: https://urllib3.readthedocs.io/en/latest/advanced-usage.html#ssl-warnings\n",
            "  InsecureRequestWarning)\n",
            "/usr/local/lib/python3.6/dist-packages/urllib3/connectionpool.py:847: InsecureRequestWarning: Unverified HTTPS request is being made. Adding certificate verification is strongly advised. See: https://urllib3.readthedocs.io/en/latest/advanced-usage.html#ssl-warnings\n",
            "  InsecureRequestWarning)\n"
          ],
          "name": "stderr"
        },
        {
          "output_type": "stream",
          "text": [
            "Image sucessfully Downloaded:  84859-009-02.jpg\n",
            "Image sucessfully Downloaded:  84859-226-02.jpg\n"
          ],
          "name": "stdout"
        },
        {
          "output_type": "stream",
          "text": [
            "/usr/local/lib/python3.6/dist-packages/urllib3/connectionpool.py:847: InsecureRequestWarning: Unverified HTTPS request is being made. Adding certificate verification is strongly advised. See: https://urllib3.readthedocs.io/en/latest/advanced-usage.html#ssl-warnings\n",
            "  InsecureRequestWarning)\n",
            "/usr/local/lib/python3.6/dist-packages/urllib3/connectionpool.py:847: InsecureRequestWarning: Unverified HTTPS request is being made. Adding certificate verification is strongly advised. See: https://urllib3.readthedocs.io/en/latest/advanced-usage.html#ssl-warnings\n",
            "  InsecureRequestWarning)\n"
          ],
          "name": "stderr"
        },
        {
          "output_type": "stream",
          "text": [
            "Image sucessfully Downloaded:  84870-001-02.jpg\n",
            "Image sucessfully Downloaded:  84870-215-02.jpg\n"
          ],
          "name": "stdout"
        },
        {
          "output_type": "stream",
          "text": [
            "/usr/local/lib/python3.6/dist-packages/urllib3/connectionpool.py:847: InsecureRequestWarning: Unverified HTTPS request is being made. Adding certificate verification is strongly advised. See: https://urllib3.readthedocs.io/en/latest/advanced-usage.html#ssl-warnings\n",
            "  InsecureRequestWarning)\n",
            "/usr/local/lib/python3.6/dist-packages/urllib3/connectionpool.py:847: InsecureRequestWarning: Unverified HTTPS request is being made. Adding certificate verification is strongly advised. See: https://urllib3.readthedocs.io/en/latest/advanced-usage.html#ssl-warnings\n",
            "  InsecureRequestWarning)\n"
          ],
          "name": "stderr"
        },
        {
          "output_type": "stream",
          "text": [
            "Image sucessfully Downloaded:  84870-226-02.jpg\n",
            "Image sucessfully Downloaded:  84879-007-02.jpg\n"
          ],
          "name": "stdout"
        },
        {
          "output_type": "stream",
          "text": [
            "/usr/local/lib/python3.6/dist-packages/urllib3/connectionpool.py:847: InsecureRequestWarning: Unverified HTTPS request is being made. Adding certificate verification is strongly advised. See: https://urllib3.readthedocs.io/en/latest/advanced-usage.html#ssl-warnings\n",
            "  InsecureRequestWarning)\n",
            "/usr/local/lib/python3.6/dist-packages/urllib3/connectionpool.py:847: InsecureRequestWarning: Unverified HTTPS request is being made. Adding certificate verification is strongly advised. See: https://urllib3.readthedocs.io/en/latest/advanced-usage.html#ssl-warnings\n",
            "  InsecureRequestWarning)\n"
          ],
          "name": "stderr"
        },
        {
          "output_type": "stream",
          "text": [
            "Image sucessfully Downloaded:  84879-229-02.jpg\n",
            "Image sucessfully Downloaded:  84901-007-02.jpg\n"
          ],
          "name": "stdout"
        },
        {
          "output_type": "stream",
          "text": [
            "/usr/local/lib/python3.6/dist-packages/urllib3/connectionpool.py:847: InsecureRequestWarning: Unverified HTTPS request is being made. Adding certificate verification is strongly advised. See: https://urllib3.readthedocs.io/en/latest/advanced-usage.html#ssl-warnings\n",
            "  InsecureRequestWarning)\n",
            "/usr/local/lib/python3.6/dist-packages/urllib3/connectionpool.py:847: InsecureRequestWarning: Unverified HTTPS request is being made. Adding certificate verification is strongly advised. See: https://urllib3.readthedocs.io/en/latest/advanced-usage.html#ssl-warnings\n",
            "  InsecureRequestWarning)\n"
          ],
          "name": "stderr"
        },
        {
          "output_type": "stream",
          "text": [
            "Image sucessfully Downloaded:  84901-240-02.jpg\n",
            "Image sucessfully Downloaded:  84826-238-03.jpg\n"
          ],
          "name": "stdout"
        },
        {
          "output_type": "stream",
          "text": [
            "/usr/local/lib/python3.6/dist-packages/urllib3/connectionpool.py:847: InsecureRequestWarning: Unverified HTTPS request is being made. Adding certificate verification is strongly advised. See: https://urllib3.readthedocs.io/en/latest/advanced-usage.html#ssl-warnings\n",
            "  InsecureRequestWarning)\n",
            "/usr/local/lib/python3.6/dist-packages/urllib3/connectionpool.py:847: InsecureRequestWarning: Unverified HTTPS request is being made. Adding certificate verification is strongly advised. See: https://urllib3.readthedocs.io/en/latest/advanced-usage.html#ssl-warnings\n",
            "  InsecureRequestWarning)\n"
          ],
          "name": "stderr"
        },
        {
          "output_type": "stream",
          "text": [
            "Image sucessfully Downloaded:  84827-238-03.jpg\n",
            "Image sucessfully Downloaded:  84828-200-03.jpg\n"
          ],
          "name": "stdout"
        },
        {
          "output_type": "stream",
          "text": [
            "/usr/local/lib/python3.6/dist-packages/urllib3/connectionpool.py:847: InsecureRequestWarning: Unverified HTTPS request is being made. Adding certificate verification is strongly advised. See: https://urllib3.readthedocs.io/en/latest/advanced-usage.html#ssl-warnings\n",
            "  InsecureRequestWarning)\n",
            "/usr/local/lib/python3.6/dist-packages/urllib3/connectionpool.py:847: InsecureRequestWarning: Unverified HTTPS request is being made. Adding certificate verification is strongly advised. See: https://urllib3.readthedocs.io/en/latest/advanced-usage.html#ssl-warnings\n",
            "  InsecureRequestWarning)\n"
          ],
          "name": "stderr"
        },
        {
          "output_type": "stream",
          "text": [
            "Image sucessfully Downloaded:  84848-001-03.jpg\n"
          ],
          "name": "stdout"
        },
        {
          "output_type": "stream",
          "text": [
            "/usr/local/lib/python3.6/dist-packages/urllib3/connectionpool.py:847: InsecureRequestWarning: Unverified HTTPS request is being made. Adding certificate verification is strongly advised. See: https://urllib3.readthedocs.io/en/latest/advanced-usage.html#ssl-warnings\n",
            "  InsecureRequestWarning)\n"
          ],
          "name": "stderr"
        },
        {
          "output_type": "stream",
          "text": [
            "Image sucessfully Downloaded:  84848-221-03.jpg\n"
          ],
          "name": "stdout"
        },
        {
          "output_type": "stream",
          "text": [
            "/usr/local/lib/python3.6/dist-packages/urllib3/connectionpool.py:847: InsecureRequestWarning: Unverified HTTPS request is being made. Adding certificate verification is strongly advised. See: https://urllib3.readthedocs.io/en/latest/advanced-usage.html#ssl-warnings\n",
            "  InsecureRequestWarning)\n"
          ],
          "name": "stderr"
        },
        {
          "output_type": "stream",
          "text": [
            "Image sucessfully Downloaded:  84849-001-03.jpg\n"
          ],
          "name": "stdout"
        },
        {
          "output_type": "stream",
          "text": [
            "/usr/local/lib/python3.6/dist-packages/urllib3/connectionpool.py:847: InsecureRequestWarning: Unverified HTTPS request is being made. Adding certificate verification is strongly advised. See: https://urllib3.readthedocs.io/en/latest/advanced-usage.html#ssl-warnings\n",
            "  InsecureRequestWarning)\n",
            "/usr/local/lib/python3.6/dist-packages/urllib3/connectionpool.py:847: InsecureRequestWarning: Unverified HTTPS request is being made. Adding certificate verification is strongly advised. See: https://urllib3.readthedocs.io/en/latest/advanced-usage.html#ssl-warnings\n",
            "  InsecureRequestWarning)\n"
          ],
          "name": "stderr"
        },
        {
          "output_type": "stream",
          "text": [
            "Image sucessfully Downloaded:  84849-229-03.jpg\n",
            "Image sucessfully Downloaded:  84849-415-03.jpg\n"
          ],
          "name": "stdout"
        },
        {
          "output_type": "stream",
          "text": [
            "/usr/local/lib/python3.6/dist-packages/urllib3/connectionpool.py:847: InsecureRequestWarning: Unverified HTTPS request is being made. Adding certificate verification is strongly advised. See: https://urllib3.readthedocs.io/en/latest/advanced-usage.html#ssl-warnings\n",
            "  InsecureRequestWarning)\n",
            "/usr/local/lib/python3.6/dist-packages/urllib3/connectionpool.py:847: InsecureRequestWarning: Unverified HTTPS request is being made. Adding certificate verification is strongly advised. See: https://urllib3.readthedocs.io/en/latest/advanced-usage.html#ssl-warnings\n",
            "  InsecureRequestWarning)\n"
          ],
          "name": "stderr"
        },
        {
          "output_type": "stream",
          "text": [
            "Image sucessfully Downloaded:  84852-009-03.jpg\n",
            "Image sucessfully Downloaded:  84852-229-03.jpg\n"
          ],
          "name": "stdout"
        },
        {
          "output_type": "stream",
          "text": [
            "/usr/local/lib/python3.6/dist-packages/urllib3/connectionpool.py:847: InsecureRequestWarning: Unverified HTTPS request is being made. Adding certificate verification is strongly advised. See: https://urllib3.readthedocs.io/en/latest/advanced-usage.html#ssl-warnings\n",
            "  InsecureRequestWarning)\n",
            "/usr/local/lib/python3.6/dist-packages/urllib3/connectionpool.py:847: InsecureRequestWarning: Unverified HTTPS request is being made. Adding certificate verification is strongly advised. See: https://urllib3.readthedocs.io/en/latest/advanced-usage.html#ssl-warnings\n",
            "  InsecureRequestWarning)\n"
          ],
          "name": "stderr"
        },
        {
          "output_type": "stream",
          "text": [
            "Image sucessfully Downloaded:  84853-009-03.jpg\n",
            "Image sucessfully Downloaded:  84853-229-03.jpg\n"
          ],
          "name": "stdout"
        },
        {
          "output_type": "stream",
          "text": [
            "/usr/local/lib/python3.6/dist-packages/urllib3/connectionpool.py:847: InsecureRequestWarning: Unverified HTTPS request is being made. Adding certificate verification is strongly advised. See: https://urllib3.readthedocs.io/en/latest/advanced-usage.html#ssl-warnings\n",
            "  InsecureRequestWarning)\n",
            "/usr/local/lib/python3.6/dist-packages/urllib3/connectionpool.py:847: InsecureRequestWarning: Unverified HTTPS request is being made. Adding certificate verification is strongly advised. See: https://urllib3.readthedocs.io/en/latest/advanced-usage.html#ssl-warnings\n",
            "  InsecureRequestWarning)\n"
          ],
          "name": "stderr"
        },
        {
          "output_type": "stream",
          "text": [
            "Image sucessfully Downloaded:  84857-009-03.jpg\n",
            "Image sucessfully Downloaded:  84857-226-03.jpg\n"
          ],
          "name": "stdout"
        },
        {
          "output_type": "stream",
          "text": [
            "/usr/local/lib/python3.6/dist-packages/urllib3/connectionpool.py:847: InsecureRequestWarning: Unverified HTTPS request is being made. Adding certificate verification is strongly advised. See: https://urllib3.readthedocs.io/en/latest/advanced-usage.html#ssl-warnings\n",
            "  InsecureRequestWarning)\n",
            "/usr/local/lib/python3.6/dist-packages/urllib3/connectionpool.py:847: InsecureRequestWarning: Unverified HTTPS request is being made. Adding certificate verification is strongly advised. See: https://urllib3.readthedocs.io/en/latest/advanced-usage.html#ssl-warnings\n",
            "  InsecureRequestWarning)\n"
          ],
          "name": "stderr"
        },
        {
          "output_type": "stream",
          "text": [
            "Image sucessfully Downloaded:  84859-009-03.jpg\n",
            "Image Couldn't be retreived\n"
          ],
          "name": "stdout"
        },
        {
          "output_type": "stream",
          "text": [
            "/usr/local/lib/python3.6/dist-packages/urllib3/connectionpool.py:847: InsecureRequestWarning: Unverified HTTPS request is being made. Adding certificate verification is strongly advised. See: https://urllib3.readthedocs.io/en/latest/advanced-usage.html#ssl-warnings\n",
            "  InsecureRequestWarning)\n",
            "/usr/local/lib/python3.6/dist-packages/urllib3/connectionpool.py:847: InsecureRequestWarning: Unverified HTTPS request is being made. Adding certificate verification is strongly advised. See: https://urllib3.readthedocs.io/en/latest/advanced-usage.html#ssl-warnings\n",
            "  InsecureRequestWarning)\n"
          ],
          "name": "stderr"
        },
        {
          "output_type": "stream",
          "text": [
            "Image sucessfully Downloaded:  84870-001-03.jpg\n",
            "Image sucessfully Downloaded:  84870-215-03.jpg\n"
          ],
          "name": "stdout"
        },
        {
          "output_type": "stream",
          "text": [
            "/usr/local/lib/python3.6/dist-packages/urllib3/connectionpool.py:847: InsecureRequestWarning: Unverified HTTPS request is being made. Adding certificate verification is strongly advised. See: https://urllib3.readthedocs.io/en/latest/advanced-usage.html#ssl-warnings\n",
            "  InsecureRequestWarning)\n"
          ],
          "name": "stderr"
        },
        {
          "output_type": "stream",
          "text": [
            "Image sucessfully Downloaded:  84870-226-03.jpg\n"
          ],
          "name": "stdout"
        },
        {
          "output_type": "stream",
          "text": [
            "/usr/local/lib/python3.6/dist-packages/urllib3/connectionpool.py:847: InsecureRequestWarning: Unverified HTTPS request is being made. Adding certificate verification is strongly advised. See: https://urllib3.readthedocs.io/en/latest/advanced-usage.html#ssl-warnings\n",
            "  InsecureRequestWarning)\n",
            "/usr/local/lib/python3.6/dist-packages/urllib3/connectionpool.py:847: InsecureRequestWarning: Unverified HTTPS request is being made. Adding certificate verification is strongly advised. See: https://urllib3.readthedocs.io/en/latest/advanced-usage.html#ssl-warnings\n",
            "  InsecureRequestWarning)\n"
          ],
          "name": "stderr"
        },
        {
          "output_type": "stream",
          "text": [
            "Image sucessfully Downloaded:  84879-007-03.jpg\n",
            "Image sucessfully Downloaded:  84879-229-03.jpg\n"
          ],
          "name": "stdout"
        },
        {
          "output_type": "stream",
          "text": [
            "/usr/local/lib/python3.6/dist-packages/urllib3/connectionpool.py:847: InsecureRequestWarning: Unverified HTTPS request is being made. Adding certificate verification is strongly advised. See: https://urllib3.readthedocs.io/en/latest/advanced-usage.html#ssl-warnings\n",
            "  InsecureRequestWarning)\n",
            "/usr/local/lib/python3.6/dist-packages/urllib3/connectionpool.py:847: InsecureRequestWarning: Unverified HTTPS request is being made. Adding certificate verification is strongly advised. See: https://urllib3.readthedocs.io/en/latest/advanced-usage.html#ssl-warnings\n",
            "  InsecureRequestWarning)\n"
          ],
          "name": "stderr"
        },
        {
          "output_type": "stream",
          "text": [
            "Image sucessfully Downloaded:  84901-007-03.jpg\n",
            "Image sucessfully Downloaded:  84901-240-03.jpg\n"
          ],
          "name": "stdout"
        },
        {
          "output_type": "stream",
          "text": [
            "/usr/local/lib/python3.6/dist-packages/urllib3/connectionpool.py:847: InsecureRequestWarning: Unverified HTTPS request is being made. Adding certificate verification is strongly advised. See: https://urllib3.readthedocs.io/en/latest/advanced-usage.html#ssl-warnings\n",
            "  InsecureRequestWarning)\n",
            "/usr/local/lib/python3.6/dist-packages/urllib3/connectionpool.py:847: InsecureRequestWarning: Unverified HTTPS request is being made. Adding certificate verification is strongly advised. See: https://urllib3.readthedocs.io/en/latest/advanced-usage.html#ssl-warnings\n",
            "  InsecureRequestWarning)\n"
          ],
          "name": "stderr"
        },
        {
          "output_type": "stream",
          "text": [
            "Image sucessfully Downloaded:  84826-238-04.jpg\n",
            "Image sucessfully Downloaded:  84827-238-04.jpg\n"
          ],
          "name": "stdout"
        },
        {
          "output_type": "stream",
          "text": [
            "/usr/local/lib/python3.6/dist-packages/urllib3/connectionpool.py:847: InsecureRequestWarning: Unverified HTTPS request is being made. Adding certificate verification is strongly advised. See: https://urllib3.readthedocs.io/en/latest/advanced-usage.html#ssl-warnings\n",
            "  InsecureRequestWarning)\n",
            "/usr/local/lib/python3.6/dist-packages/urllib3/connectionpool.py:847: InsecureRequestWarning: Unverified HTTPS request is being made. Adding certificate verification is strongly advised. See: https://urllib3.readthedocs.io/en/latest/advanced-usage.html#ssl-warnings\n",
            "  InsecureRequestWarning)\n"
          ],
          "name": "stderr"
        },
        {
          "output_type": "stream",
          "text": [
            "Image sucessfully Downloaded:  84828-200-04.jpg\n",
            "Image sucessfully Downloaded:  84848-001-04.jpg\n"
          ],
          "name": "stdout"
        },
        {
          "output_type": "stream",
          "text": [
            "/usr/local/lib/python3.6/dist-packages/urllib3/connectionpool.py:847: InsecureRequestWarning: Unverified HTTPS request is being made. Adding certificate verification is strongly advised. See: https://urllib3.readthedocs.io/en/latest/advanced-usage.html#ssl-warnings\n",
            "  InsecureRequestWarning)\n",
            "/usr/local/lib/python3.6/dist-packages/urllib3/connectionpool.py:847: InsecureRequestWarning: Unverified HTTPS request is being made. Adding certificate verification is strongly advised. See: https://urllib3.readthedocs.io/en/latest/advanced-usage.html#ssl-warnings\n",
            "  InsecureRequestWarning)\n"
          ],
          "name": "stderr"
        },
        {
          "output_type": "stream",
          "text": [
            "Image sucessfully Downloaded:  84848-221-04.jpg\n",
            "Image sucessfully Downloaded:  84849-001-04.jpg\n"
          ],
          "name": "stdout"
        },
        {
          "output_type": "stream",
          "text": [
            "/usr/local/lib/python3.6/dist-packages/urllib3/connectionpool.py:847: InsecureRequestWarning: Unverified HTTPS request is being made. Adding certificate verification is strongly advised. See: https://urllib3.readthedocs.io/en/latest/advanced-usage.html#ssl-warnings\n",
            "  InsecureRequestWarning)\n",
            "/usr/local/lib/python3.6/dist-packages/urllib3/connectionpool.py:847: InsecureRequestWarning: Unverified HTTPS request is being made. Adding certificate verification is strongly advised. See: https://urllib3.readthedocs.io/en/latest/advanced-usage.html#ssl-warnings\n",
            "  InsecureRequestWarning)\n"
          ],
          "name": "stderr"
        },
        {
          "output_type": "stream",
          "text": [
            "Image sucessfully Downloaded:  84849-229-04.jpg\n",
            "Image sucessfully Downloaded:  84849-415-04.jpg\n"
          ],
          "name": "stdout"
        },
        {
          "output_type": "stream",
          "text": [
            "/usr/local/lib/python3.6/dist-packages/urllib3/connectionpool.py:847: InsecureRequestWarning: Unverified HTTPS request is being made. Adding certificate verification is strongly advised. See: https://urllib3.readthedocs.io/en/latest/advanced-usage.html#ssl-warnings\n",
            "  InsecureRequestWarning)\n",
            "/usr/local/lib/python3.6/dist-packages/urllib3/connectionpool.py:847: InsecureRequestWarning: Unverified HTTPS request is being made. Adding certificate verification is strongly advised. See: https://urllib3.readthedocs.io/en/latest/advanced-usage.html#ssl-warnings\n",
            "  InsecureRequestWarning)\n"
          ],
          "name": "stderr"
        },
        {
          "output_type": "stream",
          "text": [
            "Image sucessfully Downloaded:  84852-009-04.jpg\n",
            "Image sucessfully Downloaded:  84852-229-04.jpg\n"
          ],
          "name": "stdout"
        },
        {
          "output_type": "stream",
          "text": [
            "/usr/local/lib/python3.6/dist-packages/urllib3/connectionpool.py:847: InsecureRequestWarning: Unverified HTTPS request is being made. Adding certificate verification is strongly advised. See: https://urllib3.readthedocs.io/en/latest/advanced-usage.html#ssl-warnings\n",
            "  InsecureRequestWarning)\n",
            "/usr/local/lib/python3.6/dist-packages/urllib3/connectionpool.py:847: InsecureRequestWarning: Unverified HTTPS request is being made. Adding certificate verification is strongly advised. See: https://urllib3.readthedocs.io/en/latest/advanced-usage.html#ssl-warnings\n",
            "  InsecureRequestWarning)\n"
          ],
          "name": "stderr"
        },
        {
          "output_type": "stream",
          "text": [
            "Image sucessfully Downloaded:  84853-009-04.jpg\n",
            "Image sucessfully Downloaded:  84853-229-04.jpg\n"
          ],
          "name": "stdout"
        },
        {
          "output_type": "stream",
          "text": [
            "/usr/local/lib/python3.6/dist-packages/urllib3/connectionpool.py:847: InsecureRequestWarning: Unverified HTTPS request is being made. Adding certificate verification is strongly advised. See: https://urllib3.readthedocs.io/en/latest/advanced-usage.html#ssl-warnings\n",
            "  InsecureRequestWarning)\n",
            "/usr/local/lib/python3.6/dist-packages/urllib3/connectionpool.py:847: InsecureRequestWarning: Unverified HTTPS request is being made. Adding certificate verification is strongly advised. See: https://urllib3.readthedocs.io/en/latest/advanced-usage.html#ssl-warnings\n",
            "  InsecureRequestWarning)\n"
          ],
          "name": "stderr"
        },
        {
          "output_type": "stream",
          "text": [
            "Image sucessfully Downloaded:  84857-009-04.jpg\n",
            "Image sucessfully Downloaded:  84857-226-04.jpg\n"
          ],
          "name": "stdout"
        },
        {
          "output_type": "stream",
          "text": [
            "/usr/local/lib/python3.6/dist-packages/urllib3/connectionpool.py:847: InsecureRequestWarning: Unverified HTTPS request is being made. Adding certificate verification is strongly advised. See: https://urllib3.readthedocs.io/en/latest/advanced-usage.html#ssl-warnings\n",
            "  InsecureRequestWarning)\n",
            "/usr/local/lib/python3.6/dist-packages/urllib3/connectionpool.py:847: InsecureRequestWarning: Unverified HTTPS request is being made. Adding certificate verification is strongly advised. See: https://urllib3.readthedocs.io/en/latest/advanced-usage.html#ssl-warnings\n",
            "  InsecureRequestWarning)\n"
          ],
          "name": "stderr"
        },
        {
          "output_type": "stream",
          "text": [
            "Image sucessfully Downloaded:  84859-009-04.jpg\n",
            "Image sucessfully Downloaded:  84859-226-04.jpg\n"
          ],
          "name": "stdout"
        },
        {
          "output_type": "stream",
          "text": [
            "/usr/local/lib/python3.6/dist-packages/urllib3/connectionpool.py:847: InsecureRequestWarning: Unverified HTTPS request is being made. Adding certificate verification is strongly advised. See: https://urllib3.readthedocs.io/en/latest/advanced-usage.html#ssl-warnings\n",
            "  InsecureRequestWarning)\n",
            "/usr/local/lib/python3.6/dist-packages/urllib3/connectionpool.py:847: InsecureRequestWarning: Unverified HTTPS request is being made. Adding certificate verification is strongly advised. See: https://urllib3.readthedocs.io/en/latest/advanced-usage.html#ssl-warnings\n",
            "  InsecureRequestWarning)\n"
          ],
          "name": "stderr"
        },
        {
          "output_type": "stream",
          "text": [
            "Image sucessfully Downloaded:  84870-001-04.jpg\n",
            "Image sucessfully Downloaded:  84870-215-04.jpg\n"
          ],
          "name": "stdout"
        },
        {
          "output_type": "stream",
          "text": [
            "/usr/local/lib/python3.6/dist-packages/urllib3/connectionpool.py:847: InsecureRequestWarning: Unverified HTTPS request is being made. Adding certificate verification is strongly advised. See: https://urllib3.readthedocs.io/en/latest/advanced-usage.html#ssl-warnings\n",
            "  InsecureRequestWarning)\n",
            "/usr/local/lib/python3.6/dist-packages/urllib3/connectionpool.py:847: InsecureRequestWarning: Unverified HTTPS request is being made. Adding certificate verification is strongly advised. See: https://urllib3.readthedocs.io/en/latest/advanced-usage.html#ssl-warnings\n",
            "  InsecureRequestWarning)\n"
          ],
          "name": "stderr"
        },
        {
          "output_type": "stream",
          "text": [
            "Image sucessfully Downloaded:  84870-226-04.jpg\n",
            "Image sucessfully Downloaded:  84879-007-04.jpg\n"
          ],
          "name": "stdout"
        },
        {
          "output_type": "stream",
          "text": [
            "/usr/local/lib/python3.6/dist-packages/urllib3/connectionpool.py:847: InsecureRequestWarning: Unverified HTTPS request is being made. Adding certificate verification is strongly advised. See: https://urllib3.readthedocs.io/en/latest/advanced-usage.html#ssl-warnings\n",
            "  InsecureRequestWarning)\n",
            "/usr/local/lib/python3.6/dist-packages/urllib3/connectionpool.py:847: InsecureRequestWarning: Unverified HTTPS request is being made. Adding certificate verification is strongly advised. See: https://urllib3.readthedocs.io/en/latest/advanced-usage.html#ssl-warnings\n",
            "  InsecureRequestWarning)\n"
          ],
          "name": "stderr"
        },
        {
          "output_type": "stream",
          "text": [
            "Image sucessfully Downloaded:  84879-229-04.jpg\n",
            "Image sucessfully Downloaded:  84901-007-04.jpg\n"
          ],
          "name": "stdout"
        },
        {
          "output_type": "stream",
          "text": [
            "/usr/local/lib/python3.6/dist-packages/urllib3/connectionpool.py:847: InsecureRequestWarning: Unverified HTTPS request is being made. Adding certificate verification is strongly advised. See: https://urllib3.readthedocs.io/en/latest/advanced-usage.html#ssl-warnings\n",
            "  InsecureRequestWarning)\n",
            "/usr/local/lib/python3.6/dist-packages/urllib3/connectionpool.py:847: InsecureRequestWarning: Unverified HTTPS request is being made. Adding certificate verification is strongly advised. See: https://urllib3.readthedocs.io/en/latest/advanced-usage.html#ssl-warnings\n",
            "  InsecureRequestWarning)\n"
          ],
          "name": "stderr"
        },
        {
          "output_type": "stream",
          "text": [
            "Image sucessfully Downloaded:  84901-240-04.jpg\n",
            "Image sucessfully Downloaded:  84826-238-05.jpg\n",
            "Image sucessfully Downloaded:  84827-238-05.jpg\n"
          ],
          "name": "stdout"
        },
        {
          "output_type": "stream",
          "text": [
            "/usr/local/lib/python3.6/dist-packages/urllib3/connectionpool.py:847: InsecureRequestWarning: Unverified HTTPS request is being made. Adding certificate verification is strongly advised. See: https://urllib3.readthedocs.io/en/latest/advanced-usage.html#ssl-warnings\n",
            "  InsecureRequestWarning)\n",
            "/usr/local/lib/python3.6/dist-packages/urllib3/connectionpool.py:847: InsecureRequestWarning: Unverified HTTPS request is being made. Adding certificate verification is strongly advised. See: https://urllib3.readthedocs.io/en/latest/advanced-usage.html#ssl-warnings\n",
            "  InsecureRequestWarning)\n"
          ],
          "name": "stderr"
        },
        {
          "output_type": "stream",
          "text": [
            "Image sucessfully Downloaded:  84828-200-05.jpg\n",
            "Image sucessfully Downloaded:  84848-001-05.jpg\n"
          ],
          "name": "stdout"
        },
        {
          "output_type": "stream",
          "text": [
            "/usr/local/lib/python3.6/dist-packages/urllib3/connectionpool.py:847: InsecureRequestWarning: Unverified HTTPS request is being made. Adding certificate verification is strongly advised. See: https://urllib3.readthedocs.io/en/latest/advanced-usage.html#ssl-warnings\n",
            "  InsecureRequestWarning)\n",
            "/usr/local/lib/python3.6/dist-packages/urllib3/connectionpool.py:847: InsecureRequestWarning: Unverified HTTPS request is being made. Adding certificate verification is strongly advised. See: https://urllib3.readthedocs.io/en/latest/advanced-usage.html#ssl-warnings\n",
            "  InsecureRequestWarning)\n"
          ],
          "name": "stderr"
        },
        {
          "output_type": "stream",
          "text": [
            "Image sucessfully Downloaded:  84848-221-05.jpg\n",
            "Image sucessfully Downloaded:  84849-001-05.jpg\n"
          ],
          "name": "stdout"
        },
        {
          "output_type": "stream",
          "text": [
            "/usr/local/lib/python3.6/dist-packages/urllib3/connectionpool.py:847: InsecureRequestWarning: Unverified HTTPS request is being made. Adding certificate verification is strongly advised. See: https://urllib3.readthedocs.io/en/latest/advanced-usage.html#ssl-warnings\n",
            "  InsecureRequestWarning)\n",
            "/usr/local/lib/python3.6/dist-packages/urllib3/connectionpool.py:847: InsecureRequestWarning: Unverified HTTPS request is being made. Adding certificate verification is strongly advised. See: https://urllib3.readthedocs.io/en/latest/advanced-usage.html#ssl-warnings\n",
            "  InsecureRequestWarning)\n"
          ],
          "name": "stderr"
        },
        {
          "output_type": "stream",
          "text": [
            "Image sucessfully Downloaded:  84849-229-05.jpg\n",
            "Image sucessfully Downloaded:  84849-415-05.jpg\n"
          ],
          "name": "stdout"
        },
        {
          "output_type": "stream",
          "text": [
            "/usr/local/lib/python3.6/dist-packages/urllib3/connectionpool.py:847: InsecureRequestWarning: Unverified HTTPS request is being made. Adding certificate verification is strongly advised. See: https://urllib3.readthedocs.io/en/latest/advanced-usage.html#ssl-warnings\n",
            "  InsecureRequestWarning)\n",
            "/usr/local/lib/python3.6/dist-packages/urllib3/connectionpool.py:847: InsecureRequestWarning: Unverified HTTPS request is being made. Adding certificate verification is strongly advised. See: https://urllib3.readthedocs.io/en/latest/advanced-usage.html#ssl-warnings\n",
            "  InsecureRequestWarning)\n"
          ],
          "name": "stderr"
        },
        {
          "output_type": "stream",
          "text": [
            "Image sucessfully Downloaded:  84852-009-05.jpg\n",
            "Image sucessfully Downloaded:  84852-229-05.jpg\n"
          ],
          "name": "stdout"
        },
        {
          "output_type": "stream",
          "text": [
            "/usr/local/lib/python3.6/dist-packages/urllib3/connectionpool.py:847: InsecureRequestWarning: Unverified HTTPS request is being made. Adding certificate verification is strongly advised. See: https://urllib3.readthedocs.io/en/latest/advanced-usage.html#ssl-warnings\n",
            "  InsecureRequestWarning)\n",
            "/usr/local/lib/python3.6/dist-packages/urllib3/connectionpool.py:847: InsecureRequestWarning: Unverified HTTPS request is being made. Adding certificate verification is strongly advised. See: https://urllib3.readthedocs.io/en/latest/advanced-usage.html#ssl-warnings\n",
            "  InsecureRequestWarning)\n"
          ],
          "name": "stderr"
        },
        {
          "output_type": "stream",
          "text": [
            "Image sucessfully Downloaded:  84853-009-05.jpg\n",
            "Image sucessfully Downloaded:  84853-229-05.jpg\n"
          ],
          "name": "stdout"
        },
        {
          "output_type": "stream",
          "text": [
            "/usr/local/lib/python3.6/dist-packages/urllib3/connectionpool.py:847: InsecureRequestWarning: Unverified HTTPS request is being made. Adding certificate verification is strongly advised. See: https://urllib3.readthedocs.io/en/latest/advanced-usage.html#ssl-warnings\n",
            "  InsecureRequestWarning)\n",
            "/usr/local/lib/python3.6/dist-packages/urllib3/connectionpool.py:847: InsecureRequestWarning: Unverified HTTPS request is being made. Adding certificate verification is strongly advised. See: https://urllib3.readthedocs.io/en/latest/advanced-usage.html#ssl-warnings\n",
            "  InsecureRequestWarning)\n"
          ],
          "name": "stderr"
        },
        {
          "output_type": "stream",
          "text": [
            "Image sucessfully Downloaded:  84857-009-05.jpg\n",
            "Image sucessfully Downloaded:  84857-226-05.jpg\n"
          ],
          "name": "stdout"
        },
        {
          "output_type": "stream",
          "text": [
            "/usr/local/lib/python3.6/dist-packages/urllib3/connectionpool.py:847: InsecureRequestWarning: Unverified HTTPS request is being made. Adding certificate verification is strongly advised. See: https://urllib3.readthedocs.io/en/latest/advanced-usage.html#ssl-warnings\n",
            "  InsecureRequestWarning)\n",
            "/usr/local/lib/python3.6/dist-packages/urllib3/connectionpool.py:847: InsecureRequestWarning: Unverified HTTPS request is being made. Adding certificate verification is strongly advised. See: https://urllib3.readthedocs.io/en/latest/advanced-usage.html#ssl-warnings\n",
            "  InsecureRequestWarning)\n"
          ],
          "name": "stderr"
        },
        {
          "output_type": "stream",
          "text": [
            "Image sucessfully Downloaded:  84859-009-05.jpg\n",
            "Image sucessfully Downloaded:  84859-226-05.jpg\n"
          ],
          "name": "stdout"
        },
        {
          "output_type": "stream",
          "text": [
            "/usr/local/lib/python3.6/dist-packages/urllib3/connectionpool.py:847: InsecureRequestWarning: Unverified HTTPS request is being made. Adding certificate verification is strongly advised. See: https://urllib3.readthedocs.io/en/latest/advanced-usage.html#ssl-warnings\n",
            "  InsecureRequestWarning)\n",
            "/usr/local/lib/python3.6/dist-packages/urllib3/connectionpool.py:847: InsecureRequestWarning: Unverified HTTPS request is being made. Adding certificate verification is strongly advised. See: https://urllib3.readthedocs.io/en/latest/advanced-usage.html#ssl-warnings\n",
            "  InsecureRequestWarning)\n"
          ],
          "name": "stderr"
        },
        {
          "output_type": "stream",
          "text": [
            "Image sucessfully Downloaded:  84870-001-05.jpg\n"
          ],
          "name": "stdout"
        },
        {
          "output_type": "stream",
          "text": [
            "/usr/local/lib/python3.6/dist-packages/urllib3/connectionpool.py:847: InsecureRequestWarning: Unverified HTTPS request is being made. Adding certificate verification is strongly advised. See: https://urllib3.readthedocs.io/en/latest/advanced-usage.html#ssl-warnings\n",
            "  InsecureRequestWarning)\n"
          ],
          "name": "stderr"
        },
        {
          "output_type": "stream",
          "text": [
            "Image sucessfully Downloaded:  84870-215-05.jpg\n"
          ],
          "name": "stdout"
        },
        {
          "output_type": "stream",
          "text": [
            "/usr/local/lib/python3.6/dist-packages/urllib3/connectionpool.py:847: InsecureRequestWarning: Unverified HTTPS request is being made. Adding certificate verification is strongly advised. See: https://urllib3.readthedocs.io/en/latest/advanced-usage.html#ssl-warnings\n",
            "  InsecureRequestWarning)\n"
          ],
          "name": "stderr"
        },
        {
          "output_type": "stream",
          "text": [
            "Image sucessfully Downloaded:  84870-226-05.jpg\n"
          ],
          "name": "stdout"
        },
        {
          "output_type": "stream",
          "text": [
            "/usr/local/lib/python3.6/dist-packages/urllib3/connectionpool.py:847: InsecureRequestWarning: Unverified HTTPS request is being made. Adding certificate verification is strongly advised. See: https://urllib3.readthedocs.io/en/latest/advanced-usage.html#ssl-warnings\n",
            "  InsecureRequestWarning)\n"
          ],
          "name": "stderr"
        },
        {
          "output_type": "stream",
          "text": [
            "Image sucessfully Downloaded:  84879-007-05.jpg\n"
          ],
          "name": "stdout"
        },
        {
          "output_type": "stream",
          "text": [
            "/usr/local/lib/python3.6/dist-packages/urllib3/connectionpool.py:847: InsecureRequestWarning: Unverified HTTPS request is being made. Adding certificate verification is strongly advised. See: https://urllib3.readthedocs.io/en/latest/advanced-usage.html#ssl-warnings\n",
            "  InsecureRequestWarning)\n"
          ],
          "name": "stderr"
        },
        {
          "output_type": "stream",
          "text": [
            "Image sucessfully Downloaded:  84879-229-05.jpg\n"
          ],
          "name": "stdout"
        },
        {
          "output_type": "stream",
          "text": [
            "/usr/local/lib/python3.6/dist-packages/urllib3/connectionpool.py:847: InsecureRequestWarning: Unverified HTTPS request is being made. Adding certificate verification is strongly advised. See: https://urllib3.readthedocs.io/en/latest/advanced-usage.html#ssl-warnings\n",
            "  InsecureRequestWarning)\n"
          ],
          "name": "stderr"
        },
        {
          "output_type": "stream",
          "text": [
            "Image sucessfully Downloaded:  84901-007-05.jpg\n"
          ],
          "name": "stdout"
        },
        {
          "output_type": "stream",
          "text": [
            "/usr/local/lib/python3.6/dist-packages/urllib3/connectionpool.py:847: InsecureRequestWarning: Unverified HTTPS request is being made. Adding certificate verification is strongly advised. See: https://urllib3.readthedocs.io/en/latest/advanced-usage.html#ssl-warnings\n",
            "  InsecureRequestWarning)\n"
          ],
          "name": "stderr"
        },
        {
          "output_type": "stream",
          "text": [
            "Image sucessfully Downloaded:  84901-240-05.jpg\n"
          ],
          "name": "stdout"
        },
        {
          "output_type": "stream",
          "text": [
            "/usr/local/lib/python3.6/dist-packages/urllib3/connectionpool.py:847: InsecureRequestWarning: Unverified HTTPS request is being made. Adding certificate verification is strongly advised. See: https://urllib3.readthedocs.io/en/latest/advanced-usage.html#ssl-warnings\n",
            "  InsecureRequestWarning)\n",
            "/usr/local/lib/python3.6/dist-packages/urllib3/connectionpool.py:847: InsecureRequestWarning: Unverified HTTPS request is being made. Adding certificate verification is strongly advised. See: https://urllib3.readthedocs.io/en/latest/advanced-usage.html#ssl-warnings\n",
            "  InsecureRequestWarning)\n"
          ],
          "name": "stderr"
        },
        {
          "output_type": "stream",
          "text": [
            "Image sucessfully Downloaded:  84826-238-06.jpg\n",
            "Image sucessfully Downloaded:  84827-238-06.jpg\n"
          ],
          "name": "stdout"
        },
        {
          "output_type": "stream",
          "text": [
            "/usr/local/lib/python3.6/dist-packages/urllib3/connectionpool.py:847: InsecureRequestWarning: Unverified HTTPS request is being made. Adding certificate verification is strongly advised. See: https://urllib3.readthedocs.io/en/latest/advanced-usage.html#ssl-warnings\n",
            "  InsecureRequestWarning)\n"
          ],
          "name": "stderr"
        },
        {
          "output_type": "stream",
          "text": [
            "Image sucessfully Downloaded:  84828-200-06.jpg\n",
            "Image sucessfully Downloaded:  84848-001-06.jpg\n"
          ],
          "name": "stdout"
        },
        {
          "output_type": "stream",
          "text": [
            "/usr/local/lib/python3.6/dist-packages/urllib3/connectionpool.py:847: InsecureRequestWarning: Unverified HTTPS request is being made. Adding certificate verification is strongly advised. See: https://urllib3.readthedocs.io/en/latest/advanced-usage.html#ssl-warnings\n",
            "  InsecureRequestWarning)\n",
            "/usr/local/lib/python3.6/dist-packages/urllib3/connectionpool.py:847: InsecureRequestWarning: Unverified HTTPS request is being made. Adding certificate verification is strongly advised. See: https://urllib3.readthedocs.io/en/latest/advanced-usage.html#ssl-warnings\n",
            "  InsecureRequestWarning)\n"
          ],
          "name": "stderr"
        },
        {
          "output_type": "stream",
          "text": [
            "Image sucessfully Downloaded:  84848-221-06.jpg\n",
            "Image sucessfully Downloaded:  84849-001-06.jpg\n"
          ],
          "name": "stdout"
        },
        {
          "output_type": "stream",
          "text": [
            "/usr/local/lib/python3.6/dist-packages/urllib3/connectionpool.py:847: InsecureRequestWarning: Unverified HTTPS request is being made. Adding certificate verification is strongly advised. See: https://urllib3.readthedocs.io/en/latest/advanced-usage.html#ssl-warnings\n",
            "  InsecureRequestWarning)\n",
            "/usr/local/lib/python3.6/dist-packages/urllib3/connectionpool.py:847: InsecureRequestWarning: Unverified HTTPS request is being made. Adding certificate verification is strongly advised. See: https://urllib3.readthedocs.io/en/latest/advanced-usage.html#ssl-warnings\n",
            "  InsecureRequestWarning)\n"
          ],
          "name": "stderr"
        },
        {
          "output_type": "stream",
          "text": [
            "Image sucessfully Downloaded:  84849-229-06.jpg\n"
          ],
          "name": "stdout"
        },
        {
          "output_type": "stream",
          "text": [
            "/usr/local/lib/python3.6/dist-packages/urllib3/connectionpool.py:847: InsecureRequestWarning: Unverified HTTPS request is being made. Adding certificate verification is strongly advised. See: https://urllib3.readthedocs.io/en/latest/advanced-usage.html#ssl-warnings\n",
            "  InsecureRequestWarning)\n"
          ],
          "name": "stderr"
        },
        {
          "output_type": "stream",
          "text": [
            "Image sucessfully Downloaded:  84849-415-06.jpg\n",
            "Image sucessfully Downloaded:  84852-009-06.jpg\n"
          ],
          "name": "stdout"
        },
        {
          "output_type": "stream",
          "text": [
            "/usr/local/lib/python3.6/dist-packages/urllib3/connectionpool.py:847: InsecureRequestWarning: Unverified HTTPS request is being made. Adding certificate verification is strongly advised. See: https://urllib3.readthedocs.io/en/latest/advanced-usage.html#ssl-warnings\n",
            "  InsecureRequestWarning)\n",
            "/usr/local/lib/python3.6/dist-packages/urllib3/connectionpool.py:847: InsecureRequestWarning: Unverified HTTPS request is being made. Adding certificate verification is strongly advised. See: https://urllib3.readthedocs.io/en/latest/advanced-usage.html#ssl-warnings\n",
            "  InsecureRequestWarning)\n"
          ],
          "name": "stderr"
        },
        {
          "output_type": "stream",
          "text": [
            "Image sucessfully Downloaded:  84852-229-06.jpg\n",
            "Image sucessfully Downloaded:  84853-009-06.jpg\n"
          ],
          "name": "stdout"
        },
        {
          "output_type": "stream",
          "text": [
            "/usr/local/lib/python3.6/dist-packages/urllib3/connectionpool.py:847: InsecureRequestWarning: Unverified HTTPS request is being made. Adding certificate verification is strongly advised. See: https://urllib3.readthedocs.io/en/latest/advanced-usage.html#ssl-warnings\n",
            "  InsecureRequestWarning)\n",
            "/usr/local/lib/python3.6/dist-packages/urllib3/connectionpool.py:847: InsecureRequestWarning: Unverified HTTPS request is being made. Adding certificate verification is strongly advised. See: https://urllib3.readthedocs.io/en/latest/advanced-usage.html#ssl-warnings\n",
            "  InsecureRequestWarning)\n"
          ],
          "name": "stderr"
        },
        {
          "output_type": "stream",
          "text": [
            "Image sucessfully Downloaded:  84853-229-06.jpg\n",
            "Image sucessfully Downloaded:  84857-009-06.jpg\n"
          ],
          "name": "stdout"
        },
        {
          "output_type": "stream",
          "text": [
            "/usr/local/lib/python3.6/dist-packages/urllib3/connectionpool.py:847: InsecureRequestWarning: Unverified HTTPS request is being made. Adding certificate verification is strongly advised. See: https://urllib3.readthedocs.io/en/latest/advanced-usage.html#ssl-warnings\n",
            "  InsecureRequestWarning)\n",
            "/usr/local/lib/python3.6/dist-packages/urllib3/connectionpool.py:847: InsecureRequestWarning: Unverified HTTPS request is being made. Adding certificate verification is strongly advised. See: https://urllib3.readthedocs.io/en/latest/advanced-usage.html#ssl-warnings\n",
            "  InsecureRequestWarning)\n"
          ],
          "name": "stderr"
        },
        {
          "output_type": "stream",
          "text": [
            "Image sucessfully Downloaded:  84857-226-06.jpg\n",
            "Image sucessfully Downloaded:  84859-009-06.jpg\n"
          ],
          "name": "stdout"
        },
        {
          "output_type": "stream",
          "text": [
            "/usr/local/lib/python3.6/dist-packages/urllib3/connectionpool.py:847: InsecureRequestWarning: Unverified HTTPS request is being made. Adding certificate verification is strongly advised. See: https://urllib3.readthedocs.io/en/latest/advanced-usage.html#ssl-warnings\n",
            "  InsecureRequestWarning)\n",
            "/usr/local/lib/python3.6/dist-packages/urllib3/connectionpool.py:847: InsecureRequestWarning: Unverified HTTPS request is being made. Adding certificate verification is strongly advised. See: https://urllib3.readthedocs.io/en/latest/advanced-usage.html#ssl-warnings\n",
            "  InsecureRequestWarning)\n"
          ],
          "name": "stderr"
        },
        {
          "output_type": "stream",
          "text": [
            "Image sucessfully Downloaded:  84859-226-06.jpg\n",
            "Image sucessfully Downloaded:  84870-001-06.jpg\n"
          ],
          "name": "stdout"
        },
        {
          "output_type": "stream",
          "text": [
            "/usr/local/lib/python3.6/dist-packages/urllib3/connectionpool.py:847: InsecureRequestWarning: Unverified HTTPS request is being made. Adding certificate verification is strongly advised. See: https://urllib3.readthedocs.io/en/latest/advanced-usage.html#ssl-warnings\n",
            "  InsecureRequestWarning)\n",
            "/usr/local/lib/python3.6/dist-packages/urllib3/connectionpool.py:847: InsecureRequestWarning: Unverified HTTPS request is being made. Adding certificate verification is strongly advised. See: https://urllib3.readthedocs.io/en/latest/advanced-usage.html#ssl-warnings\n",
            "  InsecureRequestWarning)\n"
          ],
          "name": "stderr"
        },
        {
          "output_type": "stream",
          "text": [
            "Image sucessfully Downloaded:  84870-215-06.jpg\n",
            "Image sucessfully Downloaded:  84870-226-06.jpg\n"
          ],
          "name": "stdout"
        },
        {
          "output_type": "stream",
          "text": [
            "/usr/local/lib/python3.6/dist-packages/urllib3/connectionpool.py:847: InsecureRequestWarning: Unverified HTTPS request is being made. Adding certificate verification is strongly advised. See: https://urllib3.readthedocs.io/en/latest/advanced-usage.html#ssl-warnings\n",
            "  InsecureRequestWarning)\n",
            "/usr/local/lib/python3.6/dist-packages/urllib3/connectionpool.py:847: InsecureRequestWarning: Unverified HTTPS request is being made. Adding certificate verification is strongly advised. See: https://urllib3.readthedocs.io/en/latest/advanced-usage.html#ssl-warnings\n",
            "  InsecureRequestWarning)\n"
          ],
          "name": "stderr"
        },
        {
          "output_type": "stream",
          "text": [
            "Image sucessfully Downloaded:  84879-007-06.jpg\n",
            "Image sucessfully Downloaded:  84879-229-06.jpg\n"
          ],
          "name": "stdout"
        },
        {
          "output_type": "stream",
          "text": [
            "/usr/local/lib/python3.6/dist-packages/urllib3/connectionpool.py:847: InsecureRequestWarning: Unverified HTTPS request is being made. Adding certificate verification is strongly advised. See: https://urllib3.readthedocs.io/en/latest/advanced-usage.html#ssl-warnings\n",
            "  InsecureRequestWarning)\n",
            "/usr/local/lib/python3.6/dist-packages/urllib3/connectionpool.py:847: InsecureRequestWarning: Unverified HTTPS request is being made. Adding certificate verification is strongly advised. See: https://urllib3.readthedocs.io/en/latest/advanced-usage.html#ssl-warnings\n",
            "  InsecureRequestWarning)\n"
          ],
          "name": "stderr"
        },
        {
          "output_type": "stream",
          "text": [
            "Image sucessfully Downloaded:  84901-007-06.jpg\n",
            "Image sucessfully Downloaded:  84901-240-06.jpg\n",
            "['https://www.bogsfootwear.com/shop/rotate/71460-001/01.jpg', 'https://www.bogsfootwear.com/shop/rotate/72165I-409/01.jpg', 'https://www.bogsfootwear.com/shop/rotate/72606I-074/01.jpg', 'https://www.bogsfootwear.com/shop/rotate/78756-009/01.jpg', 'https://www.bogsfootwear.com/shop/rotate/78759-009/01.jpg', 'https://www.bogsfootwear.com/shop/rotate/78759-540/01.jpg', 'https://www.bogsfootwear.com/shop/rotate/60542-973/01.jpg', 'https://www.bogsfootwear.com/shop/rotate/61142-001/01.jpg', 'https://www.bogsfootwear.com/shop/rotate/69172-001/01.jpg', 'https://www.bogsfootwear.com/shop/rotate/72132-001/01.jpg', 'https://www.bogsfootwear.com/shop/rotate/72234CT-001/01.jpg', 'https://www.bogsfootwear.com/shop/rotate/72234CT-200/01.jpg', 'https://www.bogsfootwear.com/shop/rotate/72235CT-200/01.jpg', 'https://www.bogsfootwear.com/shop/rotate/72301CT-009/01.jpg', 'https://www.bogsfootwear.com/shop/rotate/72301CT-249/01.jpg', 'https://www.bogsfootwear.com/shop/rotate/72302CT-009/01.jpg', 'https://www.bogsfootwear.com/shop/rotate/72302CT-249/01.jpg', 'https://www.bogsfootwear.com/shop/rotate/72303CT-249/01.jpg', 'https://www.bogsfootwear.com/shop/rotate/72469-201/01.jpg', 'https://www.bogsfootwear.com/shop/rotate/72469-231/01.jpg', 'https://www.bogsfootwear.com/shop/rotate/72470-020/01.jpg', 'https://www.bogsfootwear.com/shop/rotate/72470-201/01.jpg', 'https://www.bogsfootwear.com/shop/rotate/72470-231/01.jpg', 'https://www.bogsfootwear.com/shop/rotate/72619-001/01.jpg', 'https://www.bogsfootwear.com/shop/rotate/72619-200/01.jpg', 'https://www.bogsfootwear.com/shop/rotate/72197-001/01.jpg', 'https://www.bogsfootwear.com/shop/rotate/72197-306/01.jpg', 'https://www.bogsfootwear.com/shop/rotate/72198-001/01.jpg', 'https://www.bogsfootwear.com/shop/rotate/72198-306/01.jpg', 'https://www.bogsfootwear.com/shop/rotate/72198-500/01.jpg', 'https://www.bogsfootwear.com/shop/rotate/72400-001/01.jpg', 'https://www.bogsfootwear.com/shop/rotate/72400-040/01.jpg', 'https://www.bogsfootwear.com/shop/rotate/72406-001/01.jpg', 'https://www.bogsfootwear.com/shop/rotate/72406-303/01.jpg', 'https://www.bogsfootwear.com/shop/rotate/72412-221/01.jpg', 'https://www.bogsfootwear.com/shop/rotate/72412-260/01.jpg', 'https://www.bogsfootwear.com/shop/rotate/72413-221/01.jpg', 'https://www.bogsfootwear.com/shop/rotate/72413-260/01.jpg', 'https://www.bogsfootwear.com/shop/rotate/72522-009/01.jpg', 'https://www.bogsfootwear.com/shop/rotate/71460-001/02.jpg', 'https://www.bogsfootwear.com/shop/rotate/72165I-409/02.jpg', 'https://www.bogsfootwear.com/shop/rotate/72606I-074/02.jpg', 'https://www.bogsfootwear.com/shop/rotate/78756-009/02.jpg', 'https://www.bogsfootwear.com/shop/rotate/78759-009/02.jpg', 'https://www.bogsfootwear.com/shop/rotate/78759-540/02.jpg', 'https://www.bogsfootwear.com/shop/rotate/60542-973/02.jpg', 'https://www.bogsfootwear.com/shop/rotate/61142-001/02.jpg', 'https://www.bogsfootwear.com/shop/rotate/69172-001/02.jpg', 'https://www.bogsfootwear.com/shop/rotate/72132-001/02.jpg', 'https://www.bogsfootwear.com/shop/rotate/72234CT-001/02.jpg', 'https://www.bogsfootwear.com/shop/rotate/72234CT-200/02.jpg', 'https://www.bogsfootwear.com/shop/rotate/72235CT-200/02.jpg', 'https://www.bogsfootwear.com/shop/rotate/72301CT-009/02.jpg', 'https://www.bogsfootwear.com/shop/rotate/72301CT-249/02.jpg', 'https://www.bogsfootwear.com/shop/rotate/72302CT-009/02.jpg', 'https://www.bogsfootwear.com/shop/rotate/72302CT-249/02.jpg', 'https://www.bogsfootwear.com/shop/rotate/72303CT-249/02.jpg', 'https://www.bogsfootwear.com/shop/rotate/72469-201/02.jpg', 'https://www.bogsfootwear.com/shop/rotate/72469-231/02.jpg', 'https://www.bogsfootwear.com/shop/rotate/72470-020/02.jpg', 'https://www.bogsfootwear.com/shop/rotate/72470-201/02.jpg', 'https://www.bogsfootwear.com/shop/rotate/72470-231/02.jpg', 'https://www.bogsfootwear.com/shop/rotate/72619-001/02.jpg', 'https://www.bogsfootwear.com/shop/rotate/72619-200/02.jpg', 'https://www.bogsfootwear.com/shop/rotate/72197-001/02.jpg', 'https://www.bogsfootwear.com/shop/rotate/72197-306/02.jpg', 'https://www.bogsfootwear.com/shop/rotate/72198-001/02.jpg', 'https://www.bogsfootwear.com/shop/rotate/72198-306/02.jpg', 'https://www.bogsfootwear.com/shop/rotate/72198-500/02.jpg', 'https://www.bogsfootwear.com/shop/rotate/72400-001/02.jpg', 'https://www.bogsfootwear.com/shop/rotate/72400-040/02.jpg', 'https://www.bogsfootwear.com/shop/rotate/72406-001/02.jpg', 'https://www.bogsfootwear.com/shop/rotate/72406-303/02.jpg', 'https://www.bogsfootwear.com/shop/rotate/72412-221/02.jpg', 'https://www.bogsfootwear.com/shop/rotate/72412-260/02.jpg', 'https://www.bogsfootwear.com/shop/rotate/72413-221/02.jpg', 'https://www.bogsfootwear.com/shop/rotate/72413-260/02.jpg', 'https://www.bogsfootwear.com/shop/rotate/72522-009/02.jpg', 'https://www.bogsfootwear.com/shop/rotate/71460-001/03.jpg', 'https://www.bogsfootwear.com/shop/rotate/72165I-409/03.jpg', 'https://www.bogsfootwear.com/shop/rotate/72606I-074/03.jpg', 'https://www.bogsfootwear.com/shop/rotate/78756-009/03.jpg', 'https://www.bogsfootwear.com/shop/rotate/78759-009/03.jpg', 'https://www.bogsfootwear.com/shop/rotate/78759-540/03.jpg', 'https://www.bogsfootwear.com/shop/rotate/60542-973/03.jpg', 'https://www.bogsfootwear.com/shop/rotate/61142-001/03.jpg', 'https://www.bogsfootwear.com/shop/rotate/69172-001/03.jpg', 'https://www.bogsfootwear.com/shop/rotate/72132-001/03.jpg', 'https://www.bogsfootwear.com/shop/rotate/72234CT-001/03.jpg', 'https://www.bogsfootwear.com/shop/rotate/72234CT-200/03.jpg', 'https://www.bogsfootwear.com/shop/rotate/72235CT-200/03.jpg', 'https://www.bogsfootwear.com/shop/rotate/72301CT-009/03.jpg', 'https://www.bogsfootwear.com/shop/rotate/72301CT-249/03.jpg', 'https://www.bogsfootwear.com/shop/rotate/72302CT-009/03.jpg', 'https://www.bogsfootwear.com/shop/rotate/72302CT-249/03.jpg', 'https://www.bogsfootwear.com/shop/rotate/72303CT-249/03.jpg', 'https://www.bogsfootwear.com/shop/rotate/72469-201/03.jpg', 'https://www.bogsfootwear.com/shop/rotate/72469-231/03.jpg', 'https://www.bogsfootwear.com/shop/rotate/72470-020/03.jpg', 'https://www.bogsfootwear.com/shop/rotate/72470-201/03.jpg', 'https://www.bogsfootwear.com/shop/rotate/72470-231/03.jpg', 'https://www.bogsfootwear.com/shop/rotate/72619-001/03.jpg', 'https://www.bogsfootwear.com/shop/rotate/72619-200/03.jpg', 'https://www.bogsfootwear.com/shop/rotate/72197-001/03.jpg', 'https://www.bogsfootwear.com/shop/rotate/72197-306/03.jpg', 'https://www.bogsfootwear.com/shop/rotate/72198-001/03.jpg', 'https://www.bogsfootwear.com/shop/rotate/72198-306/03.jpg', 'https://www.bogsfootwear.com/shop/rotate/72198-500/03.jpg', 'https://www.bogsfootwear.com/shop/rotate/72400-001/03.jpg', 'https://www.bogsfootwear.com/shop/rotate/72400-040/03.jpg', 'https://www.bogsfootwear.com/shop/rotate/72406-001/03.jpg', 'https://www.bogsfootwear.com/shop/rotate/72406-303/03.jpg', 'https://www.bogsfootwear.com/shop/rotate/72412-221/03.jpg', 'https://www.bogsfootwear.com/shop/rotate/72412-260/03.jpg', 'https://www.bogsfootwear.com/shop/rotate/72413-221/03.jpg', 'https://www.bogsfootwear.com/shop/rotate/72413-260/03.jpg', 'https://www.bogsfootwear.com/shop/rotate/72522-009/03.jpg', 'https://www.bogsfootwear.com/shop/rotate/71460-001/04.jpg', 'https://www.bogsfootwear.com/shop/rotate/72165I-409/04.jpg', 'https://www.bogsfootwear.com/shop/rotate/72606I-074/04.jpg', 'https://www.bogsfootwear.com/shop/rotate/78756-009/04.jpg', 'https://www.bogsfootwear.com/shop/rotate/78759-009/04.jpg', 'https://www.bogsfootwear.com/shop/rotate/78759-540/04.jpg', 'https://www.bogsfootwear.com/shop/rotate/60542-973/04.jpg', 'https://www.bogsfootwear.com/shop/rotate/61142-001/04.jpg', 'https://www.bogsfootwear.com/shop/rotate/69172-001/04.jpg', 'https://www.bogsfootwear.com/shop/rotate/72132-001/04.jpg', 'https://www.bogsfootwear.com/shop/rotate/72234CT-001/04.jpg', 'https://www.bogsfootwear.com/shop/rotate/72234CT-200/04.jpg', 'https://www.bogsfootwear.com/shop/rotate/72235CT-200/04.jpg', 'https://www.bogsfootwear.com/shop/rotate/72301CT-009/04.jpg', 'https://www.bogsfootwear.com/shop/rotate/72301CT-249/04.jpg', 'https://www.bogsfootwear.com/shop/rotate/72302CT-009/04.jpg', 'https://www.bogsfootwear.com/shop/rotate/72302CT-249/04.jpg', 'https://www.bogsfootwear.com/shop/rotate/72303CT-249/04.jpg', 'https://www.bogsfootwear.com/shop/rotate/72469-201/04.jpg', 'https://www.bogsfootwear.com/shop/rotate/72469-231/04.jpg', 'https://www.bogsfootwear.com/shop/rotate/72470-020/04.jpg', 'https://www.bogsfootwear.com/shop/rotate/72470-201/04.jpg', 'https://www.bogsfootwear.com/shop/rotate/72470-231/04.jpg', 'https://www.bogsfootwear.com/shop/rotate/72619-001/04.jpg', 'https://www.bogsfootwear.com/shop/rotate/72619-200/04.jpg', 'https://www.bogsfootwear.com/shop/rotate/72197-001/04.jpg', 'https://www.bogsfootwear.com/shop/rotate/72197-306/04.jpg', 'https://www.bogsfootwear.com/shop/rotate/72198-001/04.jpg', 'https://www.bogsfootwear.com/shop/rotate/72198-306/04.jpg', 'https://www.bogsfootwear.com/shop/rotate/72198-500/04.jpg', 'https://www.bogsfootwear.com/shop/rotate/72400-001/04.jpg', 'https://www.bogsfootwear.com/shop/rotate/72400-040/04.jpg', 'https://www.bogsfootwear.com/shop/rotate/72406-001/04.jpg', 'https://www.bogsfootwear.com/shop/rotate/72406-303/04.jpg', 'https://www.bogsfootwear.com/shop/rotate/72412-221/04.jpg', 'https://www.bogsfootwear.com/shop/rotate/72412-260/04.jpg', 'https://www.bogsfootwear.com/shop/rotate/72413-221/04.jpg', 'https://www.bogsfootwear.com/shop/rotate/72413-260/04.jpg', 'https://www.bogsfootwear.com/shop/rotate/72522-009/04.jpg', 'https://www.bogsfootwear.com/shop/rotate/71460-001/05.jpg', 'https://www.bogsfootwear.com/shop/rotate/72165I-409/05.jpg', 'https://www.bogsfootwear.com/shop/rotate/72606I-074/05.jpg', 'https://www.bogsfootwear.com/shop/rotate/78756-009/05.jpg', 'https://www.bogsfootwear.com/shop/rotate/78759-009/05.jpg', 'https://www.bogsfootwear.com/shop/rotate/78759-540/05.jpg', 'https://www.bogsfootwear.com/shop/rotate/60542-973/05.jpg', 'https://www.bogsfootwear.com/shop/rotate/61142-001/05.jpg', 'https://www.bogsfootwear.com/shop/rotate/69172-001/05.jpg', 'https://www.bogsfootwear.com/shop/rotate/72132-001/05.jpg', 'https://www.bogsfootwear.com/shop/rotate/72234CT-001/05.jpg', 'https://www.bogsfootwear.com/shop/rotate/72234CT-200/05.jpg', 'https://www.bogsfootwear.com/shop/rotate/72235CT-200/05.jpg', 'https://www.bogsfootwear.com/shop/rotate/72301CT-009/05.jpg', 'https://www.bogsfootwear.com/shop/rotate/72301CT-249/05.jpg', 'https://www.bogsfootwear.com/shop/rotate/72302CT-009/05.jpg', 'https://www.bogsfootwear.com/shop/rotate/72302CT-249/05.jpg', 'https://www.bogsfootwear.com/shop/rotate/72303CT-249/05.jpg', 'https://www.bogsfootwear.com/shop/rotate/72469-201/05.jpg', 'https://www.bogsfootwear.com/shop/rotate/72469-231/05.jpg', 'https://www.bogsfootwear.com/shop/rotate/72470-020/05.jpg', 'https://www.bogsfootwear.com/shop/rotate/72470-201/05.jpg', 'https://www.bogsfootwear.com/shop/rotate/72470-231/05.jpg', 'https://www.bogsfootwear.com/shop/rotate/72619-001/05.jpg', 'https://www.bogsfootwear.com/shop/rotate/72619-200/05.jpg', 'https://www.bogsfootwear.com/shop/rotate/72197-001/05.jpg', 'https://www.bogsfootwear.com/shop/rotate/72197-306/05.jpg', 'https://www.bogsfootwear.com/shop/rotate/72198-001/05.jpg', 'https://www.bogsfootwear.com/shop/rotate/72198-306/05.jpg', 'https://www.bogsfootwear.com/shop/rotate/72198-500/05.jpg', 'https://www.bogsfootwear.com/shop/rotate/72400-001/05.jpg', 'https://www.bogsfootwear.com/shop/rotate/72400-040/05.jpg', 'https://www.bogsfootwear.com/shop/rotate/72406-001/05.jpg', 'https://www.bogsfootwear.com/shop/rotate/72406-303/05.jpg', 'https://www.bogsfootwear.com/shop/rotate/72412-221/05.jpg', 'https://www.bogsfootwear.com/shop/rotate/72412-260/05.jpg', 'https://www.bogsfootwear.com/shop/rotate/72413-221/05.jpg', 'https://www.bogsfootwear.com/shop/rotate/72413-260/05.jpg', 'https://www.bogsfootwear.com/shop/rotate/72522-009/05.jpg', 'https://www.bogsfootwear.com/shop/rotate/71460-001/06.jpg', 'https://www.bogsfootwear.com/shop/rotate/72165I-409/06.jpg', 'https://www.bogsfootwear.com/shop/rotate/72606I-074/06.jpg', 'https://www.bogsfootwear.com/shop/rotate/78756-009/06.jpg', 'https://www.bogsfootwear.com/shop/rotate/78759-009/06.jpg', 'https://www.bogsfootwear.com/shop/rotate/78759-540/06.jpg', 'https://www.bogsfootwear.com/shop/rotate/60542-973/06.jpg', 'https://www.bogsfootwear.com/shop/rotate/61142-001/06.jpg', 'https://www.bogsfootwear.com/shop/rotate/69172-001/06.jpg', 'https://www.bogsfootwear.com/shop/rotate/72132-001/06.jpg', 'https://www.bogsfootwear.com/shop/rotate/72234CT-001/06.jpg', 'https://www.bogsfootwear.com/shop/rotate/72234CT-200/06.jpg', 'https://www.bogsfootwear.com/shop/rotate/72235CT-200/06.jpg', 'https://www.bogsfootwear.com/shop/rotate/72301CT-009/06.jpg', 'https://www.bogsfootwear.com/shop/rotate/72301CT-249/06.jpg', 'https://www.bogsfootwear.com/shop/rotate/72302CT-009/06.jpg', 'https://www.bogsfootwear.com/shop/rotate/72302CT-249/06.jpg', 'https://www.bogsfootwear.com/shop/rotate/72303CT-249/06.jpg', 'https://www.bogsfootwear.com/shop/rotate/72469-201/06.jpg', 'https://www.bogsfootwear.com/shop/rotate/72469-231/06.jpg', 'https://www.bogsfootwear.com/shop/rotate/72470-020/06.jpg', 'https://www.bogsfootwear.com/shop/rotate/72470-201/06.jpg', 'https://www.bogsfootwear.com/shop/rotate/72470-231/06.jpg', 'https://www.bogsfootwear.com/shop/rotate/72619-001/06.jpg', 'https://www.bogsfootwear.com/shop/rotate/72619-200/06.jpg', 'https://www.bogsfootwear.com/shop/rotate/72197-001/06.jpg', 'https://www.bogsfootwear.com/shop/rotate/72197-306/06.jpg', 'https://www.bogsfootwear.com/shop/rotate/72198-001/06.jpg', 'https://www.bogsfootwear.com/shop/rotate/72198-306/06.jpg', 'https://www.bogsfootwear.com/shop/rotate/72198-500/06.jpg', 'https://www.bogsfootwear.com/shop/rotate/72400-001/06.jpg', 'https://www.bogsfootwear.com/shop/rotate/72400-040/06.jpg', 'https://www.bogsfootwear.com/shop/rotate/72406-001/06.jpg', 'https://www.bogsfootwear.com/shop/rotate/72406-303/06.jpg', 'https://www.bogsfootwear.com/shop/rotate/72412-221/06.jpg', 'https://www.bogsfootwear.com/shop/rotate/72412-260/06.jpg', 'https://www.bogsfootwear.com/shop/rotate/72413-221/06.jpg', 'https://www.bogsfootwear.com/shop/rotate/72413-260/06.jpg', 'https://www.bogsfootwear.com/shop/rotate/72522-009/06.jpg']\n"
          ],
          "name": "stdout"
        },
        {
          "output_type": "stream",
          "text": [
            "/usr/local/lib/python3.6/dist-packages/urllib3/connectionpool.py:847: InsecureRequestWarning: Unverified HTTPS request is being made. Adding certificate verification is strongly advised. See: https://urllib3.readthedocs.io/en/latest/advanced-usage.html#ssl-warnings\n",
            "  InsecureRequestWarning)\n",
            "/usr/local/lib/python3.6/dist-packages/urllib3/connectionpool.py:847: InsecureRequestWarning: Unverified HTTPS request is being made. Adding certificate verification is strongly advised. See: https://urllib3.readthedocs.io/en/latest/advanced-usage.html#ssl-warnings\n",
            "  InsecureRequestWarning)\n"
          ],
          "name": "stderr"
        },
        {
          "output_type": "stream",
          "text": [
            "Image sucessfully Downloaded:  71460-001-01.jpg\n"
          ],
          "name": "stdout"
        },
        {
          "output_type": "stream",
          "text": [
            "/usr/local/lib/python3.6/dist-packages/urllib3/connectionpool.py:847: InsecureRequestWarning: Unverified HTTPS request is being made. Adding certificate verification is strongly advised. See: https://urllib3.readthedocs.io/en/latest/advanced-usage.html#ssl-warnings\n",
            "  InsecureRequestWarning)\n"
          ],
          "name": "stderr"
        },
        {
          "output_type": "stream",
          "text": [
            "Image sucessfully Downloaded:  72165I-409-01.jpg\n"
          ],
          "name": "stdout"
        },
        {
          "output_type": "stream",
          "text": [
            "/usr/local/lib/python3.6/dist-packages/urllib3/connectionpool.py:847: InsecureRequestWarning: Unverified HTTPS request is being made. Adding certificate verification is strongly advised. See: https://urllib3.readthedocs.io/en/latest/advanced-usage.html#ssl-warnings\n",
            "  InsecureRequestWarning)\n"
          ],
          "name": "stderr"
        },
        {
          "output_type": "stream",
          "text": [
            "Image sucessfully Downloaded:  72606I-074-01.jpg\n"
          ],
          "name": "stdout"
        },
        {
          "output_type": "stream",
          "text": [
            "/usr/local/lib/python3.6/dist-packages/urllib3/connectionpool.py:847: InsecureRequestWarning: Unverified HTTPS request is being made. Adding certificate verification is strongly advised. See: https://urllib3.readthedocs.io/en/latest/advanced-usage.html#ssl-warnings\n",
            "  InsecureRequestWarning)\n"
          ],
          "name": "stderr"
        },
        {
          "output_type": "stream",
          "text": [
            "Image sucessfully Downloaded:  78756-009-01.jpg\n"
          ],
          "name": "stdout"
        },
        {
          "output_type": "stream",
          "text": [
            "/usr/local/lib/python3.6/dist-packages/urllib3/connectionpool.py:847: InsecureRequestWarning: Unverified HTTPS request is being made. Adding certificate verification is strongly advised. See: https://urllib3.readthedocs.io/en/latest/advanced-usage.html#ssl-warnings\n",
            "  InsecureRequestWarning)\n"
          ],
          "name": "stderr"
        },
        {
          "output_type": "stream",
          "text": [
            "Image sucessfully Downloaded:  78759-009-01.jpg\n"
          ],
          "name": "stdout"
        },
        {
          "output_type": "stream",
          "text": [
            "/usr/local/lib/python3.6/dist-packages/urllib3/connectionpool.py:847: InsecureRequestWarning: Unverified HTTPS request is being made. Adding certificate verification is strongly advised. See: https://urllib3.readthedocs.io/en/latest/advanced-usage.html#ssl-warnings\n",
            "  InsecureRequestWarning)\n"
          ],
          "name": "stderr"
        },
        {
          "output_type": "stream",
          "text": [
            "Image sucessfully Downloaded:  78759-540-01.jpg\n"
          ],
          "name": "stdout"
        },
        {
          "output_type": "stream",
          "text": [
            "/usr/local/lib/python3.6/dist-packages/urllib3/connectionpool.py:847: InsecureRequestWarning: Unverified HTTPS request is being made. Adding certificate verification is strongly advised. See: https://urllib3.readthedocs.io/en/latest/advanced-usage.html#ssl-warnings\n",
            "  InsecureRequestWarning)\n"
          ],
          "name": "stderr"
        },
        {
          "output_type": "stream",
          "text": [
            "Image sucessfully Downloaded:  60542-973-01.jpg\n"
          ],
          "name": "stdout"
        },
        {
          "output_type": "stream",
          "text": [
            "/usr/local/lib/python3.6/dist-packages/urllib3/connectionpool.py:847: InsecureRequestWarning: Unverified HTTPS request is being made. Adding certificate verification is strongly advised. See: https://urllib3.readthedocs.io/en/latest/advanced-usage.html#ssl-warnings\n",
            "  InsecureRequestWarning)\n"
          ],
          "name": "stderr"
        },
        {
          "output_type": "stream",
          "text": [
            "Image sucessfully Downloaded:  61142-001-01.jpg\n"
          ],
          "name": "stdout"
        },
        {
          "output_type": "stream",
          "text": [
            "/usr/local/lib/python3.6/dist-packages/urllib3/connectionpool.py:847: InsecureRequestWarning: Unverified HTTPS request is being made. Adding certificate verification is strongly advised. See: https://urllib3.readthedocs.io/en/latest/advanced-usage.html#ssl-warnings\n",
            "  InsecureRequestWarning)\n"
          ],
          "name": "stderr"
        },
        {
          "output_type": "stream",
          "text": [
            "Image sucessfully Downloaded:  69172-001-01.jpg\n"
          ],
          "name": "stdout"
        },
        {
          "output_type": "stream",
          "text": [
            "/usr/local/lib/python3.6/dist-packages/urllib3/connectionpool.py:847: InsecureRequestWarning: Unverified HTTPS request is being made. Adding certificate verification is strongly advised. See: https://urllib3.readthedocs.io/en/latest/advanced-usage.html#ssl-warnings\n",
            "  InsecureRequestWarning)\n"
          ],
          "name": "stderr"
        },
        {
          "output_type": "stream",
          "text": [
            "Image sucessfully Downloaded:  72132-001-01.jpg\n"
          ],
          "name": "stdout"
        },
        {
          "output_type": "stream",
          "text": [
            "/usr/local/lib/python3.6/dist-packages/urllib3/connectionpool.py:847: InsecureRequestWarning: Unverified HTTPS request is being made. Adding certificate verification is strongly advised. See: https://urllib3.readthedocs.io/en/latest/advanced-usage.html#ssl-warnings\n",
            "  InsecureRequestWarning)\n"
          ],
          "name": "stderr"
        },
        {
          "output_type": "stream",
          "text": [
            "Image sucessfully Downloaded:  72234CT-001-01.jpg\n"
          ],
          "name": "stdout"
        },
        {
          "output_type": "stream",
          "text": [
            "/usr/local/lib/python3.6/dist-packages/urllib3/connectionpool.py:847: InsecureRequestWarning: Unverified HTTPS request is being made. Adding certificate verification is strongly advised. See: https://urllib3.readthedocs.io/en/latest/advanced-usage.html#ssl-warnings\n",
            "  InsecureRequestWarning)\n"
          ],
          "name": "stderr"
        },
        {
          "output_type": "stream",
          "text": [
            "Image sucessfully Downloaded:  72234CT-200-01.jpg\n"
          ],
          "name": "stdout"
        },
        {
          "output_type": "stream",
          "text": [
            "/usr/local/lib/python3.6/dist-packages/urllib3/connectionpool.py:847: InsecureRequestWarning: Unverified HTTPS request is being made. Adding certificate verification is strongly advised. See: https://urllib3.readthedocs.io/en/latest/advanced-usage.html#ssl-warnings\n",
            "  InsecureRequestWarning)\n"
          ],
          "name": "stderr"
        },
        {
          "output_type": "stream",
          "text": [
            "Image sucessfully Downloaded:  72235CT-200-01.jpg\n"
          ],
          "name": "stdout"
        },
        {
          "output_type": "stream",
          "text": [
            "/usr/local/lib/python3.6/dist-packages/urllib3/connectionpool.py:847: InsecureRequestWarning: Unverified HTTPS request is being made. Adding certificate verification is strongly advised. See: https://urllib3.readthedocs.io/en/latest/advanced-usage.html#ssl-warnings\n",
            "  InsecureRequestWarning)\n"
          ],
          "name": "stderr"
        },
        {
          "output_type": "stream",
          "text": [
            "Image sucessfully Downloaded:  72301CT-009-01.jpg\n"
          ],
          "name": "stdout"
        },
        {
          "output_type": "stream",
          "text": [
            "/usr/local/lib/python3.6/dist-packages/urllib3/connectionpool.py:847: InsecureRequestWarning: Unverified HTTPS request is being made. Adding certificate verification is strongly advised. See: https://urllib3.readthedocs.io/en/latest/advanced-usage.html#ssl-warnings\n",
            "  InsecureRequestWarning)\n"
          ],
          "name": "stderr"
        },
        {
          "output_type": "stream",
          "text": [
            "Image sucessfully Downloaded:  72301CT-249-01.jpg\n"
          ],
          "name": "stdout"
        },
        {
          "output_type": "stream",
          "text": [
            "/usr/local/lib/python3.6/dist-packages/urllib3/connectionpool.py:847: InsecureRequestWarning: Unverified HTTPS request is being made. Adding certificate verification is strongly advised. See: https://urllib3.readthedocs.io/en/latest/advanced-usage.html#ssl-warnings\n",
            "  InsecureRequestWarning)\n"
          ],
          "name": "stderr"
        },
        {
          "output_type": "stream",
          "text": [
            "Image sucessfully Downloaded:  72302CT-009-01.jpg\n"
          ],
          "name": "stdout"
        },
        {
          "output_type": "stream",
          "text": [
            "/usr/local/lib/python3.6/dist-packages/urllib3/connectionpool.py:847: InsecureRequestWarning: Unverified HTTPS request is being made. Adding certificate verification is strongly advised. See: https://urllib3.readthedocs.io/en/latest/advanced-usage.html#ssl-warnings\n",
            "  InsecureRequestWarning)\n"
          ],
          "name": "stderr"
        },
        {
          "output_type": "stream",
          "text": [
            "Image sucessfully Downloaded:  72302CT-249-01.jpg\n"
          ],
          "name": "stdout"
        },
        {
          "output_type": "stream",
          "text": [
            "/usr/local/lib/python3.6/dist-packages/urllib3/connectionpool.py:847: InsecureRequestWarning: Unverified HTTPS request is being made. Adding certificate verification is strongly advised. See: https://urllib3.readthedocs.io/en/latest/advanced-usage.html#ssl-warnings\n",
            "  InsecureRequestWarning)\n"
          ],
          "name": "stderr"
        },
        {
          "output_type": "stream",
          "text": [
            "Image sucessfully Downloaded:  72303CT-249-01.jpg\n"
          ],
          "name": "stdout"
        },
        {
          "output_type": "stream",
          "text": [
            "/usr/local/lib/python3.6/dist-packages/urllib3/connectionpool.py:847: InsecureRequestWarning: Unverified HTTPS request is being made. Adding certificate verification is strongly advised. See: https://urllib3.readthedocs.io/en/latest/advanced-usage.html#ssl-warnings\n",
            "  InsecureRequestWarning)\n"
          ],
          "name": "stderr"
        },
        {
          "output_type": "stream",
          "text": [
            "Image sucessfully Downloaded:  72469-201-01.jpg\n"
          ],
          "name": "stdout"
        },
        {
          "output_type": "stream",
          "text": [
            "/usr/local/lib/python3.6/dist-packages/urllib3/connectionpool.py:847: InsecureRequestWarning: Unverified HTTPS request is being made. Adding certificate verification is strongly advised. See: https://urllib3.readthedocs.io/en/latest/advanced-usage.html#ssl-warnings\n",
            "  InsecureRequestWarning)\n"
          ],
          "name": "stderr"
        },
        {
          "output_type": "stream",
          "text": [
            "Image sucessfully Downloaded:  72469-231-01.jpg\n"
          ],
          "name": "stdout"
        },
        {
          "output_type": "stream",
          "text": [
            "/usr/local/lib/python3.6/dist-packages/urllib3/connectionpool.py:847: InsecureRequestWarning: Unverified HTTPS request is being made. Adding certificate verification is strongly advised. See: https://urllib3.readthedocs.io/en/latest/advanced-usage.html#ssl-warnings\n",
            "  InsecureRequestWarning)\n"
          ],
          "name": "stderr"
        },
        {
          "output_type": "stream",
          "text": [
            "Image sucessfully Downloaded:  72470-020-01.jpg\n"
          ],
          "name": "stdout"
        },
        {
          "output_type": "stream",
          "text": [
            "/usr/local/lib/python3.6/dist-packages/urllib3/connectionpool.py:847: InsecureRequestWarning: Unverified HTTPS request is being made. Adding certificate verification is strongly advised. See: https://urllib3.readthedocs.io/en/latest/advanced-usage.html#ssl-warnings\n",
            "  InsecureRequestWarning)\n"
          ],
          "name": "stderr"
        },
        {
          "output_type": "stream",
          "text": [
            "Image sucessfully Downloaded:  72470-201-01.jpg\n"
          ],
          "name": "stdout"
        },
        {
          "output_type": "stream",
          "text": [
            "/usr/local/lib/python3.6/dist-packages/urllib3/connectionpool.py:847: InsecureRequestWarning: Unverified HTTPS request is being made. Adding certificate verification is strongly advised. See: https://urllib3.readthedocs.io/en/latest/advanced-usage.html#ssl-warnings\n",
            "  InsecureRequestWarning)\n"
          ],
          "name": "stderr"
        },
        {
          "output_type": "stream",
          "text": [
            "Image sucessfully Downloaded:  72470-231-01.jpg\n",
            "Image sucessfully Downloaded:  72619-001-01.jpg\n"
          ],
          "name": "stdout"
        },
        {
          "output_type": "stream",
          "text": [
            "/usr/local/lib/python3.6/dist-packages/urllib3/connectionpool.py:847: InsecureRequestWarning: Unverified HTTPS request is being made. Adding certificate verification is strongly advised. See: https://urllib3.readthedocs.io/en/latest/advanced-usage.html#ssl-warnings\n",
            "  InsecureRequestWarning)\n",
            "/usr/local/lib/python3.6/dist-packages/urllib3/connectionpool.py:847: InsecureRequestWarning: Unverified HTTPS request is being made. Adding certificate verification is strongly advised. See: https://urllib3.readthedocs.io/en/latest/advanced-usage.html#ssl-warnings\n",
            "  InsecureRequestWarning)\n"
          ],
          "name": "stderr"
        },
        {
          "output_type": "stream",
          "text": [
            "Image sucessfully Downloaded:  72619-200-01.jpg\n",
            "Image sucessfully Downloaded:  72197-001-01.jpg\n"
          ],
          "name": "stdout"
        },
        {
          "output_type": "stream",
          "text": [
            "/usr/local/lib/python3.6/dist-packages/urllib3/connectionpool.py:847: InsecureRequestWarning: Unverified HTTPS request is being made. Adding certificate verification is strongly advised. See: https://urllib3.readthedocs.io/en/latest/advanced-usage.html#ssl-warnings\n",
            "  InsecureRequestWarning)\n",
            "/usr/local/lib/python3.6/dist-packages/urllib3/connectionpool.py:847: InsecureRequestWarning: Unverified HTTPS request is being made. Adding certificate verification is strongly advised. See: https://urllib3.readthedocs.io/en/latest/advanced-usage.html#ssl-warnings\n",
            "  InsecureRequestWarning)\n"
          ],
          "name": "stderr"
        },
        {
          "output_type": "stream",
          "text": [
            "Image sucessfully Downloaded:  72197-306-01.jpg\n"
          ],
          "name": "stdout"
        },
        {
          "output_type": "stream",
          "text": [
            "/usr/local/lib/python3.6/dist-packages/urllib3/connectionpool.py:847: InsecureRequestWarning: Unverified HTTPS request is being made. Adding certificate verification is strongly advised. See: https://urllib3.readthedocs.io/en/latest/advanced-usage.html#ssl-warnings\n",
            "  InsecureRequestWarning)\n"
          ],
          "name": "stderr"
        },
        {
          "output_type": "stream",
          "text": [
            "Image sucessfully Downloaded:  72198-001-01.jpg\n"
          ],
          "name": "stdout"
        },
        {
          "output_type": "stream",
          "text": [
            "/usr/local/lib/python3.6/dist-packages/urllib3/connectionpool.py:847: InsecureRequestWarning: Unverified HTTPS request is being made. Adding certificate verification is strongly advised. See: https://urllib3.readthedocs.io/en/latest/advanced-usage.html#ssl-warnings\n",
            "  InsecureRequestWarning)\n"
          ],
          "name": "stderr"
        },
        {
          "output_type": "stream",
          "text": [
            "Image sucessfully Downloaded:  72198-306-01.jpg\n"
          ],
          "name": "stdout"
        },
        {
          "output_type": "stream",
          "text": [
            "/usr/local/lib/python3.6/dist-packages/urllib3/connectionpool.py:847: InsecureRequestWarning: Unverified HTTPS request is being made. Adding certificate verification is strongly advised. See: https://urllib3.readthedocs.io/en/latest/advanced-usage.html#ssl-warnings\n",
            "  InsecureRequestWarning)\n"
          ],
          "name": "stderr"
        },
        {
          "output_type": "stream",
          "text": [
            "Image sucessfully Downloaded:  72198-500-01.jpg\n"
          ],
          "name": "stdout"
        },
        {
          "output_type": "stream",
          "text": [
            "/usr/local/lib/python3.6/dist-packages/urllib3/connectionpool.py:847: InsecureRequestWarning: Unverified HTTPS request is being made. Adding certificate verification is strongly advised. See: https://urllib3.readthedocs.io/en/latest/advanced-usage.html#ssl-warnings\n",
            "  InsecureRequestWarning)\n"
          ],
          "name": "stderr"
        },
        {
          "output_type": "stream",
          "text": [
            "Image sucessfully Downloaded:  72400-001-01.jpg\n",
            "Image sucessfully Downloaded:  72400-040-01.jpg\n"
          ],
          "name": "stdout"
        },
        {
          "output_type": "stream",
          "text": [
            "/usr/local/lib/python3.6/dist-packages/urllib3/connectionpool.py:847: InsecureRequestWarning: Unverified HTTPS request is being made. Adding certificate verification is strongly advised. See: https://urllib3.readthedocs.io/en/latest/advanced-usage.html#ssl-warnings\n",
            "  InsecureRequestWarning)\n",
            "/usr/local/lib/python3.6/dist-packages/urllib3/connectionpool.py:847: InsecureRequestWarning: Unverified HTTPS request is being made. Adding certificate verification is strongly advised. See: https://urllib3.readthedocs.io/en/latest/advanced-usage.html#ssl-warnings\n",
            "  InsecureRequestWarning)\n"
          ],
          "name": "stderr"
        },
        {
          "output_type": "stream",
          "text": [
            "Image sucessfully Downloaded:  72406-001-01.jpg\n",
            "Image sucessfully Downloaded:  72406-303-01.jpg\n"
          ],
          "name": "stdout"
        },
        {
          "output_type": "stream",
          "text": [
            "/usr/local/lib/python3.6/dist-packages/urllib3/connectionpool.py:847: InsecureRequestWarning: Unverified HTTPS request is being made. Adding certificate verification is strongly advised. See: https://urllib3.readthedocs.io/en/latest/advanced-usage.html#ssl-warnings\n",
            "  InsecureRequestWarning)\n",
            "/usr/local/lib/python3.6/dist-packages/urllib3/connectionpool.py:847: InsecureRequestWarning: Unverified HTTPS request is being made. Adding certificate verification is strongly advised. See: https://urllib3.readthedocs.io/en/latest/advanced-usage.html#ssl-warnings\n",
            "  InsecureRequestWarning)\n"
          ],
          "name": "stderr"
        },
        {
          "output_type": "stream",
          "text": [
            "Image sucessfully Downloaded:  72412-221-01.jpg\n"
          ],
          "name": "stdout"
        },
        {
          "output_type": "stream",
          "text": [
            "/usr/local/lib/python3.6/dist-packages/urllib3/connectionpool.py:847: InsecureRequestWarning: Unverified HTTPS request is being made. Adding certificate verification is strongly advised. See: https://urllib3.readthedocs.io/en/latest/advanced-usage.html#ssl-warnings\n",
            "  InsecureRequestWarning)\n"
          ],
          "name": "stderr"
        },
        {
          "output_type": "stream",
          "text": [
            "Image sucessfully Downloaded:  72412-260-01.jpg\n"
          ],
          "name": "stdout"
        },
        {
          "output_type": "stream",
          "text": [
            "/usr/local/lib/python3.6/dist-packages/urllib3/connectionpool.py:847: InsecureRequestWarning: Unverified HTTPS request is being made. Adding certificate verification is strongly advised. See: https://urllib3.readthedocs.io/en/latest/advanced-usage.html#ssl-warnings\n",
            "  InsecureRequestWarning)\n"
          ],
          "name": "stderr"
        },
        {
          "output_type": "stream",
          "text": [
            "Image sucessfully Downloaded:  72413-221-01.jpg\n"
          ],
          "name": "stdout"
        },
        {
          "output_type": "stream",
          "text": [
            "/usr/local/lib/python3.6/dist-packages/urllib3/connectionpool.py:847: InsecureRequestWarning: Unverified HTTPS request is being made. Adding certificate verification is strongly advised. See: https://urllib3.readthedocs.io/en/latest/advanced-usage.html#ssl-warnings\n",
            "  InsecureRequestWarning)\n"
          ],
          "name": "stderr"
        },
        {
          "output_type": "stream",
          "text": [
            "Image sucessfully Downloaded:  72413-260-01.jpg\n"
          ],
          "name": "stdout"
        },
        {
          "output_type": "stream",
          "text": [
            "/usr/local/lib/python3.6/dist-packages/urllib3/connectionpool.py:847: InsecureRequestWarning: Unverified HTTPS request is being made. Adding certificate verification is strongly advised. See: https://urllib3.readthedocs.io/en/latest/advanced-usage.html#ssl-warnings\n",
            "  InsecureRequestWarning)\n"
          ],
          "name": "stderr"
        },
        {
          "output_type": "stream",
          "text": [
            "Image sucessfully Downloaded:  72522-009-01.jpg\n"
          ],
          "name": "stdout"
        },
        {
          "output_type": "stream",
          "text": [
            "/usr/local/lib/python3.6/dist-packages/urllib3/connectionpool.py:847: InsecureRequestWarning: Unverified HTTPS request is being made. Adding certificate verification is strongly advised. See: https://urllib3.readthedocs.io/en/latest/advanced-usage.html#ssl-warnings\n",
            "  InsecureRequestWarning)\n"
          ],
          "name": "stderr"
        },
        {
          "output_type": "stream",
          "text": [
            "Image sucessfully Downloaded:  71460-001-02.jpg\n"
          ],
          "name": "stdout"
        },
        {
          "output_type": "stream",
          "text": [
            "/usr/local/lib/python3.6/dist-packages/urllib3/connectionpool.py:847: InsecureRequestWarning: Unverified HTTPS request is being made. Adding certificate verification is strongly advised. See: https://urllib3.readthedocs.io/en/latest/advanced-usage.html#ssl-warnings\n",
            "  InsecureRequestWarning)\n"
          ],
          "name": "stderr"
        },
        {
          "output_type": "stream",
          "text": [
            "Image sucessfully Downloaded:  72165I-409-02.jpg\n",
            "Image sucessfully Downloaded:  72606I-074-02.jpg\n"
          ],
          "name": "stdout"
        },
        {
          "output_type": "stream",
          "text": [
            "/usr/local/lib/python3.6/dist-packages/urllib3/connectionpool.py:847: InsecureRequestWarning: Unverified HTTPS request is being made. Adding certificate verification is strongly advised. See: https://urllib3.readthedocs.io/en/latest/advanced-usage.html#ssl-warnings\n",
            "  InsecureRequestWarning)\n",
            "/usr/local/lib/python3.6/dist-packages/urllib3/connectionpool.py:847: InsecureRequestWarning: Unverified HTTPS request is being made. Adding certificate verification is strongly advised. See: https://urllib3.readthedocs.io/en/latest/advanced-usage.html#ssl-warnings\n",
            "  InsecureRequestWarning)\n"
          ],
          "name": "stderr"
        },
        {
          "output_type": "stream",
          "text": [
            "Image sucessfully Downloaded:  78756-009-02.jpg\n"
          ],
          "name": "stdout"
        },
        {
          "output_type": "stream",
          "text": [
            "/usr/local/lib/python3.6/dist-packages/urllib3/connectionpool.py:847: InsecureRequestWarning: Unverified HTTPS request is being made. Adding certificate verification is strongly advised. See: https://urllib3.readthedocs.io/en/latest/advanced-usage.html#ssl-warnings\n",
            "  InsecureRequestWarning)\n"
          ],
          "name": "stderr"
        },
        {
          "output_type": "stream",
          "text": [
            "Image sucessfully Downloaded:  78759-009-02.jpg\n",
            "Image sucessfully Downloaded:  78759-540-02.jpg\n"
          ],
          "name": "stdout"
        },
        {
          "output_type": "stream",
          "text": [
            "/usr/local/lib/python3.6/dist-packages/urllib3/connectionpool.py:847: InsecureRequestWarning: Unverified HTTPS request is being made. Adding certificate verification is strongly advised. See: https://urllib3.readthedocs.io/en/latest/advanced-usage.html#ssl-warnings\n",
            "  InsecureRequestWarning)\n",
            "/usr/local/lib/python3.6/dist-packages/urllib3/connectionpool.py:847: InsecureRequestWarning: Unverified HTTPS request is being made. Adding certificate verification is strongly advised. See: https://urllib3.readthedocs.io/en/latest/advanced-usage.html#ssl-warnings\n",
            "  InsecureRequestWarning)\n"
          ],
          "name": "stderr"
        },
        {
          "output_type": "stream",
          "text": [
            "Image sucessfully Downloaded:  60542-973-02.jpg\n",
            "Image sucessfully Downloaded:  61142-001-02.jpg\n"
          ],
          "name": "stdout"
        },
        {
          "output_type": "stream",
          "text": [
            "/usr/local/lib/python3.6/dist-packages/urllib3/connectionpool.py:847: InsecureRequestWarning: Unverified HTTPS request is being made. Adding certificate verification is strongly advised. See: https://urllib3.readthedocs.io/en/latest/advanced-usage.html#ssl-warnings\n",
            "  InsecureRequestWarning)\n",
            "/usr/local/lib/python3.6/dist-packages/urllib3/connectionpool.py:847: InsecureRequestWarning: Unverified HTTPS request is being made. Adding certificate verification is strongly advised. See: https://urllib3.readthedocs.io/en/latest/advanced-usage.html#ssl-warnings\n",
            "  InsecureRequestWarning)\n"
          ],
          "name": "stderr"
        },
        {
          "output_type": "stream",
          "text": [
            "Image sucessfully Downloaded:  69172-001-02.jpg\n",
            "Image sucessfully Downloaded:  72132-001-02.jpg\n"
          ],
          "name": "stdout"
        },
        {
          "output_type": "stream",
          "text": [
            "/usr/local/lib/python3.6/dist-packages/urllib3/connectionpool.py:847: InsecureRequestWarning: Unverified HTTPS request is being made. Adding certificate verification is strongly advised. See: https://urllib3.readthedocs.io/en/latest/advanced-usage.html#ssl-warnings\n",
            "  InsecureRequestWarning)\n",
            "/usr/local/lib/python3.6/dist-packages/urllib3/connectionpool.py:847: InsecureRequestWarning: Unverified HTTPS request is being made. Adding certificate verification is strongly advised. See: https://urllib3.readthedocs.io/en/latest/advanced-usage.html#ssl-warnings\n",
            "  InsecureRequestWarning)\n"
          ],
          "name": "stderr"
        },
        {
          "output_type": "stream",
          "text": [
            "Image sucessfully Downloaded:  72234CT-001-02.jpg\n"
          ],
          "name": "stdout"
        },
        {
          "output_type": "stream",
          "text": [
            "/usr/local/lib/python3.6/dist-packages/urllib3/connectionpool.py:847: InsecureRequestWarning: Unverified HTTPS request is being made. Adding certificate verification is strongly advised. See: https://urllib3.readthedocs.io/en/latest/advanced-usage.html#ssl-warnings\n",
            "  InsecureRequestWarning)\n"
          ],
          "name": "stderr"
        },
        {
          "output_type": "stream",
          "text": [
            "Image sucessfully Downloaded:  72234CT-200-02.jpg\n"
          ],
          "name": "stdout"
        },
        {
          "output_type": "stream",
          "text": [
            "/usr/local/lib/python3.6/dist-packages/urllib3/connectionpool.py:847: InsecureRequestWarning: Unverified HTTPS request is being made. Adding certificate verification is strongly advised. See: https://urllib3.readthedocs.io/en/latest/advanced-usage.html#ssl-warnings\n",
            "  InsecureRequestWarning)\n"
          ],
          "name": "stderr"
        },
        {
          "output_type": "stream",
          "text": [
            "Image sucessfully Downloaded:  72235CT-200-02.jpg\n"
          ],
          "name": "stdout"
        },
        {
          "output_type": "stream",
          "text": [
            "/usr/local/lib/python3.6/dist-packages/urllib3/connectionpool.py:847: InsecureRequestWarning: Unverified HTTPS request is being made. Adding certificate verification is strongly advised. See: https://urllib3.readthedocs.io/en/latest/advanced-usage.html#ssl-warnings\n",
            "  InsecureRequestWarning)\n"
          ],
          "name": "stderr"
        },
        {
          "output_type": "stream",
          "text": [
            "Image sucessfully Downloaded:  72301CT-009-02.jpg\n"
          ],
          "name": "stdout"
        },
        {
          "output_type": "stream",
          "text": [
            "/usr/local/lib/python3.6/dist-packages/urllib3/connectionpool.py:847: InsecureRequestWarning: Unverified HTTPS request is being made. Adding certificate verification is strongly advised. See: https://urllib3.readthedocs.io/en/latest/advanced-usage.html#ssl-warnings\n",
            "  InsecureRequestWarning)\n"
          ],
          "name": "stderr"
        },
        {
          "output_type": "stream",
          "text": [
            "Image sucessfully Downloaded:  72301CT-249-02.jpg\n"
          ],
          "name": "stdout"
        },
        {
          "output_type": "stream",
          "text": [
            "/usr/local/lib/python3.6/dist-packages/urllib3/connectionpool.py:847: InsecureRequestWarning: Unverified HTTPS request is being made. Adding certificate verification is strongly advised. See: https://urllib3.readthedocs.io/en/latest/advanced-usage.html#ssl-warnings\n",
            "  InsecureRequestWarning)\n"
          ],
          "name": "stderr"
        },
        {
          "output_type": "stream",
          "text": [
            "Image sucessfully Downloaded:  72302CT-009-02.jpg\n"
          ],
          "name": "stdout"
        },
        {
          "output_type": "stream",
          "text": [
            "/usr/local/lib/python3.6/dist-packages/urllib3/connectionpool.py:847: InsecureRequestWarning: Unverified HTTPS request is being made. Adding certificate verification is strongly advised. See: https://urllib3.readthedocs.io/en/latest/advanced-usage.html#ssl-warnings\n",
            "  InsecureRequestWarning)\n"
          ],
          "name": "stderr"
        },
        {
          "output_type": "stream",
          "text": [
            "Image sucessfully Downloaded:  72302CT-249-02.jpg\n"
          ],
          "name": "stdout"
        },
        {
          "output_type": "stream",
          "text": [
            "/usr/local/lib/python3.6/dist-packages/urllib3/connectionpool.py:847: InsecureRequestWarning: Unverified HTTPS request is being made. Adding certificate verification is strongly advised. See: https://urllib3.readthedocs.io/en/latest/advanced-usage.html#ssl-warnings\n",
            "  InsecureRequestWarning)\n"
          ],
          "name": "stderr"
        },
        {
          "output_type": "stream",
          "text": [
            "Image sucessfully Downloaded:  72303CT-249-02.jpg\n"
          ],
          "name": "stdout"
        },
        {
          "output_type": "stream",
          "text": [
            "/usr/local/lib/python3.6/dist-packages/urllib3/connectionpool.py:847: InsecureRequestWarning: Unverified HTTPS request is being made. Adding certificate verification is strongly advised. See: https://urllib3.readthedocs.io/en/latest/advanced-usage.html#ssl-warnings\n",
            "  InsecureRequestWarning)\n"
          ],
          "name": "stderr"
        },
        {
          "output_type": "stream",
          "text": [
            "Image sucessfully Downloaded:  72469-201-02.jpg\n"
          ],
          "name": "stdout"
        },
        {
          "output_type": "stream",
          "text": [
            "/usr/local/lib/python3.6/dist-packages/urllib3/connectionpool.py:847: InsecureRequestWarning: Unverified HTTPS request is being made. Adding certificate verification is strongly advised. See: https://urllib3.readthedocs.io/en/latest/advanced-usage.html#ssl-warnings\n",
            "  InsecureRequestWarning)\n"
          ],
          "name": "stderr"
        },
        {
          "output_type": "stream",
          "text": [
            "Image sucessfully Downloaded:  72469-231-02.jpg\n",
            "Image sucessfully Downloaded:  72470-020-02.jpg\n"
          ],
          "name": "stdout"
        },
        {
          "output_type": "stream",
          "text": [
            "/usr/local/lib/python3.6/dist-packages/urllib3/connectionpool.py:847: InsecureRequestWarning: Unverified HTTPS request is being made. Adding certificate verification is strongly advised. See: https://urllib3.readthedocs.io/en/latest/advanced-usage.html#ssl-warnings\n",
            "  InsecureRequestWarning)\n",
            "/usr/local/lib/python3.6/dist-packages/urllib3/connectionpool.py:847: InsecureRequestWarning: Unverified HTTPS request is being made. Adding certificate verification is strongly advised. See: https://urllib3.readthedocs.io/en/latest/advanced-usage.html#ssl-warnings\n",
            "  InsecureRequestWarning)\n"
          ],
          "name": "stderr"
        },
        {
          "output_type": "stream",
          "text": [
            "Image sucessfully Downloaded:  72470-201-02.jpg\n",
            "Image sucessfully Downloaded:  72470-231-02.jpg\n"
          ],
          "name": "stdout"
        },
        {
          "output_type": "stream",
          "text": [
            "/usr/local/lib/python3.6/dist-packages/urllib3/connectionpool.py:847: InsecureRequestWarning: Unverified HTTPS request is being made. Adding certificate verification is strongly advised. See: https://urllib3.readthedocs.io/en/latest/advanced-usage.html#ssl-warnings\n",
            "  InsecureRequestWarning)\n",
            "/usr/local/lib/python3.6/dist-packages/urllib3/connectionpool.py:847: InsecureRequestWarning: Unverified HTTPS request is being made. Adding certificate verification is strongly advised. See: https://urllib3.readthedocs.io/en/latest/advanced-usage.html#ssl-warnings\n",
            "  InsecureRequestWarning)\n"
          ],
          "name": "stderr"
        },
        {
          "output_type": "stream",
          "text": [
            "Image sucessfully Downloaded:  72619-001-02.jpg\n",
            "Image sucessfully Downloaded:  72619-200-02.jpg\n"
          ],
          "name": "stdout"
        },
        {
          "output_type": "stream",
          "text": [
            "/usr/local/lib/python3.6/dist-packages/urllib3/connectionpool.py:847: InsecureRequestWarning: Unverified HTTPS request is being made. Adding certificate verification is strongly advised. See: https://urllib3.readthedocs.io/en/latest/advanced-usage.html#ssl-warnings\n",
            "  InsecureRequestWarning)\n",
            "/usr/local/lib/python3.6/dist-packages/urllib3/connectionpool.py:847: InsecureRequestWarning: Unverified HTTPS request is being made. Adding certificate verification is strongly advised. See: https://urllib3.readthedocs.io/en/latest/advanced-usage.html#ssl-warnings\n",
            "  InsecureRequestWarning)\n"
          ],
          "name": "stderr"
        },
        {
          "output_type": "stream",
          "text": [
            "Image sucessfully Downloaded:  72197-001-02.jpg\n",
            "Image sucessfully Downloaded:  72197-306-02.jpg\n"
          ],
          "name": "stdout"
        },
        {
          "output_type": "stream",
          "text": [
            "/usr/local/lib/python3.6/dist-packages/urllib3/connectionpool.py:847: InsecureRequestWarning: Unverified HTTPS request is being made. Adding certificate verification is strongly advised. See: https://urllib3.readthedocs.io/en/latest/advanced-usage.html#ssl-warnings\n",
            "  InsecureRequestWarning)\n",
            "/usr/local/lib/python3.6/dist-packages/urllib3/connectionpool.py:847: InsecureRequestWarning: Unverified HTTPS request is being made. Adding certificate verification is strongly advised. See: https://urllib3.readthedocs.io/en/latest/advanced-usage.html#ssl-warnings\n",
            "  InsecureRequestWarning)\n"
          ],
          "name": "stderr"
        },
        {
          "output_type": "stream",
          "text": [
            "Image sucessfully Downloaded:  72198-001-02.jpg\n"
          ],
          "name": "stdout"
        },
        {
          "output_type": "stream",
          "text": [
            "/usr/local/lib/python3.6/dist-packages/urllib3/connectionpool.py:847: InsecureRequestWarning: Unverified HTTPS request is being made. Adding certificate verification is strongly advised. See: https://urllib3.readthedocs.io/en/latest/advanced-usage.html#ssl-warnings\n",
            "  InsecureRequestWarning)\n"
          ],
          "name": "stderr"
        },
        {
          "output_type": "stream",
          "text": [
            "Image sucessfully Downloaded:  72198-306-02.jpg\n",
            "Image sucessfully Downloaded:  72198-500-02.jpg\n"
          ],
          "name": "stdout"
        },
        {
          "output_type": "stream",
          "text": [
            "/usr/local/lib/python3.6/dist-packages/urllib3/connectionpool.py:847: InsecureRequestWarning: Unverified HTTPS request is being made. Adding certificate verification is strongly advised. See: https://urllib3.readthedocs.io/en/latest/advanced-usage.html#ssl-warnings\n",
            "  InsecureRequestWarning)\n",
            "/usr/local/lib/python3.6/dist-packages/urllib3/connectionpool.py:847: InsecureRequestWarning: Unverified HTTPS request is being made. Adding certificate verification is strongly advised. See: https://urllib3.readthedocs.io/en/latest/advanced-usage.html#ssl-warnings\n",
            "  InsecureRequestWarning)\n"
          ],
          "name": "stderr"
        },
        {
          "output_type": "stream",
          "text": [
            "Image sucessfully Downloaded:  72400-001-02.jpg\n",
            "Image sucessfully Downloaded:  72400-040-02.jpg\n"
          ],
          "name": "stdout"
        },
        {
          "output_type": "stream",
          "text": [
            "/usr/local/lib/python3.6/dist-packages/urllib3/connectionpool.py:847: InsecureRequestWarning: Unverified HTTPS request is being made. Adding certificate verification is strongly advised. See: https://urllib3.readthedocs.io/en/latest/advanced-usage.html#ssl-warnings\n",
            "  InsecureRequestWarning)\n",
            "/usr/local/lib/python3.6/dist-packages/urllib3/connectionpool.py:847: InsecureRequestWarning: Unverified HTTPS request is being made. Adding certificate verification is strongly advised. See: https://urllib3.readthedocs.io/en/latest/advanced-usage.html#ssl-warnings\n",
            "  InsecureRequestWarning)\n"
          ],
          "name": "stderr"
        },
        {
          "output_type": "stream",
          "text": [
            "Image sucessfully Downloaded:  72406-001-02.jpg\n",
            "Image sucessfully Downloaded:  72406-303-02.jpg\n"
          ],
          "name": "stdout"
        },
        {
          "output_type": "stream",
          "text": [
            "/usr/local/lib/python3.6/dist-packages/urllib3/connectionpool.py:847: InsecureRequestWarning: Unverified HTTPS request is being made. Adding certificate verification is strongly advised. See: https://urllib3.readthedocs.io/en/latest/advanced-usage.html#ssl-warnings\n",
            "  InsecureRequestWarning)\n",
            "/usr/local/lib/python3.6/dist-packages/urllib3/connectionpool.py:847: InsecureRequestWarning: Unverified HTTPS request is being made. Adding certificate verification is strongly advised. See: https://urllib3.readthedocs.io/en/latest/advanced-usage.html#ssl-warnings\n",
            "  InsecureRequestWarning)\n"
          ],
          "name": "stderr"
        },
        {
          "output_type": "stream",
          "text": [
            "Image sucessfully Downloaded:  72412-221-02.jpg\n"
          ],
          "name": "stdout"
        },
        {
          "output_type": "stream",
          "text": [
            "/usr/local/lib/python3.6/dist-packages/urllib3/connectionpool.py:847: InsecureRequestWarning: Unverified HTTPS request is being made. Adding certificate verification is strongly advised. See: https://urllib3.readthedocs.io/en/latest/advanced-usage.html#ssl-warnings\n",
            "  InsecureRequestWarning)\n"
          ],
          "name": "stderr"
        },
        {
          "output_type": "stream",
          "text": [
            "Image sucessfully Downloaded:  72412-260-02.jpg\n",
            "Image sucessfully Downloaded:  72413-221-02.jpg\n"
          ],
          "name": "stdout"
        },
        {
          "output_type": "stream",
          "text": [
            "/usr/local/lib/python3.6/dist-packages/urllib3/connectionpool.py:847: InsecureRequestWarning: Unverified HTTPS request is being made. Adding certificate verification is strongly advised. See: https://urllib3.readthedocs.io/en/latest/advanced-usage.html#ssl-warnings\n",
            "  InsecureRequestWarning)\n",
            "/usr/local/lib/python3.6/dist-packages/urllib3/connectionpool.py:847: InsecureRequestWarning: Unverified HTTPS request is being made. Adding certificate verification is strongly advised. See: https://urllib3.readthedocs.io/en/latest/advanced-usage.html#ssl-warnings\n",
            "  InsecureRequestWarning)\n"
          ],
          "name": "stderr"
        },
        {
          "output_type": "stream",
          "text": [
            "Image sucessfully Downloaded:  72413-260-02.jpg\n",
            "Image sucessfully Downloaded:  72522-009-02.jpg\n"
          ],
          "name": "stdout"
        },
        {
          "output_type": "stream",
          "text": [
            "/usr/local/lib/python3.6/dist-packages/urllib3/connectionpool.py:847: InsecureRequestWarning: Unverified HTTPS request is being made. Adding certificate verification is strongly advised. See: https://urllib3.readthedocs.io/en/latest/advanced-usage.html#ssl-warnings\n",
            "  InsecureRequestWarning)\n",
            "/usr/local/lib/python3.6/dist-packages/urllib3/connectionpool.py:847: InsecureRequestWarning: Unverified HTTPS request is being made. Adding certificate verification is strongly advised. See: https://urllib3.readthedocs.io/en/latest/advanced-usage.html#ssl-warnings\n",
            "  InsecureRequestWarning)\n"
          ],
          "name": "stderr"
        },
        {
          "output_type": "stream",
          "text": [
            "Image sucessfully Downloaded:  71460-001-03.jpg\n"
          ],
          "name": "stdout"
        },
        {
          "output_type": "stream",
          "text": [
            "/usr/local/lib/python3.6/dist-packages/urllib3/connectionpool.py:847: InsecureRequestWarning: Unverified HTTPS request is being made. Adding certificate verification is strongly advised. See: https://urllib3.readthedocs.io/en/latest/advanced-usage.html#ssl-warnings\n",
            "  InsecureRequestWarning)\n"
          ],
          "name": "stderr"
        },
        {
          "output_type": "stream",
          "text": [
            "Image sucessfully Downloaded:  72165I-409-03.jpg\n"
          ],
          "name": "stdout"
        },
        {
          "output_type": "stream",
          "text": [
            "/usr/local/lib/python3.6/dist-packages/urllib3/connectionpool.py:847: InsecureRequestWarning: Unverified HTTPS request is being made. Adding certificate verification is strongly advised. See: https://urllib3.readthedocs.io/en/latest/advanced-usage.html#ssl-warnings\n",
            "  InsecureRequestWarning)\n"
          ],
          "name": "stderr"
        },
        {
          "output_type": "stream",
          "text": [
            "Image sucessfully Downloaded:  72606I-074-03.jpg\n"
          ],
          "name": "stdout"
        },
        {
          "output_type": "stream",
          "text": [
            "/usr/local/lib/python3.6/dist-packages/urllib3/connectionpool.py:847: InsecureRequestWarning: Unverified HTTPS request is being made. Adding certificate verification is strongly advised. See: https://urllib3.readthedocs.io/en/latest/advanced-usage.html#ssl-warnings\n",
            "  InsecureRequestWarning)\n"
          ],
          "name": "stderr"
        },
        {
          "output_type": "stream",
          "text": [
            "Image sucessfully Downloaded:  78756-009-03.jpg\n"
          ],
          "name": "stdout"
        },
        {
          "output_type": "stream",
          "text": [
            "/usr/local/lib/python3.6/dist-packages/urllib3/connectionpool.py:847: InsecureRequestWarning: Unverified HTTPS request is being made. Adding certificate verification is strongly advised. See: https://urllib3.readthedocs.io/en/latest/advanced-usage.html#ssl-warnings\n",
            "  InsecureRequestWarning)\n"
          ],
          "name": "stderr"
        },
        {
          "output_type": "stream",
          "text": [
            "Image sucessfully Downloaded:  78759-009-03.jpg\n"
          ],
          "name": "stdout"
        },
        {
          "output_type": "stream",
          "text": [
            "/usr/local/lib/python3.6/dist-packages/urllib3/connectionpool.py:847: InsecureRequestWarning: Unverified HTTPS request is being made. Adding certificate verification is strongly advised. See: https://urllib3.readthedocs.io/en/latest/advanced-usage.html#ssl-warnings\n",
            "  InsecureRequestWarning)\n"
          ],
          "name": "stderr"
        },
        {
          "output_type": "stream",
          "text": [
            "Image sucessfully Downloaded:  78759-540-03.jpg\n"
          ],
          "name": "stdout"
        },
        {
          "output_type": "stream",
          "text": [
            "/usr/local/lib/python3.6/dist-packages/urllib3/connectionpool.py:847: InsecureRequestWarning: Unverified HTTPS request is being made. Adding certificate verification is strongly advised. See: https://urllib3.readthedocs.io/en/latest/advanced-usage.html#ssl-warnings\n",
            "  InsecureRequestWarning)\n"
          ],
          "name": "stderr"
        },
        {
          "output_type": "stream",
          "text": [
            "Image sucessfully Downloaded:  60542-973-03.jpg\n"
          ],
          "name": "stdout"
        },
        {
          "output_type": "stream",
          "text": [
            "/usr/local/lib/python3.6/dist-packages/urllib3/connectionpool.py:847: InsecureRequestWarning: Unverified HTTPS request is being made. Adding certificate verification is strongly advised. See: https://urllib3.readthedocs.io/en/latest/advanced-usage.html#ssl-warnings\n",
            "  InsecureRequestWarning)\n"
          ],
          "name": "stderr"
        },
        {
          "output_type": "stream",
          "text": [
            "Image sucessfully Downloaded:  61142-001-03.jpg\n"
          ],
          "name": "stdout"
        },
        {
          "output_type": "stream",
          "text": [
            "/usr/local/lib/python3.6/dist-packages/urllib3/connectionpool.py:847: InsecureRequestWarning: Unverified HTTPS request is being made. Adding certificate verification is strongly advised. See: https://urllib3.readthedocs.io/en/latest/advanced-usage.html#ssl-warnings\n",
            "  InsecureRequestWarning)\n"
          ],
          "name": "stderr"
        },
        {
          "output_type": "stream",
          "text": [
            "Image sucessfully Downloaded:  69172-001-03.jpg\n"
          ],
          "name": "stdout"
        },
        {
          "output_type": "stream",
          "text": [
            "/usr/local/lib/python3.6/dist-packages/urllib3/connectionpool.py:847: InsecureRequestWarning: Unverified HTTPS request is being made. Adding certificate verification is strongly advised. See: https://urllib3.readthedocs.io/en/latest/advanced-usage.html#ssl-warnings\n",
            "  InsecureRequestWarning)\n"
          ],
          "name": "stderr"
        },
        {
          "output_type": "stream",
          "text": [
            "Image sucessfully Downloaded:  72132-001-03.jpg\n"
          ],
          "name": "stdout"
        },
        {
          "output_type": "stream",
          "text": [
            "/usr/local/lib/python3.6/dist-packages/urllib3/connectionpool.py:847: InsecureRequestWarning: Unverified HTTPS request is being made. Adding certificate verification is strongly advised. See: https://urllib3.readthedocs.io/en/latest/advanced-usage.html#ssl-warnings\n",
            "  InsecureRequestWarning)\n"
          ],
          "name": "stderr"
        },
        {
          "output_type": "stream",
          "text": [
            "Image sucessfully Downloaded:  72234CT-001-03.jpg\n"
          ],
          "name": "stdout"
        },
        {
          "output_type": "stream",
          "text": [
            "/usr/local/lib/python3.6/dist-packages/urllib3/connectionpool.py:847: InsecureRequestWarning: Unverified HTTPS request is being made. Adding certificate verification is strongly advised. See: https://urllib3.readthedocs.io/en/latest/advanced-usage.html#ssl-warnings\n",
            "  InsecureRequestWarning)\n"
          ],
          "name": "stderr"
        },
        {
          "output_type": "stream",
          "text": [
            "Image sucessfully Downloaded:  72234CT-200-03.jpg\n"
          ],
          "name": "stdout"
        },
        {
          "output_type": "stream",
          "text": [
            "/usr/local/lib/python3.6/dist-packages/urllib3/connectionpool.py:847: InsecureRequestWarning: Unverified HTTPS request is being made. Adding certificate verification is strongly advised. See: https://urllib3.readthedocs.io/en/latest/advanced-usage.html#ssl-warnings\n",
            "  InsecureRequestWarning)\n"
          ],
          "name": "stderr"
        },
        {
          "output_type": "stream",
          "text": [
            "Image sucessfully Downloaded:  72235CT-200-03.jpg\n"
          ],
          "name": "stdout"
        },
        {
          "output_type": "stream",
          "text": [
            "/usr/local/lib/python3.6/dist-packages/urllib3/connectionpool.py:847: InsecureRequestWarning: Unverified HTTPS request is being made. Adding certificate verification is strongly advised. See: https://urllib3.readthedocs.io/en/latest/advanced-usage.html#ssl-warnings\n",
            "  InsecureRequestWarning)\n"
          ],
          "name": "stderr"
        },
        {
          "output_type": "stream",
          "text": [
            "Image sucessfully Downloaded:  72301CT-009-03.jpg\n"
          ],
          "name": "stdout"
        },
        {
          "output_type": "stream",
          "text": [
            "/usr/local/lib/python3.6/dist-packages/urllib3/connectionpool.py:847: InsecureRequestWarning: Unverified HTTPS request is being made. Adding certificate verification is strongly advised. See: https://urllib3.readthedocs.io/en/latest/advanced-usage.html#ssl-warnings\n",
            "  InsecureRequestWarning)\n"
          ],
          "name": "stderr"
        },
        {
          "output_type": "stream",
          "text": [
            "Image sucessfully Downloaded:  72301CT-249-03.jpg\n"
          ],
          "name": "stdout"
        },
        {
          "output_type": "stream",
          "text": [
            "/usr/local/lib/python3.6/dist-packages/urllib3/connectionpool.py:847: InsecureRequestWarning: Unverified HTTPS request is being made. Adding certificate verification is strongly advised. See: https://urllib3.readthedocs.io/en/latest/advanced-usage.html#ssl-warnings\n",
            "  InsecureRequestWarning)\n"
          ],
          "name": "stderr"
        },
        {
          "output_type": "stream",
          "text": [
            "Image sucessfully Downloaded:  72302CT-009-03.jpg\n"
          ],
          "name": "stdout"
        },
        {
          "output_type": "stream",
          "text": [
            "/usr/local/lib/python3.6/dist-packages/urllib3/connectionpool.py:847: InsecureRequestWarning: Unverified HTTPS request is being made. Adding certificate verification is strongly advised. See: https://urllib3.readthedocs.io/en/latest/advanced-usage.html#ssl-warnings\n",
            "  InsecureRequestWarning)\n"
          ],
          "name": "stderr"
        },
        {
          "output_type": "stream",
          "text": [
            "Image sucessfully Downloaded:  72302CT-249-03.jpg\n"
          ],
          "name": "stdout"
        },
        {
          "output_type": "stream",
          "text": [
            "/usr/local/lib/python3.6/dist-packages/urllib3/connectionpool.py:847: InsecureRequestWarning: Unverified HTTPS request is being made. Adding certificate verification is strongly advised. See: https://urllib3.readthedocs.io/en/latest/advanced-usage.html#ssl-warnings\n",
            "  InsecureRequestWarning)\n"
          ],
          "name": "stderr"
        },
        {
          "output_type": "stream",
          "text": [
            "Image sucessfully Downloaded:  72303CT-249-03.jpg\n"
          ],
          "name": "stdout"
        },
        {
          "output_type": "stream",
          "text": [
            "/usr/local/lib/python3.6/dist-packages/urllib3/connectionpool.py:847: InsecureRequestWarning: Unverified HTTPS request is being made. Adding certificate verification is strongly advised. See: https://urllib3.readthedocs.io/en/latest/advanced-usage.html#ssl-warnings\n",
            "  InsecureRequestWarning)\n"
          ],
          "name": "stderr"
        },
        {
          "output_type": "stream",
          "text": [
            "Image sucessfully Downloaded:  72469-201-03.jpg\n"
          ],
          "name": "stdout"
        },
        {
          "output_type": "stream",
          "text": [
            "/usr/local/lib/python3.6/dist-packages/urllib3/connectionpool.py:847: InsecureRequestWarning: Unverified HTTPS request is being made. Adding certificate verification is strongly advised. See: https://urllib3.readthedocs.io/en/latest/advanced-usage.html#ssl-warnings\n",
            "  InsecureRequestWarning)\n"
          ],
          "name": "stderr"
        },
        {
          "output_type": "stream",
          "text": [
            "Image sucessfully Downloaded:  72469-231-03.jpg\n"
          ],
          "name": "stdout"
        },
        {
          "output_type": "stream",
          "text": [
            "/usr/local/lib/python3.6/dist-packages/urllib3/connectionpool.py:847: InsecureRequestWarning: Unverified HTTPS request is being made. Adding certificate verification is strongly advised. See: https://urllib3.readthedocs.io/en/latest/advanced-usage.html#ssl-warnings\n",
            "  InsecureRequestWarning)\n"
          ],
          "name": "stderr"
        },
        {
          "output_type": "stream",
          "text": [
            "Image sucessfully Downloaded:  72470-020-03.jpg\n"
          ],
          "name": "stdout"
        },
        {
          "output_type": "stream",
          "text": [
            "/usr/local/lib/python3.6/dist-packages/urllib3/connectionpool.py:847: InsecureRequestWarning: Unverified HTTPS request is being made. Adding certificate verification is strongly advised. See: https://urllib3.readthedocs.io/en/latest/advanced-usage.html#ssl-warnings\n",
            "  InsecureRequestWarning)\n"
          ],
          "name": "stderr"
        },
        {
          "output_type": "stream",
          "text": [
            "Image sucessfully Downloaded:  72470-201-03.jpg\n"
          ],
          "name": "stdout"
        },
        {
          "output_type": "stream",
          "text": [
            "/usr/local/lib/python3.6/dist-packages/urllib3/connectionpool.py:847: InsecureRequestWarning: Unverified HTTPS request is being made. Adding certificate verification is strongly advised. See: https://urllib3.readthedocs.io/en/latest/advanced-usage.html#ssl-warnings\n",
            "  InsecureRequestWarning)\n"
          ],
          "name": "stderr"
        },
        {
          "output_type": "stream",
          "text": [
            "Image sucessfully Downloaded:  72470-231-03.jpg\n",
            "Image sucessfully Downloaded:  72619-001-03.jpg\n"
          ],
          "name": "stdout"
        },
        {
          "output_type": "stream",
          "text": [
            "/usr/local/lib/python3.6/dist-packages/urllib3/connectionpool.py:847: InsecureRequestWarning: Unverified HTTPS request is being made. Adding certificate verification is strongly advised. See: https://urllib3.readthedocs.io/en/latest/advanced-usage.html#ssl-warnings\n",
            "  InsecureRequestWarning)\n",
            "/usr/local/lib/python3.6/dist-packages/urllib3/connectionpool.py:847: InsecureRequestWarning: Unverified HTTPS request is being made. Adding certificate verification is strongly advised. See: https://urllib3.readthedocs.io/en/latest/advanced-usage.html#ssl-warnings\n",
            "  InsecureRequestWarning)\n"
          ],
          "name": "stderr"
        },
        {
          "output_type": "stream",
          "text": [
            "Image sucessfully Downloaded:  72619-200-03.jpg\n",
            "Image sucessfully Downloaded:  72197-001-03.jpg\n"
          ],
          "name": "stdout"
        },
        {
          "output_type": "stream",
          "text": [
            "/usr/local/lib/python3.6/dist-packages/urllib3/connectionpool.py:847: InsecureRequestWarning: Unverified HTTPS request is being made. Adding certificate verification is strongly advised. See: https://urllib3.readthedocs.io/en/latest/advanced-usage.html#ssl-warnings\n",
            "  InsecureRequestWarning)\n",
            "/usr/local/lib/python3.6/dist-packages/urllib3/connectionpool.py:847: InsecureRequestWarning: Unverified HTTPS request is being made. Adding certificate verification is strongly advised. See: https://urllib3.readthedocs.io/en/latest/advanced-usage.html#ssl-warnings\n",
            "  InsecureRequestWarning)\n"
          ],
          "name": "stderr"
        },
        {
          "output_type": "stream",
          "text": [
            "Image sucessfully Downloaded:  72197-306-03.jpg\n",
            "Image sucessfully Downloaded:  72198-001-03.jpg\n"
          ],
          "name": "stdout"
        },
        {
          "output_type": "stream",
          "text": [
            "/usr/local/lib/python3.6/dist-packages/urllib3/connectionpool.py:847: InsecureRequestWarning: Unverified HTTPS request is being made. Adding certificate verification is strongly advised. See: https://urllib3.readthedocs.io/en/latest/advanced-usage.html#ssl-warnings\n",
            "  InsecureRequestWarning)\n",
            "/usr/local/lib/python3.6/dist-packages/urllib3/connectionpool.py:847: InsecureRequestWarning: Unverified HTTPS request is being made. Adding certificate verification is strongly advised. See: https://urllib3.readthedocs.io/en/latest/advanced-usage.html#ssl-warnings\n",
            "  InsecureRequestWarning)\n"
          ],
          "name": "stderr"
        },
        {
          "output_type": "stream",
          "text": [
            "Image sucessfully Downloaded:  72198-306-03.jpg\n"
          ],
          "name": "stdout"
        },
        {
          "output_type": "stream",
          "text": [
            "/usr/local/lib/python3.6/dist-packages/urllib3/connectionpool.py:847: InsecureRequestWarning: Unverified HTTPS request is being made. Adding certificate verification is strongly advised. See: https://urllib3.readthedocs.io/en/latest/advanced-usage.html#ssl-warnings\n",
            "  InsecureRequestWarning)\n"
          ],
          "name": "stderr"
        },
        {
          "output_type": "stream",
          "text": [
            "Image sucessfully Downloaded:  72198-500-03.jpg\n"
          ],
          "name": "stdout"
        },
        {
          "output_type": "stream",
          "text": [
            "/usr/local/lib/python3.6/dist-packages/urllib3/connectionpool.py:847: InsecureRequestWarning: Unverified HTTPS request is being made. Adding certificate verification is strongly advised. See: https://urllib3.readthedocs.io/en/latest/advanced-usage.html#ssl-warnings\n",
            "  InsecureRequestWarning)\n"
          ],
          "name": "stderr"
        },
        {
          "output_type": "stream",
          "text": [
            "Image sucessfully Downloaded:  72400-001-03.jpg\n",
            "Image sucessfully Downloaded:  72400-040-03.jpg\n"
          ],
          "name": "stdout"
        },
        {
          "output_type": "stream",
          "text": [
            "/usr/local/lib/python3.6/dist-packages/urllib3/connectionpool.py:847: InsecureRequestWarning: Unverified HTTPS request is being made. Adding certificate verification is strongly advised. See: https://urllib3.readthedocs.io/en/latest/advanced-usage.html#ssl-warnings\n",
            "  InsecureRequestWarning)\n",
            "/usr/local/lib/python3.6/dist-packages/urllib3/connectionpool.py:847: InsecureRequestWarning: Unverified HTTPS request is being made. Adding certificate verification is strongly advised. See: https://urllib3.readthedocs.io/en/latest/advanced-usage.html#ssl-warnings\n",
            "  InsecureRequestWarning)\n"
          ],
          "name": "stderr"
        },
        {
          "output_type": "stream",
          "text": [
            "Image sucessfully Downloaded:  72406-001-03.jpg\n",
            "Image sucessfully Downloaded:  72406-303-03.jpg\n"
          ],
          "name": "stdout"
        },
        {
          "output_type": "stream",
          "text": [
            "/usr/local/lib/python3.6/dist-packages/urllib3/connectionpool.py:847: InsecureRequestWarning: Unverified HTTPS request is being made. Adding certificate verification is strongly advised. See: https://urllib3.readthedocs.io/en/latest/advanced-usage.html#ssl-warnings\n",
            "  InsecureRequestWarning)\n",
            "/usr/local/lib/python3.6/dist-packages/urllib3/connectionpool.py:847: InsecureRequestWarning: Unverified HTTPS request is being made. Adding certificate verification is strongly advised. See: https://urllib3.readthedocs.io/en/latest/advanced-usage.html#ssl-warnings\n",
            "  InsecureRequestWarning)\n"
          ],
          "name": "stderr"
        },
        {
          "output_type": "stream",
          "text": [
            "Image sucessfully Downloaded:  72412-221-03.jpg\n",
            "Image sucessfully Downloaded:  72412-260-03.jpg\n"
          ],
          "name": "stdout"
        },
        {
          "output_type": "stream",
          "text": [
            "/usr/local/lib/python3.6/dist-packages/urllib3/connectionpool.py:847: InsecureRequestWarning: Unverified HTTPS request is being made. Adding certificate verification is strongly advised. See: https://urllib3.readthedocs.io/en/latest/advanced-usage.html#ssl-warnings\n",
            "  InsecureRequestWarning)\n",
            "/usr/local/lib/python3.6/dist-packages/urllib3/connectionpool.py:847: InsecureRequestWarning: Unverified HTTPS request is being made. Adding certificate verification is strongly advised. See: https://urllib3.readthedocs.io/en/latest/advanced-usage.html#ssl-warnings\n",
            "  InsecureRequestWarning)\n"
          ],
          "name": "stderr"
        },
        {
          "output_type": "stream",
          "text": [
            "Image sucessfully Downloaded:  72413-221-03.jpg\n"
          ],
          "name": "stdout"
        },
        {
          "output_type": "stream",
          "text": [
            "/usr/local/lib/python3.6/dist-packages/urllib3/connectionpool.py:847: InsecureRequestWarning: Unverified HTTPS request is being made. Adding certificate verification is strongly advised. See: https://urllib3.readthedocs.io/en/latest/advanced-usage.html#ssl-warnings\n",
            "  InsecureRequestWarning)\n"
          ],
          "name": "stderr"
        },
        {
          "output_type": "stream",
          "text": [
            "Image sucessfully Downloaded:  72413-260-03.jpg\n"
          ],
          "name": "stdout"
        },
        {
          "output_type": "stream",
          "text": [
            "/usr/local/lib/python3.6/dist-packages/urllib3/connectionpool.py:847: InsecureRequestWarning: Unverified HTTPS request is being made. Adding certificate verification is strongly advised. See: https://urllib3.readthedocs.io/en/latest/advanced-usage.html#ssl-warnings\n",
            "  InsecureRequestWarning)\n"
          ],
          "name": "stderr"
        },
        {
          "output_type": "stream",
          "text": [
            "Image sucessfully Downloaded:  72522-009-03.jpg\n"
          ],
          "name": "stdout"
        },
        {
          "output_type": "stream",
          "text": [
            "/usr/local/lib/python3.6/dist-packages/urllib3/connectionpool.py:847: InsecureRequestWarning: Unverified HTTPS request is being made. Adding certificate verification is strongly advised. See: https://urllib3.readthedocs.io/en/latest/advanced-usage.html#ssl-warnings\n",
            "  InsecureRequestWarning)\n"
          ],
          "name": "stderr"
        },
        {
          "output_type": "stream",
          "text": [
            "Image sucessfully Downloaded:  71460-001-04.jpg\n"
          ],
          "name": "stdout"
        },
        {
          "output_type": "stream",
          "text": [
            "/usr/local/lib/python3.6/dist-packages/urllib3/connectionpool.py:847: InsecureRequestWarning: Unverified HTTPS request is being made. Adding certificate verification is strongly advised. See: https://urllib3.readthedocs.io/en/latest/advanced-usage.html#ssl-warnings\n",
            "  InsecureRequestWarning)\n"
          ],
          "name": "stderr"
        },
        {
          "output_type": "stream",
          "text": [
            "Image sucessfully Downloaded:  72165I-409-04.jpg\n",
            "Image sucessfully Downloaded:  72606I-074-04.jpg\n"
          ],
          "name": "stdout"
        },
        {
          "output_type": "stream",
          "text": [
            "/usr/local/lib/python3.6/dist-packages/urllib3/connectionpool.py:847: InsecureRequestWarning: Unverified HTTPS request is being made. Adding certificate verification is strongly advised. See: https://urllib3.readthedocs.io/en/latest/advanced-usage.html#ssl-warnings\n",
            "  InsecureRequestWarning)\n",
            "/usr/local/lib/python3.6/dist-packages/urllib3/connectionpool.py:847: InsecureRequestWarning: Unverified HTTPS request is being made. Adding certificate verification is strongly advised. See: https://urllib3.readthedocs.io/en/latest/advanced-usage.html#ssl-warnings\n",
            "  InsecureRequestWarning)\n"
          ],
          "name": "stderr"
        },
        {
          "output_type": "stream",
          "text": [
            "Image sucessfully Downloaded:  78756-009-04.jpg\n"
          ],
          "name": "stdout"
        },
        {
          "output_type": "stream",
          "text": [
            "/usr/local/lib/python3.6/dist-packages/urllib3/connectionpool.py:847: InsecureRequestWarning: Unverified HTTPS request is being made. Adding certificate verification is strongly advised. See: https://urllib3.readthedocs.io/en/latest/advanced-usage.html#ssl-warnings\n",
            "  InsecureRequestWarning)\n"
          ],
          "name": "stderr"
        },
        {
          "output_type": "stream",
          "text": [
            "Image sucessfully Downloaded:  78759-009-04.jpg\n",
            "Image sucessfully Downloaded:  78759-540-04.jpg\n"
          ],
          "name": "stdout"
        },
        {
          "output_type": "stream",
          "text": [
            "/usr/local/lib/python3.6/dist-packages/urllib3/connectionpool.py:847: InsecureRequestWarning: Unverified HTTPS request is being made. Adding certificate verification is strongly advised. See: https://urllib3.readthedocs.io/en/latest/advanced-usage.html#ssl-warnings\n",
            "  InsecureRequestWarning)\n",
            "/usr/local/lib/python3.6/dist-packages/urllib3/connectionpool.py:847: InsecureRequestWarning: Unverified HTTPS request is being made. Adding certificate verification is strongly advised. See: https://urllib3.readthedocs.io/en/latest/advanced-usage.html#ssl-warnings\n",
            "  InsecureRequestWarning)\n"
          ],
          "name": "stderr"
        },
        {
          "output_type": "stream",
          "text": [
            "Image sucessfully Downloaded:  60542-973-04.jpg\n"
          ],
          "name": "stdout"
        },
        {
          "output_type": "stream",
          "text": [
            "/usr/local/lib/python3.6/dist-packages/urllib3/connectionpool.py:847: InsecureRequestWarning: Unverified HTTPS request is being made. Adding certificate verification is strongly advised. See: https://urllib3.readthedocs.io/en/latest/advanced-usage.html#ssl-warnings\n",
            "  InsecureRequestWarning)\n"
          ],
          "name": "stderr"
        },
        {
          "output_type": "stream",
          "text": [
            "Image sucessfully Downloaded:  61142-001-04.jpg\n"
          ],
          "name": "stdout"
        },
        {
          "output_type": "stream",
          "text": [
            "/usr/local/lib/python3.6/dist-packages/urllib3/connectionpool.py:847: InsecureRequestWarning: Unverified HTTPS request is being made. Adding certificate verification is strongly advised. See: https://urllib3.readthedocs.io/en/latest/advanced-usage.html#ssl-warnings\n",
            "  InsecureRequestWarning)\n"
          ],
          "name": "stderr"
        },
        {
          "output_type": "stream",
          "text": [
            "Image sucessfully Downloaded:  69172-001-04.jpg\n",
            "Image Couldn't be retreived\n"
          ],
          "name": "stdout"
        },
        {
          "output_type": "stream",
          "text": [
            "/usr/local/lib/python3.6/dist-packages/urllib3/connectionpool.py:847: InsecureRequestWarning: Unverified HTTPS request is being made. Adding certificate verification is strongly advised. See: https://urllib3.readthedocs.io/en/latest/advanced-usage.html#ssl-warnings\n",
            "  InsecureRequestWarning)\n",
            "/usr/local/lib/python3.6/dist-packages/urllib3/connectionpool.py:847: InsecureRequestWarning: Unverified HTTPS request is being made. Adding certificate verification is strongly advised. See: https://urllib3.readthedocs.io/en/latest/advanced-usage.html#ssl-warnings\n",
            "  InsecureRequestWarning)\n"
          ],
          "name": "stderr"
        },
        {
          "output_type": "stream",
          "text": [
            "Image sucessfully Downloaded:  72234CT-001-04.jpg\n"
          ],
          "name": "stdout"
        },
        {
          "output_type": "stream",
          "text": [
            "/usr/local/lib/python3.6/dist-packages/urllib3/connectionpool.py:847: InsecureRequestWarning: Unverified HTTPS request is being made. Adding certificate verification is strongly advised. See: https://urllib3.readthedocs.io/en/latest/advanced-usage.html#ssl-warnings\n",
            "  InsecureRequestWarning)\n"
          ],
          "name": "stderr"
        },
        {
          "output_type": "stream",
          "text": [
            "Image sucessfully Downloaded:  72234CT-200-04.jpg\n"
          ],
          "name": "stdout"
        },
        {
          "output_type": "stream",
          "text": [
            "/usr/local/lib/python3.6/dist-packages/urllib3/connectionpool.py:847: InsecureRequestWarning: Unverified HTTPS request is being made. Adding certificate verification is strongly advised. See: https://urllib3.readthedocs.io/en/latest/advanced-usage.html#ssl-warnings\n",
            "  InsecureRequestWarning)\n"
          ],
          "name": "stderr"
        },
        {
          "output_type": "stream",
          "text": [
            "Image sucessfully Downloaded:  72235CT-200-04.jpg\n"
          ],
          "name": "stdout"
        },
        {
          "output_type": "stream",
          "text": [
            "/usr/local/lib/python3.6/dist-packages/urllib3/connectionpool.py:847: InsecureRequestWarning: Unverified HTTPS request is being made. Adding certificate verification is strongly advised. See: https://urllib3.readthedocs.io/en/latest/advanced-usage.html#ssl-warnings\n",
            "  InsecureRequestWarning)\n"
          ],
          "name": "stderr"
        },
        {
          "output_type": "stream",
          "text": [
            "Image sucessfully Downloaded:  72301CT-009-04.jpg\n"
          ],
          "name": "stdout"
        },
        {
          "output_type": "stream",
          "text": [
            "/usr/local/lib/python3.6/dist-packages/urllib3/connectionpool.py:847: InsecureRequestWarning: Unverified HTTPS request is being made. Adding certificate verification is strongly advised. See: https://urllib3.readthedocs.io/en/latest/advanced-usage.html#ssl-warnings\n",
            "  InsecureRequestWarning)\n"
          ],
          "name": "stderr"
        },
        {
          "output_type": "stream",
          "text": [
            "Image sucessfully Downloaded:  72301CT-249-04.jpg\n"
          ],
          "name": "stdout"
        },
        {
          "output_type": "stream",
          "text": [
            "/usr/local/lib/python3.6/dist-packages/urllib3/connectionpool.py:847: InsecureRequestWarning: Unverified HTTPS request is being made. Adding certificate verification is strongly advised. See: https://urllib3.readthedocs.io/en/latest/advanced-usage.html#ssl-warnings\n",
            "  InsecureRequestWarning)\n"
          ],
          "name": "stderr"
        },
        {
          "output_type": "stream",
          "text": [
            "Image sucessfully Downloaded:  72302CT-009-04.jpg\n"
          ],
          "name": "stdout"
        },
        {
          "output_type": "stream",
          "text": [
            "/usr/local/lib/python3.6/dist-packages/urllib3/connectionpool.py:847: InsecureRequestWarning: Unverified HTTPS request is being made. Adding certificate verification is strongly advised. See: https://urllib3.readthedocs.io/en/latest/advanced-usage.html#ssl-warnings\n",
            "  InsecureRequestWarning)\n"
          ],
          "name": "stderr"
        },
        {
          "output_type": "stream",
          "text": [
            "Image sucessfully Downloaded:  72302CT-249-04.jpg\n"
          ],
          "name": "stdout"
        },
        {
          "output_type": "stream",
          "text": [
            "/usr/local/lib/python3.6/dist-packages/urllib3/connectionpool.py:847: InsecureRequestWarning: Unverified HTTPS request is being made. Adding certificate verification is strongly advised. See: https://urllib3.readthedocs.io/en/latest/advanced-usage.html#ssl-warnings\n",
            "  InsecureRequestWarning)\n"
          ],
          "name": "stderr"
        },
        {
          "output_type": "stream",
          "text": [
            "Image sucessfully Downloaded:  72303CT-249-04.jpg\n"
          ],
          "name": "stdout"
        },
        {
          "output_type": "stream",
          "text": [
            "/usr/local/lib/python3.6/dist-packages/urllib3/connectionpool.py:847: InsecureRequestWarning: Unverified HTTPS request is being made. Adding certificate verification is strongly advised. See: https://urllib3.readthedocs.io/en/latest/advanced-usage.html#ssl-warnings\n",
            "  InsecureRequestWarning)\n"
          ],
          "name": "stderr"
        },
        {
          "output_type": "stream",
          "text": [
            "Image sucessfully Downloaded:  72469-201-04.jpg\n"
          ],
          "name": "stdout"
        },
        {
          "output_type": "stream",
          "text": [
            "/usr/local/lib/python3.6/dist-packages/urllib3/connectionpool.py:847: InsecureRequestWarning: Unverified HTTPS request is being made. Adding certificate verification is strongly advised. See: https://urllib3.readthedocs.io/en/latest/advanced-usage.html#ssl-warnings\n",
            "  InsecureRequestWarning)\n"
          ],
          "name": "stderr"
        },
        {
          "output_type": "stream",
          "text": [
            "Image sucessfully Downloaded:  72469-231-04.jpg\n",
            "Image sucessfully Downloaded:  72470-020-04.jpg\n"
          ],
          "name": "stdout"
        },
        {
          "output_type": "stream",
          "text": [
            "/usr/local/lib/python3.6/dist-packages/urllib3/connectionpool.py:847: InsecureRequestWarning: Unverified HTTPS request is being made. Adding certificate verification is strongly advised. See: https://urllib3.readthedocs.io/en/latest/advanced-usage.html#ssl-warnings\n",
            "  InsecureRequestWarning)\n",
            "/usr/local/lib/python3.6/dist-packages/urllib3/connectionpool.py:847: InsecureRequestWarning: Unverified HTTPS request is being made. Adding certificate verification is strongly advised. See: https://urllib3.readthedocs.io/en/latest/advanced-usage.html#ssl-warnings\n",
            "  InsecureRequestWarning)\n",
            "/usr/local/lib/python3.6/dist-packages/urllib3/connectionpool.py:847: InsecureRequestWarning: Unverified HTTPS request is being made. Adding certificate verification is strongly advised. See: https://urllib3.readthedocs.io/en/latest/advanced-usage.html#ssl-warnings\n",
            "  InsecureRequestWarning)\n"
          ],
          "name": "stderr"
        },
        {
          "output_type": "stream",
          "text": [
            "Image sucessfully Downloaded:  72470-201-04.jpg\n",
            "Image sucessfully Downloaded:  72470-231-04.jpg\n"
          ],
          "name": "stdout"
        },
        {
          "output_type": "stream",
          "text": [
            "/usr/local/lib/python3.6/dist-packages/urllib3/connectionpool.py:847: InsecureRequestWarning: Unverified HTTPS request is being made. Adding certificate verification is strongly advised. See: https://urllib3.readthedocs.io/en/latest/advanced-usage.html#ssl-warnings\n",
            "  InsecureRequestWarning)\n",
            "/usr/local/lib/python3.6/dist-packages/urllib3/connectionpool.py:847: InsecureRequestWarning: Unverified HTTPS request is being made. Adding certificate verification is strongly advised. See: https://urllib3.readthedocs.io/en/latest/advanced-usage.html#ssl-warnings\n",
            "  InsecureRequestWarning)\n"
          ],
          "name": "stderr"
        },
        {
          "output_type": "stream",
          "text": [
            "Image sucessfully Downloaded:  72619-001-04.jpg\n",
            "Image sucessfully Downloaded:  72619-200-04.jpg\n"
          ],
          "name": "stdout"
        },
        {
          "output_type": "stream",
          "text": [
            "/usr/local/lib/python3.6/dist-packages/urllib3/connectionpool.py:847: InsecureRequestWarning: Unverified HTTPS request is being made. Adding certificate verification is strongly advised. See: https://urllib3.readthedocs.io/en/latest/advanced-usage.html#ssl-warnings\n",
            "  InsecureRequestWarning)\n",
            "/usr/local/lib/python3.6/dist-packages/urllib3/connectionpool.py:847: InsecureRequestWarning: Unverified HTTPS request is being made. Adding certificate verification is strongly advised. See: https://urllib3.readthedocs.io/en/latest/advanced-usage.html#ssl-warnings\n",
            "  InsecureRequestWarning)\n"
          ],
          "name": "stderr"
        },
        {
          "output_type": "stream",
          "text": [
            "Image sucessfully Downloaded:  72197-001-04.jpg\n",
            "Image sucessfully Downloaded:  72197-306-04.jpg\n"
          ],
          "name": "stdout"
        },
        {
          "output_type": "stream",
          "text": [
            "/usr/local/lib/python3.6/dist-packages/urllib3/connectionpool.py:847: InsecureRequestWarning: Unverified HTTPS request is being made. Adding certificate verification is strongly advised. See: https://urllib3.readthedocs.io/en/latest/advanced-usage.html#ssl-warnings\n",
            "  InsecureRequestWarning)\n",
            "/usr/local/lib/python3.6/dist-packages/urllib3/connectionpool.py:847: InsecureRequestWarning: Unverified HTTPS request is being made. Adding certificate verification is strongly advised. See: https://urllib3.readthedocs.io/en/latest/advanced-usage.html#ssl-warnings\n",
            "  InsecureRequestWarning)\n"
          ],
          "name": "stderr"
        },
        {
          "output_type": "stream",
          "text": [
            "Image sucessfully Downloaded:  72198-001-04.jpg\n",
            "Image sucessfully Downloaded:  72198-306-04.jpg\n",
            "Image sucessfully Downloaded:  72198-500-04.jpg\n"
          ],
          "name": "stdout"
        },
        {
          "output_type": "stream",
          "text": [
            "/usr/local/lib/python3.6/dist-packages/urllib3/connectionpool.py:847: InsecureRequestWarning: Unverified HTTPS request is being made. Adding certificate verification is strongly advised. See: https://urllib3.readthedocs.io/en/latest/advanced-usage.html#ssl-warnings\n",
            "  InsecureRequestWarning)\n",
            "/usr/local/lib/python3.6/dist-packages/urllib3/connectionpool.py:847: InsecureRequestWarning: Unverified HTTPS request is being made. Adding certificate verification is strongly advised. See: https://urllib3.readthedocs.io/en/latest/advanced-usage.html#ssl-warnings\n",
            "  InsecureRequestWarning)\n"
          ],
          "name": "stderr"
        },
        {
          "output_type": "stream",
          "text": [
            "Image sucessfully Downloaded:  72400-001-04.jpg\n"
          ],
          "name": "stdout"
        },
        {
          "output_type": "stream",
          "text": [
            "/usr/local/lib/python3.6/dist-packages/urllib3/connectionpool.py:847: InsecureRequestWarning: Unverified HTTPS request is being made. Adding certificate verification is strongly advised. See: https://urllib3.readthedocs.io/en/latest/advanced-usage.html#ssl-warnings\n",
            "  InsecureRequestWarning)\n"
          ],
          "name": "stderr"
        },
        {
          "output_type": "stream",
          "text": [
            "Image sucessfully Downloaded:  72400-040-04.jpg\n",
            "Image sucessfully Downloaded:  72406-001-04.jpg\n"
          ],
          "name": "stdout"
        },
        {
          "output_type": "stream",
          "text": [
            "/usr/local/lib/python3.6/dist-packages/urllib3/connectionpool.py:847: InsecureRequestWarning: Unverified HTTPS request is being made. Adding certificate verification is strongly advised. See: https://urllib3.readthedocs.io/en/latest/advanced-usage.html#ssl-warnings\n",
            "  InsecureRequestWarning)\n",
            "/usr/local/lib/python3.6/dist-packages/urllib3/connectionpool.py:847: InsecureRequestWarning: Unverified HTTPS request is being made. Adding certificate verification is strongly advised. See: https://urllib3.readthedocs.io/en/latest/advanced-usage.html#ssl-warnings\n",
            "  InsecureRequestWarning)\n"
          ],
          "name": "stderr"
        },
        {
          "output_type": "stream",
          "text": [
            "Image sucessfully Downloaded:  72406-303-04.jpg\n"
          ],
          "name": "stdout"
        },
        {
          "output_type": "stream",
          "text": [
            "/usr/local/lib/python3.6/dist-packages/urllib3/connectionpool.py:847: InsecureRequestWarning: Unverified HTTPS request is being made. Adding certificate verification is strongly advised. See: https://urllib3.readthedocs.io/en/latest/advanced-usage.html#ssl-warnings\n",
            "  InsecureRequestWarning)\n"
          ],
          "name": "stderr"
        },
        {
          "output_type": "stream",
          "text": [
            "Image sucessfully Downloaded:  72412-221-04.jpg\n"
          ],
          "name": "stdout"
        },
        {
          "output_type": "stream",
          "text": [
            "/usr/local/lib/python3.6/dist-packages/urllib3/connectionpool.py:847: InsecureRequestWarning: Unverified HTTPS request is being made. Adding certificate verification is strongly advised. See: https://urllib3.readthedocs.io/en/latest/advanced-usage.html#ssl-warnings\n",
            "  InsecureRequestWarning)\n"
          ],
          "name": "stderr"
        },
        {
          "output_type": "stream",
          "text": [
            "Image sucessfully Downloaded:  72412-260-04.jpg\n",
            "Image sucessfully Downloaded:  72413-221-04.jpg\n"
          ],
          "name": "stdout"
        },
        {
          "output_type": "stream",
          "text": [
            "/usr/local/lib/python3.6/dist-packages/urllib3/connectionpool.py:847: InsecureRequestWarning: Unverified HTTPS request is being made. Adding certificate verification is strongly advised. See: https://urllib3.readthedocs.io/en/latest/advanced-usage.html#ssl-warnings\n",
            "  InsecureRequestWarning)\n",
            "/usr/local/lib/python3.6/dist-packages/urllib3/connectionpool.py:847: InsecureRequestWarning: Unverified HTTPS request is being made. Adding certificate verification is strongly advised. See: https://urllib3.readthedocs.io/en/latest/advanced-usage.html#ssl-warnings\n",
            "  InsecureRequestWarning)\n"
          ],
          "name": "stderr"
        },
        {
          "output_type": "stream",
          "text": [
            "Image sucessfully Downloaded:  72413-260-04.jpg\n",
            "Image sucessfully Downloaded:  72522-009-04.jpg\n"
          ],
          "name": "stdout"
        },
        {
          "output_type": "stream",
          "text": [
            "/usr/local/lib/python3.6/dist-packages/urllib3/connectionpool.py:847: InsecureRequestWarning: Unverified HTTPS request is being made. Adding certificate verification is strongly advised. See: https://urllib3.readthedocs.io/en/latest/advanced-usage.html#ssl-warnings\n",
            "  InsecureRequestWarning)\n",
            "/usr/local/lib/python3.6/dist-packages/urllib3/connectionpool.py:847: InsecureRequestWarning: Unverified HTTPS request is being made. Adding certificate verification is strongly advised. See: https://urllib3.readthedocs.io/en/latest/advanced-usage.html#ssl-warnings\n",
            "  InsecureRequestWarning)\n"
          ],
          "name": "stderr"
        },
        {
          "output_type": "stream",
          "text": [
            "Image sucessfully Downloaded:  71460-001-05.jpg\n"
          ],
          "name": "stdout"
        },
        {
          "output_type": "stream",
          "text": [
            "/usr/local/lib/python3.6/dist-packages/urllib3/connectionpool.py:847: InsecureRequestWarning: Unverified HTTPS request is being made. Adding certificate verification is strongly advised. See: https://urllib3.readthedocs.io/en/latest/advanced-usage.html#ssl-warnings\n",
            "  InsecureRequestWarning)\n"
          ],
          "name": "stderr"
        },
        {
          "output_type": "stream",
          "text": [
            "Image sucessfully Downloaded:  72165I-409-05.jpg\n"
          ],
          "name": "stdout"
        },
        {
          "output_type": "stream",
          "text": [
            "/usr/local/lib/python3.6/dist-packages/urllib3/connectionpool.py:847: InsecureRequestWarning: Unverified HTTPS request is being made. Adding certificate verification is strongly advised. See: https://urllib3.readthedocs.io/en/latest/advanced-usage.html#ssl-warnings\n",
            "  InsecureRequestWarning)\n"
          ],
          "name": "stderr"
        },
        {
          "output_type": "stream",
          "text": [
            "Image sucessfully Downloaded:  72606I-074-05.jpg\n"
          ],
          "name": "stdout"
        },
        {
          "output_type": "stream",
          "text": [
            "/usr/local/lib/python3.6/dist-packages/urllib3/connectionpool.py:847: InsecureRequestWarning: Unverified HTTPS request is being made. Adding certificate verification is strongly advised. See: https://urllib3.readthedocs.io/en/latest/advanced-usage.html#ssl-warnings\n",
            "  InsecureRequestWarning)\n"
          ],
          "name": "stderr"
        },
        {
          "output_type": "stream",
          "text": [
            "Image sucessfully Downloaded:  78756-009-05.jpg\n"
          ],
          "name": "stdout"
        },
        {
          "output_type": "stream",
          "text": [
            "/usr/local/lib/python3.6/dist-packages/urllib3/connectionpool.py:847: InsecureRequestWarning: Unverified HTTPS request is being made. Adding certificate verification is strongly advised. See: https://urllib3.readthedocs.io/en/latest/advanced-usage.html#ssl-warnings\n",
            "  InsecureRequestWarning)\n"
          ],
          "name": "stderr"
        },
        {
          "output_type": "stream",
          "text": [
            "Image sucessfully Downloaded:  78759-009-05.jpg\n"
          ],
          "name": "stdout"
        },
        {
          "output_type": "stream",
          "text": [
            "/usr/local/lib/python3.6/dist-packages/urllib3/connectionpool.py:847: InsecureRequestWarning: Unverified HTTPS request is being made. Adding certificate verification is strongly advised. See: https://urllib3.readthedocs.io/en/latest/advanced-usage.html#ssl-warnings\n",
            "  InsecureRequestWarning)\n"
          ],
          "name": "stderr"
        },
        {
          "output_type": "stream",
          "text": [
            "Image sucessfully Downloaded:  78759-540-05.jpg\n"
          ],
          "name": "stdout"
        },
        {
          "output_type": "stream",
          "text": [
            "/usr/local/lib/python3.6/dist-packages/urllib3/connectionpool.py:847: InsecureRequestWarning: Unverified HTTPS request is being made. Adding certificate verification is strongly advised. See: https://urllib3.readthedocs.io/en/latest/advanced-usage.html#ssl-warnings\n",
            "  InsecureRequestWarning)\n"
          ],
          "name": "stderr"
        },
        {
          "output_type": "stream",
          "text": [
            "Image sucessfully Downloaded:  60542-973-05.jpg\n"
          ],
          "name": "stdout"
        },
        {
          "output_type": "stream",
          "text": [
            "/usr/local/lib/python3.6/dist-packages/urllib3/connectionpool.py:847: InsecureRequestWarning: Unverified HTTPS request is being made. Adding certificate verification is strongly advised. See: https://urllib3.readthedocs.io/en/latest/advanced-usage.html#ssl-warnings\n",
            "  InsecureRequestWarning)\n"
          ],
          "name": "stderr"
        },
        {
          "output_type": "stream",
          "text": [
            "Image sucessfully Downloaded:  61142-001-05.jpg\n"
          ],
          "name": "stdout"
        },
        {
          "output_type": "stream",
          "text": [
            "/usr/local/lib/python3.6/dist-packages/urllib3/connectionpool.py:847: InsecureRequestWarning: Unverified HTTPS request is being made. Adding certificate verification is strongly advised. See: https://urllib3.readthedocs.io/en/latest/advanced-usage.html#ssl-warnings\n",
            "  InsecureRequestWarning)\n"
          ],
          "name": "stderr"
        },
        {
          "output_type": "stream",
          "text": [
            "Image sucessfully Downloaded:  69172-001-05.jpg\n"
          ],
          "name": "stdout"
        },
        {
          "output_type": "stream",
          "text": [
            "/usr/local/lib/python3.6/dist-packages/urllib3/connectionpool.py:847: InsecureRequestWarning: Unverified HTTPS request is being made. Adding certificate verification is strongly advised. See: https://urllib3.readthedocs.io/en/latest/advanced-usage.html#ssl-warnings\n",
            "  InsecureRequestWarning)\n"
          ],
          "name": "stderr"
        },
        {
          "output_type": "stream",
          "text": [
            "Image sucessfully Downloaded:  72132-001-05.jpg\n"
          ],
          "name": "stdout"
        },
        {
          "output_type": "stream",
          "text": [
            "/usr/local/lib/python3.6/dist-packages/urllib3/connectionpool.py:847: InsecureRequestWarning: Unverified HTTPS request is being made. Adding certificate verification is strongly advised. See: https://urllib3.readthedocs.io/en/latest/advanced-usage.html#ssl-warnings\n",
            "  InsecureRequestWarning)\n"
          ],
          "name": "stderr"
        },
        {
          "output_type": "stream",
          "text": [
            "Image sucessfully Downloaded:  72234CT-001-05.jpg\n"
          ],
          "name": "stdout"
        },
        {
          "output_type": "stream",
          "text": [
            "/usr/local/lib/python3.6/dist-packages/urllib3/connectionpool.py:847: InsecureRequestWarning: Unverified HTTPS request is being made. Adding certificate verification is strongly advised. See: https://urllib3.readthedocs.io/en/latest/advanced-usage.html#ssl-warnings\n",
            "  InsecureRequestWarning)\n"
          ],
          "name": "stderr"
        },
        {
          "output_type": "stream",
          "text": [
            "Image sucessfully Downloaded:  72234CT-200-05.jpg\n"
          ],
          "name": "stdout"
        },
        {
          "output_type": "stream",
          "text": [
            "/usr/local/lib/python3.6/dist-packages/urllib3/connectionpool.py:847: InsecureRequestWarning: Unverified HTTPS request is being made. Adding certificate verification is strongly advised. See: https://urllib3.readthedocs.io/en/latest/advanced-usage.html#ssl-warnings\n",
            "  InsecureRequestWarning)\n"
          ],
          "name": "stderr"
        },
        {
          "output_type": "stream",
          "text": [
            "Image sucessfully Downloaded:  72235CT-200-05.jpg\n"
          ],
          "name": "stdout"
        },
        {
          "output_type": "stream",
          "text": [
            "/usr/local/lib/python3.6/dist-packages/urllib3/connectionpool.py:847: InsecureRequestWarning: Unverified HTTPS request is being made. Adding certificate verification is strongly advised. See: https://urllib3.readthedocs.io/en/latest/advanced-usage.html#ssl-warnings\n",
            "  InsecureRequestWarning)\n"
          ],
          "name": "stderr"
        },
        {
          "output_type": "stream",
          "text": [
            "Image sucessfully Downloaded:  72301CT-009-05.jpg\n"
          ],
          "name": "stdout"
        },
        {
          "output_type": "stream",
          "text": [
            "/usr/local/lib/python3.6/dist-packages/urllib3/connectionpool.py:847: InsecureRequestWarning: Unverified HTTPS request is being made. Adding certificate verification is strongly advised. See: https://urllib3.readthedocs.io/en/latest/advanced-usage.html#ssl-warnings\n",
            "  InsecureRequestWarning)\n"
          ],
          "name": "stderr"
        },
        {
          "output_type": "stream",
          "text": [
            "Image sucessfully Downloaded:  72301CT-249-05.jpg\n"
          ],
          "name": "stdout"
        },
        {
          "output_type": "stream",
          "text": [
            "/usr/local/lib/python3.6/dist-packages/urllib3/connectionpool.py:847: InsecureRequestWarning: Unverified HTTPS request is being made. Adding certificate verification is strongly advised. See: https://urllib3.readthedocs.io/en/latest/advanced-usage.html#ssl-warnings\n",
            "  InsecureRequestWarning)\n"
          ],
          "name": "stderr"
        },
        {
          "output_type": "stream",
          "text": [
            "Image sucessfully Downloaded:  72302CT-009-05.jpg\n"
          ],
          "name": "stdout"
        },
        {
          "output_type": "stream",
          "text": [
            "/usr/local/lib/python3.6/dist-packages/urllib3/connectionpool.py:847: InsecureRequestWarning: Unverified HTTPS request is being made. Adding certificate verification is strongly advised. See: https://urllib3.readthedocs.io/en/latest/advanced-usage.html#ssl-warnings\n",
            "  InsecureRequestWarning)\n"
          ],
          "name": "stderr"
        },
        {
          "output_type": "stream",
          "text": [
            "Image sucessfully Downloaded:  72302CT-249-05.jpg\n"
          ],
          "name": "stdout"
        },
        {
          "output_type": "stream",
          "text": [
            "/usr/local/lib/python3.6/dist-packages/urllib3/connectionpool.py:847: InsecureRequestWarning: Unverified HTTPS request is being made. Adding certificate verification is strongly advised. See: https://urllib3.readthedocs.io/en/latest/advanced-usage.html#ssl-warnings\n",
            "  InsecureRequestWarning)\n"
          ],
          "name": "stderr"
        },
        {
          "output_type": "stream",
          "text": [
            "Image sucessfully Downloaded:  72303CT-249-05.jpg\n"
          ],
          "name": "stdout"
        },
        {
          "output_type": "stream",
          "text": [
            "/usr/local/lib/python3.6/dist-packages/urllib3/connectionpool.py:847: InsecureRequestWarning: Unverified HTTPS request is being made. Adding certificate verification is strongly advised. See: https://urllib3.readthedocs.io/en/latest/advanced-usage.html#ssl-warnings\n",
            "  InsecureRequestWarning)\n"
          ],
          "name": "stderr"
        },
        {
          "output_type": "stream",
          "text": [
            "Image sucessfully Downloaded:  72469-201-05.jpg\n"
          ],
          "name": "stdout"
        },
        {
          "output_type": "stream",
          "text": [
            "/usr/local/lib/python3.6/dist-packages/urllib3/connectionpool.py:847: InsecureRequestWarning: Unverified HTTPS request is being made. Adding certificate verification is strongly advised. See: https://urllib3.readthedocs.io/en/latest/advanced-usage.html#ssl-warnings\n",
            "  InsecureRequestWarning)\n"
          ],
          "name": "stderr"
        },
        {
          "output_type": "stream",
          "text": [
            "Image sucessfully Downloaded:  72469-231-05.jpg\n",
            "Image sucessfully Downloaded:  72470-020-05.jpg\n"
          ],
          "name": "stdout"
        },
        {
          "output_type": "stream",
          "text": [
            "/usr/local/lib/python3.6/dist-packages/urllib3/connectionpool.py:847: InsecureRequestWarning: Unverified HTTPS request is being made. Adding certificate verification is strongly advised. See: https://urllib3.readthedocs.io/en/latest/advanced-usage.html#ssl-warnings\n",
            "  InsecureRequestWarning)\n",
            "/usr/local/lib/python3.6/dist-packages/urllib3/connectionpool.py:847: InsecureRequestWarning: Unverified HTTPS request is being made. Adding certificate verification is strongly advised. See: https://urllib3.readthedocs.io/en/latest/advanced-usage.html#ssl-warnings\n",
            "  InsecureRequestWarning)\n"
          ],
          "name": "stderr"
        },
        {
          "output_type": "stream",
          "text": [
            "Image sucessfully Downloaded:  72470-201-05.jpg\n"
          ],
          "name": "stdout"
        },
        {
          "output_type": "stream",
          "text": [
            "/usr/local/lib/python3.6/dist-packages/urllib3/connectionpool.py:847: InsecureRequestWarning: Unverified HTTPS request is being made. Adding certificate verification is strongly advised. See: https://urllib3.readthedocs.io/en/latest/advanced-usage.html#ssl-warnings\n",
            "  InsecureRequestWarning)\n"
          ],
          "name": "stderr"
        },
        {
          "output_type": "stream",
          "text": [
            "Image sucessfully Downloaded:  72470-231-05.jpg\n",
            "Image sucessfully Downloaded:  72619-001-05.jpg\n"
          ],
          "name": "stdout"
        },
        {
          "output_type": "stream",
          "text": [
            "/usr/local/lib/python3.6/dist-packages/urllib3/connectionpool.py:847: InsecureRequestWarning: Unverified HTTPS request is being made. Adding certificate verification is strongly advised. See: https://urllib3.readthedocs.io/en/latest/advanced-usage.html#ssl-warnings\n",
            "  InsecureRequestWarning)\n",
            "/usr/local/lib/python3.6/dist-packages/urllib3/connectionpool.py:847: InsecureRequestWarning: Unverified HTTPS request is being made. Adding certificate verification is strongly advised. See: https://urllib3.readthedocs.io/en/latest/advanced-usage.html#ssl-warnings\n",
            "  InsecureRequestWarning)\n"
          ],
          "name": "stderr"
        },
        {
          "output_type": "stream",
          "text": [
            "Image sucessfully Downloaded:  72619-200-05.jpg\n"
          ],
          "name": "stdout"
        },
        {
          "output_type": "stream",
          "text": [
            "/usr/local/lib/python3.6/dist-packages/urllib3/connectionpool.py:847: InsecureRequestWarning: Unverified HTTPS request is being made. Adding certificate verification is strongly advised. See: https://urllib3.readthedocs.io/en/latest/advanced-usage.html#ssl-warnings\n",
            "  InsecureRequestWarning)\n"
          ],
          "name": "stderr"
        },
        {
          "output_type": "stream",
          "text": [
            "Image sucessfully Downloaded:  72197-001-05.jpg\n"
          ],
          "name": "stdout"
        },
        {
          "output_type": "stream",
          "text": [
            "/usr/local/lib/python3.6/dist-packages/urllib3/connectionpool.py:847: InsecureRequestWarning: Unverified HTTPS request is being made. Adding certificate verification is strongly advised. See: https://urllib3.readthedocs.io/en/latest/advanced-usage.html#ssl-warnings\n",
            "  InsecureRequestWarning)\n"
          ],
          "name": "stderr"
        },
        {
          "output_type": "stream",
          "text": [
            "Image sucessfully Downloaded:  72197-306-05.jpg\n"
          ],
          "name": "stdout"
        },
        {
          "output_type": "stream",
          "text": [
            "/usr/local/lib/python3.6/dist-packages/urllib3/connectionpool.py:847: InsecureRequestWarning: Unverified HTTPS request is being made. Adding certificate verification is strongly advised. See: https://urllib3.readthedocs.io/en/latest/advanced-usage.html#ssl-warnings\n",
            "  InsecureRequestWarning)\n"
          ],
          "name": "stderr"
        },
        {
          "output_type": "stream",
          "text": [
            "Image sucessfully Downloaded:  72198-001-05.jpg\n"
          ],
          "name": "stdout"
        },
        {
          "output_type": "stream",
          "text": [
            "/usr/local/lib/python3.6/dist-packages/urllib3/connectionpool.py:847: InsecureRequestWarning: Unverified HTTPS request is being made. Adding certificate verification is strongly advised. See: https://urllib3.readthedocs.io/en/latest/advanced-usage.html#ssl-warnings\n",
            "  InsecureRequestWarning)\n"
          ],
          "name": "stderr"
        },
        {
          "output_type": "stream",
          "text": [
            "Image sucessfully Downloaded:  72198-306-05.jpg\n"
          ],
          "name": "stdout"
        },
        {
          "output_type": "stream",
          "text": [
            "/usr/local/lib/python3.6/dist-packages/urllib3/connectionpool.py:847: InsecureRequestWarning: Unverified HTTPS request is being made. Adding certificate verification is strongly advised. See: https://urllib3.readthedocs.io/en/latest/advanced-usage.html#ssl-warnings\n",
            "  InsecureRequestWarning)\n"
          ],
          "name": "stderr"
        },
        {
          "output_type": "stream",
          "text": [
            "Image sucessfully Downloaded:  72198-500-05.jpg\n"
          ],
          "name": "stdout"
        },
        {
          "output_type": "stream",
          "text": [
            "/usr/local/lib/python3.6/dist-packages/urllib3/connectionpool.py:847: InsecureRequestWarning: Unverified HTTPS request is being made. Adding certificate verification is strongly advised. See: https://urllib3.readthedocs.io/en/latest/advanced-usage.html#ssl-warnings\n",
            "  InsecureRequestWarning)\n"
          ],
          "name": "stderr"
        },
        {
          "output_type": "stream",
          "text": [
            "Image sucessfully Downloaded:  72400-001-05.jpg\n"
          ],
          "name": "stdout"
        },
        {
          "output_type": "stream",
          "text": [
            "/usr/local/lib/python3.6/dist-packages/urllib3/connectionpool.py:847: InsecureRequestWarning: Unverified HTTPS request is being made. Adding certificate verification is strongly advised. See: https://urllib3.readthedocs.io/en/latest/advanced-usage.html#ssl-warnings\n",
            "  InsecureRequestWarning)\n"
          ],
          "name": "stderr"
        },
        {
          "output_type": "stream",
          "text": [
            "Image sucessfully Downloaded:  72400-040-05.jpg\n",
            "Image sucessfully Downloaded:  72406-001-05.jpg\n"
          ],
          "name": "stdout"
        },
        {
          "output_type": "stream",
          "text": [
            "/usr/local/lib/python3.6/dist-packages/urllib3/connectionpool.py:847: InsecureRequestWarning: Unverified HTTPS request is being made. Adding certificate verification is strongly advised. See: https://urllib3.readthedocs.io/en/latest/advanced-usage.html#ssl-warnings\n",
            "  InsecureRequestWarning)\n",
            "/usr/local/lib/python3.6/dist-packages/urllib3/connectionpool.py:847: InsecureRequestWarning: Unverified HTTPS request is being made. Adding certificate verification is strongly advised. See: https://urllib3.readthedocs.io/en/latest/advanced-usage.html#ssl-warnings\n",
            "  InsecureRequestWarning)\n"
          ],
          "name": "stderr"
        },
        {
          "output_type": "stream",
          "text": [
            "Image sucessfully Downloaded:  72406-303-05.jpg\n"
          ],
          "name": "stdout"
        },
        {
          "output_type": "stream",
          "text": [
            "/usr/local/lib/python3.6/dist-packages/urllib3/connectionpool.py:847: InsecureRequestWarning: Unverified HTTPS request is being made. Adding certificate verification is strongly advised. See: https://urllib3.readthedocs.io/en/latest/advanced-usage.html#ssl-warnings\n",
            "  InsecureRequestWarning)\n"
          ],
          "name": "stderr"
        },
        {
          "output_type": "stream",
          "text": [
            "Image sucessfully Downloaded:  72412-221-05.jpg\n"
          ],
          "name": "stdout"
        },
        {
          "output_type": "stream",
          "text": [
            "/usr/local/lib/python3.6/dist-packages/urllib3/connectionpool.py:847: InsecureRequestWarning: Unverified HTTPS request is being made. Adding certificate verification is strongly advised. See: https://urllib3.readthedocs.io/en/latest/advanced-usage.html#ssl-warnings\n",
            "  InsecureRequestWarning)\n"
          ],
          "name": "stderr"
        },
        {
          "output_type": "stream",
          "text": [
            "Image sucessfully Downloaded:  72412-260-05.jpg\n",
            "Image sucessfully Downloaded:  72413-221-05.jpg\n"
          ],
          "name": "stdout"
        },
        {
          "output_type": "stream",
          "text": [
            "/usr/local/lib/python3.6/dist-packages/urllib3/connectionpool.py:847: InsecureRequestWarning: Unverified HTTPS request is being made. Adding certificate verification is strongly advised. See: https://urllib3.readthedocs.io/en/latest/advanced-usage.html#ssl-warnings\n",
            "  InsecureRequestWarning)\n",
            "/usr/local/lib/python3.6/dist-packages/urllib3/connectionpool.py:847: InsecureRequestWarning: Unverified HTTPS request is being made. Adding certificate verification is strongly advised. See: https://urllib3.readthedocs.io/en/latest/advanced-usage.html#ssl-warnings\n",
            "  InsecureRequestWarning)\n"
          ],
          "name": "stderr"
        },
        {
          "output_type": "stream",
          "text": [
            "Image sucessfully Downloaded:  72413-260-05.jpg\n",
            "Image sucessfully Downloaded:  72522-009-05.jpg\n"
          ],
          "name": "stdout"
        },
        {
          "output_type": "stream",
          "text": [
            "/usr/local/lib/python3.6/dist-packages/urllib3/connectionpool.py:847: InsecureRequestWarning: Unverified HTTPS request is being made. Adding certificate verification is strongly advised. See: https://urllib3.readthedocs.io/en/latest/advanced-usage.html#ssl-warnings\n",
            "  InsecureRequestWarning)\n",
            "/usr/local/lib/python3.6/dist-packages/urllib3/connectionpool.py:847: InsecureRequestWarning: Unverified HTTPS request is being made. Adding certificate verification is strongly advised. See: https://urllib3.readthedocs.io/en/latest/advanced-usage.html#ssl-warnings\n",
            "  InsecureRequestWarning)\n"
          ],
          "name": "stderr"
        },
        {
          "output_type": "stream",
          "text": [
            "Image sucessfully Downloaded:  71460-001-06.jpg\n",
            "Image Couldn't be retreived\n"
          ],
          "name": "stdout"
        },
        {
          "output_type": "stream",
          "text": [
            "/usr/local/lib/python3.6/dist-packages/urllib3/connectionpool.py:847: InsecureRequestWarning: Unverified HTTPS request is being made. Adding certificate verification is strongly advised. See: https://urllib3.readthedocs.io/en/latest/advanced-usage.html#ssl-warnings\n",
            "  InsecureRequestWarning)\n",
            "/usr/local/lib/python3.6/dist-packages/urllib3/connectionpool.py:847: InsecureRequestWarning: Unverified HTTPS request is being made. Adding certificate verification is strongly advised. See: https://urllib3.readthedocs.io/en/latest/advanced-usage.html#ssl-warnings\n",
            "  InsecureRequestWarning)\n"
          ],
          "name": "stderr"
        },
        {
          "output_type": "stream",
          "text": [
            "Image Couldn't be retreived\n",
            "Image Couldn't be retreived\n"
          ],
          "name": "stdout"
        },
        {
          "output_type": "stream",
          "text": [
            "/usr/local/lib/python3.6/dist-packages/urllib3/connectionpool.py:847: InsecureRequestWarning: Unverified HTTPS request is being made. Adding certificate verification is strongly advised. See: https://urllib3.readthedocs.io/en/latest/advanced-usage.html#ssl-warnings\n",
            "  InsecureRequestWarning)\n",
            "/usr/local/lib/python3.6/dist-packages/urllib3/connectionpool.py:847: InsecureRequestWarning: Unverified HTTPS request is being made. Adding certificate verification is strongly advised. See: https://urllib3.readthedocs.io/en/latest/advanced-usage.html#ssl-warnings\n",
            "  InsecureRequestWarning)\n"
          ],
          "name": "stderr"
        },
        {
          "output_type": "stream",
          "text": [
            "Image Couldn't be retreived\n",
            "Image Couldn't be retreived\n"
          ],
          "name": "stdout"
        },
        {
          "output_type": "stream",
          "text": [
            "/usr/local/lib/python3.6/dist-packages/urllib3/connectionpool.py:847: InsecureRequestWarning: Unverified HTTPS request is being made. Adding certificate verification is strongly advised. See: https://urllib3.readthedocs.io/en/latest/advanced-usage.html#ssl-warnings\n",
            "  InsecureRequestWarning)\n",
            "/usr/local/lib/python3.6/dist-packages/urllib3/connectionpool.py:847: InsecureRequestWarning: Unverified HTTPS request is being made. Adding certificate verification is strongly advised. See: https://urllib3.readthedocs.io/en/latest/advanced-usage.html#ssl-warnings\n",
            "  InsecureRequestWarning)\n"
          ],
          "name": "stderr"
        },
        {
          "output_type": "stream",
          "text": [
            "Image Couldn't be retreived\n"
          ],
          "name": "stdout"
        },
        {
          "output_type": "stream",
          "text": [
            "/usr/local/lib/python3.6/dist-packages/urllib3/connectionpool.py:847: InsecureRequestWarning: Unverified HTTPS request is being made. Adding certificate verification is strongly advised. See: https://urllib3.readthedocs.io/en/latest/advanced-usage.html#ssl-warnings\n",
            "  InsecureRequestWarning)\n"
          ],
          "name": "stderr"
        },
        {
          "output_type": "stream",
          "text": [
            "Image sucessfully Downloaded:  61142-001-06.jpg\n",
            "Image Couldn't be retreived\n"
          ],
          "name": "stdout"
        },
        {
          "output_type": "stream",
          "text": [
            "/usr/local/lib/python3.6/dist-packages/urllib3/connectionpool.py:847: InsecureRequestWarning: Unverified HTTPS request is being made. Adding certificate verification is strongly advised. See: https://urllib3.readthedocs.io/en/latest/advanced-usage.html#ssl-warnings\n",
            "  InsecureRequestWarning)\n",
            "/usr/local/lib/python3.6/dist-packages/urllib3/connectionpool.py:847: InsecureRequestWarning: Unverified HTTPS request is being made. Adding certificate verification is strongly advised. See: https://urllib3.readthedocs.io/en/latest/advanced-usage.html#ssl-warnings\n",
            "  InsecureRequestWarning)\n"
          ],
          "name": "stderr"
        },
        {
          "output_type": "stream",
          "text": [
            "Image sucessfully Downloaded:  72132-001-06.jpg\n"
          ],
          "name": "stdout"
        },
        {
          "output_type": "stream",
          "text": [
            "/usr/local/lib/python3.6/dist-packages/urllib3/connectionpool.py:847: InsecureRequestWarning: Unverified HTTPS request is being made. Adding certificate verification is strongly advised. See: https://urllib3.readthedocs.io/en/latest/advanced-usage.html#ssl-warnings\n",
            "  InsecureRequestWarning)\n"
          ],
          "name": "stderr"
        },
        {
          "output_type": "stream",
          "text": [
            "Image sucessfully Downloaded:  72234CT-001-06.jpg\n"
          ],
          "name": "stdout"
        },
        {
          "output_type": "stream",
          "text": [
            "/usr/local/lib/python3.6/dist-packages/urllib3/connectionpool.py:847: InsecureRequestWarning: Unverified HTTPS request is being made. Adding certificate verification is strongly advised. See: https://urllib3.readthedocs.io/en/latest/advanced-usage.html#ssl-warnings\n",
            "  InsecureRequestWarning)\n"
          ],
          "name": "stderr"
        },
        {
          "output_type": "stream",
          "text": [
            "Image sucessfully Downloaded:  72234CT-200-06.jpg\n",
            "Image Couldn't be retreived\n"
          ],
          "name": "stdout"
        },
        {
          "output_type": "stream",
          "text": [
            "/usr/local/lib/python3.6/dist-packages/urllib3/connectionpool.py:847: InsecureRequestWarning: Unverified HTTPS request is being made. Adding certificate verification is strongly advised. See: https://urllib3.readthedocs.io/en/latest/advanced-usage.html#ssl-warnings\n",
            "  InsecureRequestWarning)\n",
            "/usr/local/lib/python3.6/dist-packages/urllib3/connectionpool.py:847: InsecureRequestWarning: Unverified HTTPS request is being made. Adding certificate verification is strongly advised. See: https://urllib3.readthedocs.io/en/latest/advanced-usage.html#ssl-warnings\n",
            "  InsecureRequestWarning)\n"
          ],
          "name": "stderr"
        },
        {
          "output_type": "stream",
          "text": [
            "Image Couldn't be retreived\n"
          ],
          "name": "stdout"
        },
        {
          "output_type": "stream",
          "text": [
            "/usr/local/lib/python3.6/dist-packages/urllib3/connectionpool.py:847: InsecureRequestWarning: Unverified HTTPS request is being made. Adding certificate verification is strongly advised. See: https://urllib3.readthedocs.io/en/latest/advanced-usage.html#ssl-warnings\n",
            "  InsecureRequestWarning)\n"
          ],
          "name": "stderr"
        },
        {
          "output_type": "stream",
          "text": [
            "Image sucessfully Downloaded:  72301CT-249-06.jpg\n"
          ],
          "name": "stdout"
        },
        {
          "output_type": "stream",
          "text": [
            "/usr/local/lib/python3.6/dist-packages/urllib3/connectionpool.py:847: InsecureRequestWarning: Unverified HTTPS request is being made. Adding certificate verification is strongly advised. See: https://urllib3.readthedocs.io/en/latest/advanced-usage.html#ssl-warnings\n",
            "  InsecureRequestWarning)\n"
          ],
          "name": "stderr"
        },
        {
          "output_type": "stream",
          "text": [
            "Image sucessfully Downloaded:  72302CT-009-06.jpg\n"
          ],
          "name": "stdout"
        },
        {
          "output_type": "stream",
          "text": [
            "/usr/local/lib/python3.6/dist-packages/urllib3/connectionpool.py:847: InsecureRequestWarning: Unverified HTTPS request is being made. Adding certificate verification is strongly advised. See: https://urllib3.readthedocs.io/en/latest/advanced-usage.html#ssl-warnings\n",
            "  InsecureRequestWarning)\n"
          ],
          "name": "stderr"
        },
        {
          "output_type": "stream",
          "text": [
            "Image sucessfully Downloaded:  72302CT-249-06.jpg\n"
          ],
          "name": "stdout"
        },
        {
          "output_type": "stream",
          "text": [
            "/usr/local/lib/python3.6/dist-packages/urllib3/connectionpool.py:847: InsecureRequestWarning: Unverified HTTPS request is being made. Adding certificate verification is strongly advised. See: https://urllib3.readthedocs.io/en/latest/advanced-usage.html#ssl-warnings\n",
            "  InsecureRequestWarning)\n"
          ],
          "name": "stderr"
        },
        {
          "output_type": "stream",
          "text": [
            "Image sucessfully Downloaded:  72303CT-249-06.jpg\n",
            "Image Couldn't be retreived\n"
          ],
          "name": "stdout"
        },
        {
          "output_type": "stream",
          "text": [
            "/usr/local/lib/python3.6/dist-packages/urllib3/connectionpool.py:847: InsecureRequestWarning: Unverified HTTPS request is being made. Adding certificate verification is strongly advised. See: https://urllib3.readthedocs.io/en/latest/advanced-usage.html#ssl-warnings\n",
            "  InsecureRequestWarning)\n",
            "/usr/local/lib/python3.6/dist-packages/urllib3/connectionpool.py:847: InsecureRequestWarning: Unverified HTTPS request is being made. Adding certificate verification is strongly advised. See: https://urllib3.readthedocs.io/en/latest/advanced-usage.html#ssl-warnings\n",
            "  InsecureRequestWarning)\n"
          ],
          "name": "stderr"
        },
        {
          "output_type": "stream",
          "text": [
            "Image Couldn't be retreived\n",
            "Image Couldn't be retreived\n"
          ],
          "name": "stdout"
        },
        {
          "output_type": "stream",
          "text": [
            "/usr/local/lib/python3.6/dist-packages/urllib3/connectionpool.py:847: InsecureRequestWarning: Unverified HTTPS request is being made. Adding certificate verification is strongly advised. See: https://urllib3.readthedocs.io/en/latest/advanced-usage.html#ssl-warnings\n",
            "  InsecureRequestWarning)\n",
            "/usr/local/lib/python3.6/dist-packages/urllib3/connectionpool.py:847: InsecureRequestWarning: Unverified HTTPS request is being made. Adding certificate verification is strongly advised. See: https://urllib3.readthedocs.io/en/latest/advanced-usage.html#ssl-warnings\n",
            "  InsecureRequestWarning)\n"
          ],
          "name": "stderr"
        },
        {
          "output_type": "stream",
          "text": [
            "Image Couldn't be retreived\n",
            "Image Couldn't be retreived\n"
          ],
          "name": "stdout"
        },
        {
          "output_type": "stream",
          "text": [
            "/usr/local/lib/python3.6/dist-packages/urllib3/connectionpool.py:847: InsecureRequestWarning: Unverified HTTPS request is being made. Adding certificate verification is strongly advised. See: https://urllib3.readthedocs.io/en/latest/advanced-usage.html#ssl-warnings\n",
            "  InsecureRequestWarning)\n",
            "/usr/local/lib/python3.6/dist-packages/urllib3/connectionpool.py:847: InsecureRequestWarning: Unverified HTTPS request is being made. Adding certificate verification is strongly advised. See: https://urllib3.readthedocs.io/en/latest/advanced-usage.html#ssl-warnings\n",
            "  InsecureRequestWarning)\n"
          ],
          "name": "stderr"
        },
        {
          "output_type": "stream",
          "text": [
            "Image Couldn't be retreived\n",
            "Image Couldn't be retreived\n"
          ],
          "name": "stdout"
        },
        {
          "output_type": "stream",
          "text": [
            "/usr/local/lib/python3.6/dist-packages/urllib3/connectionpool.py:847: InsecureRequestWarning: Unverified HTTPS request is being made. Adding certificate verification is strongly advised. See: https://urllib3.readthedocs.io/en/latest/advanced-usage.html#ssl-warnings\n",
            "  InsecureRequestWarning)\n",
            "/usr/local/lib/python3.6/dist-packages/urllib3/connectionpool.py:847: InsecureRequestWarning: Unverified HTTPS request is being made. Adding certificate verification is strongly advised. See: https://urllib3.readthedocs.io/en/latest/advanced-usage.html#ssl-warnings\n",
            "  InsecureRequestWarning)\n"
          ],
          "name": "stderr"
        },
        {
          "output_type": "stream",
          "text": [
            "Image Couldn't be retreived\n",
            "Image Couldn't be retreived\n"
          ],
          "name": "stdout"
        },
        {
          "output_type": "stream",
          "text": [
            "/usr/local/lib/python3.6/dist-packages/urllib3/connectionpool.py:847: InsecureRequestWarning: Unverified HTTPS request is being made. Adding certificate verification is strongly advised. See: https://urllib3.readthedocs.io/en/latest/advanced-usage.html#ssl-warnings\n",
            "  InsecureRequestWarning)\n",
            "/usr/local/lib/python3.6/dist-packages/urllib3/connectionpool.py:847: InsecureRequestWarning: Unverified HTTPS request is being made. Adding certificate verification is strongly advised. See: https://urllib3.readthedocs.io/en/latest/advanced-usage.html#ssl-warnings\n",
            "  InsecureRequestWarning)\n"
          ],
          "name": "stderr"
        },
        {
          "output_type": "stream",
          "text": [
            "Image sucessfully Downloaded:  72198-001-06.jpg\n",
            "Image sucessfully Downloaded:  72198-306-06.jpg\n"
          ],
          "name": "stdout"
        },
        {
          "output_type": "stream",
          "text": [
            "/usr/local/lib/python3.6/dist-packages/urllib3/connectionpool.py:847: InsecureRequestWarning: Unverified HTTPS request is being made. Adding certificate verification is strongly advised. See: https://urllib3.readthedocs.io/en/latest/advanced-usage.html#ssl-warnings\n",
            "  InsecureRequestWarning)\n",
            "/usr/local/lib/python3.6/dist-packages/urllib3/connectionpool.py:847: InsecureRequestWarning: Unverified HTTPS request is being made. Adding certificate verification is strongly advised. See: https://urllib3.readthedocs.io/en/latest/advanced-usage.html#ssl-warnings\n",
            "  InsecureRequestWarning)\n"
          ],
          "name": "stderr"
        },
        {
          "output_type": "stream",
          "text": [
            "Image Couldn't be retreived\n",
            "Image Couldn't be retreived\n"
          ],
          "name": "stdout"
        },
        {
          "output_type": "stream",
          "text": [
            "/usr/local/lib/python3.6/dist-packages/urllib3/connectionpool.py:847: InsecureRequestWarning: Unverified HTTPS request is being made. Adding certificate verification is strongly advised. See: https://urllib3.readthedocs.io/en/latest/advanced-usage.html#ssl-warnings\n",
            "  InsecureRequestWarning)\n",
            "/usr/local/lib/python3.6/dist-packages/urllib3/connectionpool.py:847: InsecureRequestWarning: Unverified HTTPS request is being made. Adding certificate verification is strongly advised. See: https://urllib3.readthedocs.io/en/latest/advanced-usage.html#ssl-warnings\n",
            "  InsecureRequestWarning)\n"
          ],
          "name": "stderr"
        },
        {
          "output_type": "stream",
          "text": [
            "Image Couldn't be retreived\n",
            "Image Couldn't be retreived\n"
          ],
          "name": "stdout"
        },
        {
          "output_type": "stream",
          "text": [
            "/usr/local/lib/python3.6/dist-packages/urllib3/connectionpool.py:847: InsecureRequestWarning: Unverified HTTPS request is being made. Adding certificate verification is strongly advised. See: https://urllib3.readthedocs.io/en/latest/advanced-usage.html#ssl-warnings\n",
            "  InsecureRequestWarning)\n",
            "/usr/local/lib/python3.6/dist-packages/urllib3/connectionpool.py:847: InsecureRequestWarning: Unverified HTTPS request is being made. Adding certificate verification is strongly advised. See: https://urllib3.readthedocs.io/en/latest/advanced-usage.html#ssl-warnings\n",
            "  InsecureRequestWarning)\n"
          ],
          "name": "stderr"
        },
        {
          "output_type": "stream",
          "text": [
            "Image Couldn't be retreived\n"
          ],
          "name": "stdout"
        },
        {
          "output_type": "stream",
          "text": [
            "/usr/local/lib/python3.6/dist-packages/urllib3/connectionpool.py:847: InsecureRequestWarning: Unverified HTTPS request is being made. Adding certificate verification is strongly advised. See: https://urllib3.readthedocs.io/en/latest/advanced-usage.html#ssl-warnings\n",
            "  InsecureRequestWarning)\n"
          ],
          "name": "stderr"
        },
        {
          "output_type": "stream",
          "text": [
            "Image sucessfully Downloaded:  72412-221-06.jpg\n",
            "Image Couldn't be retreived\n"
          ],
          "name": "stdout"
        },
        {
          "output_type": "stream",
          "text": [
            "/usr/local/lib/python3.6/dist-packages/urllib3/connectionpool.py:847: InsecureRequestWarning: Unverified HTTPS request is being made. Adding certificate verification is strongly advised. See: https://urllib3.readthedocs.io/en/latest/advanced-usage.html#ssl-warnings\n",
            "  InsecureRequestWarning)\n",
            "/usr/local/lib/python3.6/dist-packages/urllib3/connectionpool.py:847: InsecureRequestWarning: Unverified HTTPS request is being made. Adding certificate verification is strongly advised. See: https://urllib3.readthedocs.io/en/latest/advanced-usage.html#ssl-warnings\n",
            "  InsecureRequestWarning)\n"
          ],
          "name": "stderr"
        },
        {
          "output_type": "stream",
          "text": [
            "Image Couldn't be retreived\n",
            "Image Couldn't be retreived\n"
          ],
          "name": "stdout"
        },
        {
          "output_type": "stream",
          "text": [
            "/usr/local/lib/python3.6/dist-packages/urllib3/connectionpool.py:847: InsecureRequestWarning: Unverified HTTPS request is being made. Adding certificate verification is strongly advised. See: https://urllib3.readthedocs.io/en/latest/advanced-usage.html#ssl-warnings\n",
            "  InsecureRequestWarning)\n",
            "/usr/local/lib/python3.6/dist-packages/urllib3/connectionpool.py:847: InsecureRequestWarning: Unverified HTTPS request is being made. Adding certificate verification is strongly advised. See: https://urllib3.readthedocs.io/en/latest/advanced-usage.html#ssl-warnings\n",
            "  InsecureRequestWarning)\n"
          ],
          "name": "stderr"
        },
        {
          "output_type": "stream",
          "text": [
            "Image Couldn't be retreived\n",
            "['https://www.stacyadams.com/shop/rotate/25404-013/01.jpg', 'https://www.stacyadams.com/shop/rotate/25404-410/01.jpg', 'https://www.stacyadams.com/shop/rotate/25359-001/01.jpg', 'https://www.stacyadams.com/shop/rotate/25359-410/01.jpg', 'https://www.stacyadams.com/shop/rotate/25359-275/01.jpg', 'https://www.stacyadams.com/shop/rotate/25403-975/01.jpg', 'https://www.stacyadams.com/shop/rotate/25403-013/01.jpg', 'https://www.stacyadams.com/shop/rotate/25382-001/01.jpg', 'https://www.stacyadams.com/shop/rotate/25382-400/01.jpg', 'https://www.stacyadams.com/shop/rotate/25382-100/01.jpg', 'https://www.stacyadams.com/shop/rotate/25406-280/01.jpg', 'https://www.stacyadams.com/shop/rotate/25406-645/01.jpg', 'https://www.stacyadams.com/shop/rotate/25419-001/01.jpg', 'https://www.stacyadams.com/shop/rotate/25419-221/01.jpg', 'https://www.stacyadams.com/shop/rotate/25418-400/01.jpg', 'https://www.stacyadams.com/shop/rotate/25418-221/01.jpg', 'https://www.stacyadams.com/shop/rotate/41179-001/01.jpg', 'https://www.stacyadams.com/shop/rotate/43418-221/01.jpg', 'https://www.stacyadams.com/shop/rotate/43418-001/01.jpg', 'https://www.stacyadams.com/shop/rotate/25404-013/02.jpg', 'https://www.stacyadams.com/shop/rotate/25404-410/02.jpg', 'https://www.stacyadams.com/shop/rotate/25359-001/02.jpg', 'https://www.stacyadams.com/shop/rotate/25359-410/02.jpg', 'https://www.stacyadams.com/shop/rotate/25359-275/02.jpg', 'https://www.stacyadams.com/shop/rotate/25403-975/02.jpg', 'https://www.stacyadams.com/shop/rotate/25403-013/02.jpg', 'https://www.stacyadams.com/shop/rotate/25382-001/02.jpg', 'https://www.stacyadams.com/shop/rotate/25382-400/02.jpg', 'https://www.stacyadams.com/shop/rotate/25382-100/02.jpg', 'https://www.stacyadams.com/shop/rotate/25406-280/02.jpg', 'https://www.stacyadams.com/shop/rotate/25406-645/02.jpg', 'https://www.stacyadams.com/shop/rotate/25419-001/02.jpg', 'https://www.stacyadams.com/shop/rotate/25419-221/02.jpg', 'https://www.stacyadams.com/shop/rotate/25418-400/02.jpg', 'https://www.stacyadams.com/shop/rotate/25418-221/02.jpg', 'https://www.stacyadams.com/shop/rotate/41179-001/02.jpg', 'https://www.stacyadams.com/shop/rotate/43418-221/02.jpg', 'https://www.stacyadams.com/shop/rotate/43418-001/02.jpg', 'https://www.stacyadams.com/shop/rotate/25404-013/03.jpg', 'https://www.stacyadams.com/shop/rotate/25404-410/03.jpg', 'https://www.stacyadams.com/shop/rotate/25359-001/03.jpg', 'https://www.stacyadams.com/shop/rotate/25359-410/03.jpg', 'https://www.stacyadams.com/shop/rotate/25359-275/03.jpg', 'https://www.stacyadams.com/shop/rotate/25403-975/03.jpg', 'https://www.stacyadams.com/shop/rotate/25403-013/03.jpg', 'https://www.stacyadams.com/shop/rotate/25382-001/03.jpg', 'https://www.stacyadams.com/shop/rotate/25382-400/03.jpg', 'https://www.stacyadams.com/shop/rotate/25382-100/03.jpg', 'https://www.stacyadams.com/shop/rotate/25406-280/03.jpg', 'https://www.stacyadams.com/shop/rotate/25406-645/03.jpg', 'https://www.stacyadams.com/shop/rotate/25419-001/03.jpg', 'https://www.stacyadams.com/shop/rotate/25419-221/03.jpg', 'https://www.stacyadams.com/shop/rotate/25418-400/03.jpg', 'https://www.stacyadams.com/shop/rotate/25418-221/03.jpg', 'https://www.stacyadams.com/shop/rotate/41179-001/03.jpg', 'https://www.stacyadams.com/shop/rotate/43418-221/03.jpg', 'https://www.stacyadams.com/shop/rotate/43418-001/03.jpg', 'https://www.stacyadams.com/shop/rotate/25404-013/04.jpg', 'https://www.stacyadams.com/shop/rotate/25404-410/04.jpg', 'https://www.stacyadams.com/shop/rotate/25359-001/04.jpg', 'https://www.stacyadams.com/shop/rotate/25359-410/04.jpg', 'https://www.stacyadams.com/shop/rotate/25359-275/04.jpg', 'https://www.stacyadams.com/shop/rotate/25403-975/04.jpg', 'https://www.stacyadams.com/shop/rotate/25403-013/04.jpg', 'https://www.stacyadams.com/shop/rotate/25382-001/04.jpg', 'https://www.stacyadams.com/shop/rotate/25382-400/04.jpg', 'https://www.stacyadams.com/shop/rotate/25382-100/04.jpg', 'https://www.stacyadams.com/shop/rotate/25406-280/04.jpg', 'https://www.stacyadams.com/shop/rotate/25406-645/04.jpg', 'https://www.stacyadams.com/shop/rotate/25419-001/04.jpg', 'https://www.stacyadams.com/shop/rotate/25419-221/04.jpg', 'https://www.stacyadams.com/shop/rotate/25418-400/04.jpg', 'https://www.stacyadams.com/shop/rotate/25418-221/04.jpg', 'https://www.stacyadams.com/shop/rotate/41179-001/04.jpg', 'https://www.stacyadams.com/shop/rotate/43418-221/04.jpg', 'https://www.stacyadams.com/shop/rotate/43418-001/04.jpg', 'https://www.stacyadams.com/shop/rotate/25404-013/05.jpg', 'https://www.stacyadams.com/shop/rotate/25404-410/05.jpg', 'https://www.stacyadams.com/shop/rotate/25359-001/05.jpg', 'https://www.stacyadams.com/shop/rotate/25359-410/05.jpg', 'https://www.stacyadams.com/shop/rotate/25359-275/05.jpg', 'https://www.stacyadams.com/shop/rotate/25403-975/05.jpg', 'https://www.stacyadams.com/shop/rotate/25403-013/05.jpg', 'https://www.stacyadams.com/shop/rotate/25382-001/05.jpg', 'https://www.stacyadams.com/shop/rotate/25382-400/05.jpg', 'https://www.stacyadams.com/shop/rotate/25382-100/05.jpg', 'https://www.stacyadams.com/shop/rotate/25406-280/05.jpg', 'https://www.stacyadams.com/shop/rotate/25406-645/05.jpg', 'https://www.stacyadams.com/shop/rotate/25419-001/05.jpg', 'https://www.stacyadams.com/shop/rotate/25419-221/05.jpg', 'https://www.stacyadams.com/shop/rotate/25418-400/05.jpg', 'https://www.stacyadams.com/shop/rotate/25418-221/05.jpg', 'https://www.stacyadams.com/shop/rotate/41179-001/05.jpg', 'https://www.stacyadams.com/shop/rotate/43418-221/05.jpg', 'https://www.stacyadams.com/shop/rotate/43418-001/05.jpg', 'https://www.stacyadams.com/shop/rotate/25404-013/06.jpg', 'https://www.stacyadams.com/shop/rotate/25404-410/06.jpg', 'https://www.stacyadams.com/shop/rotate/25359-001/06.jpg', 'https://www.stacyadams.com/shop/rotate/25359-410/06.jpg', 'https://www.stacyadams.com/shop/rotate/25359-275/06.jpg', 'https://www.stacyadams.com/shop/rotate/25403-975/06.jpg', 'https://www.stacyadams.com/shop/rotate/25403-013/06.jpg', 'https://www.stacyadams.com/shop/rotate/25382-001/06.jpg', 'https://www.stacyadams.com/shop/rotate/25382-400/06.jpg', 'https://www.stacyadams.com/shop/rotate/25382-100/06.jpg', 'https://www.stacyadams.com/shop/rotate/25406-280/06.jpg', 'https://www.stacyadams.com/shop/rotate/25406-645/06.jpg', 'https://www.stacyadams.com/shop/rotate/25419-001/06.jpg', 'https://www.stacyadams.com/shop/rotate/25419-221/06.jpg', 'https://www.stacyadams.com/shop/rotate/25418-400/06.jpg', 'https://www.stacyadams.com/shop/rotate/25418-221/06.jpg', 'https://www.stacyadams.com/shop/rotate/41179-001/06.jpg', 'https://www.stacyadams.com/shop/rotate/43418-221/06.jpg', 'https://www.stacyadams.com/shop/rotate/43418-001/06.jpg']\n"
          ],
          "name": "stdout"
        },
        {
          "output_type": "stream",
          "text": [
            "/usr/local/lib/python3.6/dist-packages/urllib3/connectionpool.py:847: InsecureRequestWarning: Unverified HTTPS request is being made. Adding certificate verification is strongly advised. See: https://urllib3.readthedocs.io/en/latest/advanced-usage.html#ssl-warnings\n",
            "  InsecureRequestWarning)\n",
            "/usr/local/lib/python3.6/dist-packages/urllib3/connectionpool.py:847: InsecureRequestWarning: Unverified HTTPS request is being made. Adding certificate verification is strongly advised. See: https://urllib3.readthedocs.io/en/latest/advanced-usage.html#ssl-warnings\n",
            "  InsecureRequestWarning)\n"
          ],
          "name": "stderr"
        },
        {
          "output_type": "stream",
          "text": [
            "Image sucessfully Downloaded:  25404-013-01.jpg\n",
            "Image sucessfully Downloaded:  25404-410-01.jpg\n"
          ],
          "name": "stdout"
        },
        {
          "output_type": "stream",
          "text": [
            "/usr/local/lib/python3.6/dist-packages/urllib3/connectionpool.py:847: InsecureRequestWarning: Unverified HTTPS request is being made. Adding certificate verification is strongly advised. See: https://urllib3.readthedocs.io/en/latest/advanced-usage.html#ssl-warnings\n",
            "  InsecureRequestWarning)\n",
            "/usr/local/lib/python3.6/dist-packages/urllib3/connectionpool.py:847: InsecureRequestWarning: Unverified HTTPS request is being made. Adding certificate verification is strongly advised. See: https://urllib3.readthedocs.io/en/latest/advanced-usage.html#ssl-warnings\n",
            "  InsecureRequestWarning)\n"
          ],
          "name": "stderr"
        },
        {
          "output_type": "stream",
          "text": [
            "Image sucessfully Downloaded:  25359-001-01.jpg\n",
            "Image sucessfully Downloaded:  25359-410-01.jpg\n"
          ],
          "name": "stdout"
        },
        {
          "output_type": "stream",
          "text": [
            "/usr/local/lib/python3.6/dist-packages/urllib3/connectionpool.py:847: InsecureRequestWarning: Unverified HTTPS request is being made. Adding certificate verification is strongly advised. See: https://urllib3.readthedocs.io/en/latest/advanced-usage.html#ssl-warnings\n",
            "  InsecureRequestWarning)\n",
            "/usr/local/lib/python3.6/dist-packages/urllib3/connectionpool.py:847: InsecureRequestWarning: Unverified HTTPS request is being made. Adding certificate verification is strongly advised. See: https://urllib3.readthedocs.io/en/latest/advanced-usage.html#ssl-warnings\n",
            "  InsecureRequestWarning)\n"
          ],
          "name": "stderr"
        },
        {
          "output_type": "stream",
          "text": [
            "Image sucessfully Downloaded:  25359-275-01.jpg\n",
            "Image sucessfully Downloaded:  25403-975-01.jpg\n"
          ],
          "name": "stdout"
        },
        {
          "output_type": "stream",
          "text": [
            "/usr/local/lib/python3.6/dist-packages/urllib3/connectionpool.py:847: InsecureRequestWarning: Unverified HTTPS request is being made. Adding certificate verification is strongly advised. See: https://urllib3.readthedocs.io/en/latest/advanced-usage.html#ssl-warnings\n",
            "  InsecureRequestWarning)\n",
            "/usr/local/lib/python3.6/dist-packages/urllib3/connectionpool.py:847: InsecureRequestWarning: Unverified HTTPS request is being made. Adding certificate verification is strongly advised. See: https://urllib3.readthedocs.io/en/latest/advanced-usage.html#ssl-warnings\n",
            "  InsecureRequestWarning)\n"
          ],
          "name": "stderr"
        },
        {
          "output_type": "stream",
          "text": [
            "Image sucessfully Downloaded:  25403-013-01.jpg\n",
            "Image sucessfully Downloaded:  25382-001-01.jpg\n"
          ],
          "name": "stdout"
        },
        {
          "output_type": "stream",
          "text": [
            "/usr/local/lib/python3.6/dist-packages/urllib3/connectionpool.py:847: InsecureRequestWarning: Unverified HTTPS request is being made. Adding certificate verification is strongly advised. See: https://urllib3.readthedocs.io/en/latest/advanced-usage.html#ssl-warnings\n",
            "  InsecureRequestWarning)\n",
            "/usr/local/lib/python3.6/dist-packages/urllib3/connectionpool.py:847: InsecureRequestWarning: Unverified HTTPS request is being made. Adding certificate verification is strongly advised. See: https://urllib3.readthedocs.io/en/latest/advanced-usage.html#ssl-warnings\n",
            "  InsecureRequestWarning)\n"
          ],
          "name": "stderr"
        },
        {
          "output_type": "stream",
          "text": [
            "Image sucessfully Downloaded:  25382-400-01.jpg\n",
            "Image sucessfully Downloaded:  25382-100-01.jpg\n"
          ],
          "name": "stdout"
        },
        {
          "output_type": "stream",
          "text": [
            "/usr/local/lib/python3.6/dist-packages/urllib3/connectionpool.py:847: InsecureRequestWarning: Unverified HTTPS request is being made. Adding certificate verification is strongly advised. See: https://urllib3.readthedocs.io/en/latest/advanced-usage.html#ssl-warnings\n",
            "  InsecureRequestWarning)\n",
            "/usr/local/lib/python3.6/dist-packages/urllib3/connectionpool.py:847: InsecureRequestWarning: Unverified HTTPS request is being made. Adding certificate verification is strongly advised. See: https://urllib3.readthedocs.io/en/latest/advanced-usage.html#ssl-warnings\n",
            "  InsecureRequestWarning)\n"
          ],
          "name": "stderr"
        },
        {
          "output_type": "stream",
          "text": [
            "Image sucessfully Downloaded:  25406-280-01.jpg\n",
            "Image sucessfully Downloaded:  25406-645-01.jpg\n"
          ],
          "name": "stdout"
        },
        {
          "output_type": "stream",
          "text": [
            "/usr/local/lib/python3.6/dist-packages/urllib3/connectionpool.py:847: InsecureRequestWarning: Unverified HTTPS request is being made. Adding certificate verification is strongly advised. See: https://urllib3.readthedocs.io/en/latest/advanced-usage.html#ssl-warnings\n",
            "  InsecureRequestWarning)\n",
            "/usr/local/lib/python3.6/dist-packages/urllib3/connectionpool.py:847: InsecureRequestWarning: Unverified HTTPS request is being made. Adding certificate verification is strongly advised. See: https://urllib3.readthedocs.io/en/latest/advanced-usage.html#ssl-warnings\n",
            "  InsecureRequestWarning)\n"
          ],
          "name": "stderr"
        },
        {
          "output_type": "stream",
          "text": [
            "Image sucessfully Downloaded:  25419-001-01.jpg\n",
            "Image sucessfully Downloaded:  25419-221-01.jpg\n"
          ],
          "name": "stdout"
        },
        {
          "output_type": "stream",
          "text": [
            "/usr/local/lib/python3.6/dist-packages/urllib3/connectionpool.py:847: InsecureRequestWarning: Unverified HTTPS request is being made. Adding certificate verification is strongly advised. See: https://urllib3.readthedocs.io/en/latest/advanced-usage.html#ssl-warnings\n",
            "  InsecureRequestWarning)\n",
            "/usr/local/lib/python3.6/dist-packages/urllib3/connectionpool.py:847: InsecureRequestWarning: Unverified HTTPS request is being made. Adding certificate verification is strongly advised. See: https://urllib3.readthedocs.io/en/latest/advanced-usage.html#ssl-warnings\n",
            "  InsecureRequestWarning)\n"
          ],
          "name": "stderr"
        },
        {
          "output_type": "stream",
          "text": [
            "Image sucessfully Downloaded:  25418-400-01.jpg\n",
            "Image sucessfully Downloaded:  25418-221-01.jpg\n"
          ],
          "name": "stdout"
        },
        {
          "output_type": "stream",
          "text": [
            "/usr/local/lib/python3.6/dist-packages/urllib3/connectionpool.py:847: InsecureRequestWarning: Unverified HTTPS request is being made. Adding certificate verification is strongly advised. See: https://urllib3.readthedocs.io/en/latest/advanced-usage.html#ssl-warnings\n",
            "  InsecureRequestWarning)\n",
            "/usr/local/lib/python3.6/dist-packages/urllib3/connectionpool.py:847: InsecureRequestWarning: Unverified HTTPS request is being made. Adding certificate verification is strongly advised. See: https://urllib3.readthedocs.io/en/latest/advanced-usage.html#ssl-warnings\n",
            "  InsecureRequestWarning)\n"
          ],
          "name": "stderr"
        },
        {
          "output_type": "stream",
          "text": [
            "Image sucessfully Downloaded:  41179-001-01.jpg\n",
            "Image sucessfully Downloaded:  43418-221-01.jpg\n"
          ],
          "name": "stdout"
        },
        {
          "output_type": "stream",
          "text": [
            "/usr/local/lib/python3.6/dist-packages/urllib3/connectionpool.py:847: InsecureRequestWarning: Unverified HTTPS request is being made. Adding certificate verification is strongly advised. See: https://urllib3.readthedocs.io/en/latest/advanced-usage.html#ssl-warnings\n",
            "  InsecureRequestWarning)\n",
            "/usr/local/lib/python3.6/dist-packages/urllib3/connectionpool.py:847: InsecureRequestWarning: Unverified HTTPS request is being made. Adding certificate verification is strongly advised. See: https://urllib3.readthedocs.io/en/latest/advanced-usage.html#ssl-warnings\n",
            "  InsecureRequestWarning)\n"
          ],
          "name": "stderr"
        },
        {
          "output_type": "stream",
          "text": [
            "Image sucessfully Downloaded:  43418-001-01.jpg\n",
            "Image sucessfully Downloaded:  25404-013-02.jpg\n"
          ],
          "name": "stdout"
        },
        {
          "output_type": "stream",
          "text": [
            "/usr/local/lib/python3.6/dist-packages/urllib3/connectionpool.py:847: InsecureRequestWarning: Unverified HTTPS request is being made. Adding certificate verification is strongly advised. See: https://urllib3.readthedocs.io/en/latest/advanced-usage.html#ssl-warnings\n",
            "  InsecureRequestWarning)\n",
            "/usr/local/lib/python3.6/dist-packages/urllib3/connectionpool.py:847: InsecureRequestWarning: Unverified HTTPS request is being made. Adding certificate verification is strongly advised. See: https://urllib3.readthedocs.io/en/latest/advanced-usage.html#ssl-warnings\n",
            "  InsecureRequestWarning)\n"
          ],
          "name": "stderr"
        },
        {
          "output_type": "stream",
          "text": [
            "Image sucessfully Downloaded:  25404-410-02.jpg\n",
            "Image sucessfully Downloaded:  25359-001-02.jpg\n"
          ],
          "name": "stdout"
        },
        {
          "output_type": "stream",
          "text": [
            "/usr/local/lib/python3.6/dist-packages/urllib3/connectionpool.py:847: InsecureRequestWarning: Unverified HTTPS request is being made. Adding certificate verification is strongly advised. See: https://urllib3.readthedocs.io/en/latest/advanced-usage.html#ssl-warnings\n",
            "  InsecureRequestWarning)\n",
            "/usr/local/lib/python3.6/dist-packages/urllib3/connectionpool.py:847: InsecureRequestWarning: Unverified HTTPS request is being made. Adding certificate verification is strongly advised. See: https://urllib3.readthedocs.io/en/latest/advanced-usage.html#ssl-warnings\n",
            "  InsecureRequestWarning)\n"
          ],
          "name": "stderr"
        },
        {
          "output_type": "stream",
          "text": [
            "Image sucessfully Downloaded:  25359-410-02.jpg\n",
            "Image sucessfully Downloaded:  25359-275-02.jpg\n"
          ],
          "name": "stdout"
        },
        {
          "output_type": "stream",
          "text": [
            "/usr/local/lib/python3.6/dist-packages/urllib3/connectionpool.py:847: InsecureRequestWarning: Unverified HTTPS request is being made. Adding certificate verification is strongly advised. See: https://urllib3.readthedocs.io/en/latest/advanced-usage.html#ssl-warnings\n",
            "  InsecureRequestWarning)\n",
            "/usr/local/lib/python3.6/dist-packages/urllib3/connectionpool.py:847: InsecureRequestWarning: Unverified HTTPS request is being made. Adding certificate verification is strongly advised. See: https://urllib3.readthedocs.io/en/latest/advanced-usage.html#ssl-warnings\n",
            "  InsecureRequestWarning)\n"
          ],
          "name": "stderr"
        },
        {
          "output_type": "stream",
          "text": [
            "Image sucessfully Downloaded:  25403-975-02.jpg\n",
            "Image sucessfully Downloaded:  25403-013-02.jpg\n",
            "Image sucessfully Downloaded:  25382-001-02.jpg\n"
          ],
          "name": "stdout"
        },
        {
          "output_type": "stream",
          "text": [
            "/usr/local/lib/python3.6/dist-packages/urllib3/connectionpool.py:847: InsecureRequestWarning: Unverified HTTPS request is being made. Adding certificate verification is strongly advised. See: https://urllib3.readthedocs.io/en/latest/advanced-usage.html#ssl-warnings\n",
            "  InsecureRequestWarning)\n",
            "/usr/local/lib/python3.6/dist-packages/urllib3/connectionpool.py:847: InsecureRequestWarning: Unverified HTTPS request is being made. Adding certificate verification is strongly advised. See: https://urllib3.readthedocs.io/en/latest/advanced-usage.html#ssl-warnings\n",
            "  InsecureRequestWarning)\n"
          ],
          "name": "stderr"
        },
        {
          "output_type": "stream",
          "text": [
            "Image sucessfully Downloaded:  25382-400-02.jpg\n",
            "Image sucessfully Downloaded:  25382-100-02.jpg\n"
          ],
          "name": "stdout"
        },
        {
          "output_type": "stream",
          "text": [
            "/usr/local/lib/python3.6/dist-packages/urllib3/connectionpool.py:847: InsecureRequestWarning: Unverified HTTPS request is being made. Adding certificate verification is strongly advised. See: https://urllib3.readthedocs.io/en/latest/advanced-usage.html#ssl-warnings\n",
            "  InsecureRequestWarning)\n",
            "/usr/local/lib/python3.6/dist-packages/urllib3/connectionpool.py:847: InsecureRequestWarning: Unverified HTTPS request is being made. Adding certificate verification is strongly advised. See: https://urllib3.readthedocs.io/en/latest/advanced-usage.html#ssl-warnings\n",
            "  InsecureRequestWarning)\n"
          ],
          "name": "stderr"
        },
        {
          "output_type": "stream",
          "text": [
            "Image sucessfully Downloaded:  25406-280-02.jpg\n",
            "Image sucessfully Downloaded:  25406-645-02.jpg\n"
          ],
          "name": "stdout"
        },
        {
          "output_type": "stream",
          "text": [
            "/usr/local/lib/python3.6/dist-packages/urllib3/connectionpool.py:847: InsecureRequestWarning: Unverified HTTPS request is being made. Adding certificate verification is strongly advised. See: https://urllib3.readthedocs.io/en/latest/advanced-usage.html#ssl-warnings\n",
            "  InsecureRequestWarning)\n",
            "/usr/local/lib/python3.6/dist-packages/urllib3/connectionpool.py:847: InsecureRequestWarning: Unverified HTTPS request is being made. Adding certificate verification is strongly advised. See: https://urllib3.readthedocs.io/en/latest/advanced-usage.html#ssl-warnings\n",
            "  InsecureRequestWarning)\n"
          ],
          "name": "stderr"
        },
        {
          "output_type": "stream",
          "text": [
            "Image sucessfully Downloaded:  25419-001-02.jpg\n",
            "Image sucessfully Downloaded:  25419-221-02.jpg\n"
          ],
          "name": "stdout"
        },
        {
          "output_type": "stream",
          "text": [
            "/usr/local/lib/python3.6/dist-packages/urllib3/connectionpool.py:847: InsecureRequestWarning: Unverified HTTPS request is being made. Adding certificate verification is strongly advised. See: https://urllib3.readthedocs.io/en/latest/advanced-usage.html#ssl-warnings\n",
            "  InsecureRequestWarning)\n",
            "/usr/local/lib/python3.6/dist-packages/urllib3/connectionpool.py:847: InsecureRequestWarning: Unverified HTTPS request is being made. Adding certificate verification is strongly advised. See: https://urllib3.readthedocs.io/en/latest/advanced-usage.html#ssl-warnings\n",
            "  InsecureRequestWarning)\n"
          ],
          "name": "stderr"
        },
        {
          "output_type": "stream",
          "text": [
            "Image sucessfully Downloaded:  25418-400-02.jpg\n"
          ],
          "name": "stdout"
        },
        {
          "output_type": "stream",
          "text": [
            "/usr/local/lib/python3.6/dist-packages/urllib3/connectionpool.py:847: InsecureRequestWarning: Unverified HTTPS request is being made. Adding certificate verification is strongly advised. See: https://urllib3.readthedocs.io/en/latest/advanced-usage.html#ssl-warnings\n",
            "  InsecureRequestWarning)\n"
          ],
          "name": "stderr"
        },
        {
          "output_type": "stream",
          "text": [
            "Image sucessfully Downloaded:  25418-221-02.jpg\n",
            "Image sucessfully Downloaded:  41179-001-02.jpg\n"
          ],
          "name": "stdout"
        },
        {
          "output_type": "stream",
          "text": [
            "/usr/local/lib/python3.6/dist-packages/urllib3/connectionpool.py:847: InsecureRequestWarning: Unverified HTTPS request is being made. Adding certificate verification is strongly advised. See: https://urllib3.readthedocs.io/en/latest/advanced-usage.html#ssl-warnings\n",
            "  InsecureRequestWarning)\n",
            "/usr/local/lib/python3.6/dist-packages/urllib3/connectionpool.py:847: InsecureRequestWarning: Unverified HTTPS request is being made. Adding certificate verification is strongly advised. See: https://urllib3.readthedocs.io/en/latest/advanced-usage.html#ssl-warnings\n",
            "  InsecureRequestWarning)\n"
          ],
          "name": "stderr"
        },
        {
          "output_type": "stream",
          "text": [
            "Image sucessfully Downloaded:  43418-221-02.jpg\n",
            "Image sucessfully Downloaded:  43418-001-02.jpg\n"
          ],
          "name": "stdout"
        },
        {
          "output_type": "stream",
          "text": [
            "/usr/local/lib/python3.6/dist-packages/urllib3/connectionpool.py:847: InsecureRequestWarning: Unverified HTTPS request is being made. Adding certificate verification is strongly advised. See: https://urllib3.readthedocs.io/en/latest/advanced-usage.html#ssl-warnings\n",
            "  InsecureRequestWarning)\n",
            "/usr/local/lib/python3.6/dist-packages/urllib3/connectionpool.py:847: InsecureRequestWarning: Unverified HTTPS request is being made. Adding certificate verification is strongly advised. See: https://urllib3.readthedocs.io/en/latest/advanced-usage.html#ssl-warnings\n",
            "  InsecureRequestWarning)\n"
          ],
          "name": "stderr"
        },
        {
          "output_type": "stream",
          "text": [
            "Image sucessfully Downloaded:  25404-013-03.jpg\n",
            "Image sucessfully Downloaded:  25404-410-03.jpg\n"
          ],
          "name": "stdout"
        },
        {
          "output_type": "stream",
          "text": [
            "/usr/local/lib/python3.6/dist-packages/urllib3/connectionpool.py:847: InsecureRequestWarning: Unverified HTTPS request is being made. Adding certificate verification is strongly advised. See: https://urllib3.readthedocs.io/en/latest/advanced-usage.html#ssl-warnings\n",
            "  InsecureRequestWarning)\n",
            "/usr/local/lib/python3.6/dist-packages/urllib3/connectionpool.py:847: InsecureRequestWarning: Unverified HTTPS request is being made. Adding certificate verification is strongly advised. See: https://urllib3.readthedocs.io/en/latest/advanced-usage.html#ssl-warnings\n",
            "  InsecureRequestWarning)\n"
          ],
          "name": "stderr"
        },
        {
          "output_type": "stream",
          "text": [
            "Image sucessfully Downloaded:  25359-001-03.jpg\n",
            "Image sucessfully Downloaded:  25359-410-03.jpg\n"
          ],
          "name": "stdout"
        },
        {
          "output_type": "stream",
          "text": [
            "/usr/local/lib/python3.6/dist-packages/urllib3/connectionpool.py:847: InsecureRequestWarning: Unverified HTTPS request is being made. Adding certificate verification is strongly advised. See: https://urllib3.readthedocs.io/en/latest/advanced-usage.html#ssl-warnings\n",
            "  InsecureRequestWarning)\n",
            "/usr/local/lib/python3.6/dist-packages/urllib3/connectionpool.py:847: InsecureRequestWarning: Unverified HTTPS request is being made. Adding certificate verification is strongly advised. See: https://urllib3.readthedocs.io/en/latest/advanced-usage.html#ssl-warnings\n",
            "  InsecureRequestWarning)\n"
          ],
          "name": "stderr"
        },
        {
          "output_type": "stream",
          "text": [
            "Image sucessfully Downloaded:  25359-275-03.jpg\n",
            "Image sucessfully Downloaded:  25403-975-03.jpg\n"
          ],
          "name": "stdout"
        },
        {
          "output_type": "stream",
          "text": [
            "/usr/local/lib/python3.6/dist-packages/urllib3/connectionpool.py:847: InsecureRequestWarning: Unverified HTTPS request is being made. Adding certificate verification is strongly advised. See: https://urllib3.readthedocs.io/en/latest/advanced-usage.html#ssl-warnings\n",
            "  InsecureRequestWarning)\n",
            "/usr/local/lib/python3.6/dist-packages/urllib3/connectionpool.py:847: InsecureRequestWarning: Unverified HTTPS request is being made. Adding certificate verification is strongly advised. See: https://urllib3.readthedocs.io/en/latest/advanced-usage.html#ssl-warnings\n",
            "  InsecureRequestWarning)\n"
          ],
          "name": "stderr"
        },
        {
          "output_type": "stream",
          "text": [
            "Image sucessfully Downloaded:  25403-013-03.jpg\n",
            "Image sucessfully Downloaded:  25382-001-03.jpg\n"
          ],
          "name": "stdout"
        },
        {
          "output_type": "stream",
          "text": [
            "/usr/local/lib/python3.6/dist-packages/urllib3/connectionpool.py:847: InsecureRequestWarning: Unverified HTTPS request is being made. Adding certificate verification is strongly advised. See: https://urllib3.readthedocs.io/en/latest/advanced-usage.html#ssl-warnings\n",
            "  InsecureRequestWarning)\n",
            "/usr/local/lib/python3.6/dist-packages/urllib3/connectionpool.py:847: InsecureRequestWarning: Unverified HTTPS request is being made. Adding certificate verification is strongly advised. See: https://urllib3.readthedocs.io/en/latest/advanced-usage.html#ssl-warnings\n",
            "  InsecureRequestWarning)\n"
          ],
          "name": "stderr"
        },
        {
          "output_type": "stream",
          "text": [
            "Image sucessfully Downloaded:  25382-400-03.jpg\n",
            "Image sucessfully Downloaded:  25382-100-03.jpg\n"
          ],
          "name": "stdout"
        },
        {
          "output_type": "stream",
          "text": [
            "/usr/local/lib/python3.6/dist-packages/urllib3/connectionpool.py:847: InsecureRequestWarning: Unverified HTTPS request is being made. Adding certificate verification is strongly advised. See: https://urllib3.readthedocs.io/en/latest/advanced-usage.html#ssl-warnings\n",
            "  InsecureRequestWarning)\n",
            "/usr/local/lib/python3.6/dist-packages/urllib3/connectionpool.py:847: InsecureRequestWarning: Unverified HTTPS request is being made. Adding certificate verification is strongly advised. See: https://urllib3.readthedocs.io/en/latest/advanced-usage.html#ssl-warnings\n",
            "  InsecureRequestWarning)\n"
          ],
          "name": "stderr"
        },
        {
          "output_type": "stream",
          "text": [
            "Image sucessfully Downloaded:  25406-280-03.jpg\n",
            "Image sucessfully Downloaded:  25406-645-03.jpg\n"
          ],
          "name": "stdout"
        },
        {
          "output_type": "stream",
          "text": [
            "/usr/local/lib/python3.6/dist-packages/urllib3/connectionpool.py:847: InsecureRequestWarning: Unverified HTTPS request is being made. Adding certificate verification is strongly advised. See: https://urllib3.readthedocs.io/en/latest/advanced-usage.html#ssl-warnings\n",
            "  InsecureRequestWarning)\n",
            "/usr/local/lib/python3.6/dist-packages/urllib3/connectionpool.py:847: InsecureRequestWarning: Unverified HTTPS request is being made. Adding certificate verification is strongly advised. See: https://urllib3.readthedocs.io/en/latest/advanced-usage.html#ssl-warnings\n",
            "  InsecureRequestWarning)\n"
          ],
          "name": "stderr"
        },
        {
          "output_type": "stream",
          "text": [
            "Image sucessfully Downloaded:  25419-001-03.jpg\n",
            "Image sucessfully Downloaded:  25419-221-03.jpg\n"
          ],
          "name": "stdout"
        },
        {
          "output_type": "stream",
          "text": [
            "/usr/local/lib/python3.6/dist-packages/urllib3/connectionpool.py:847: InsecureRequestWarning: Unverified HTTPS request is being made. Adding certificate verification is strongly advised. See: https://urllib3.readthedocs.io/en/latest/advanced-usage.html#ssl-warnings\n",
            "  InsecureRequestWarning)\n",
            "/usr/local/lib/python3.6/dist-packages/urllib3/connectionpool.py:847: InsecureRequestWarning: Unverified HTTPS request is being made. Adding certificate verification is strongly advised. See: https://urllib3.readthedocs.io/en/latest/advanced-usage.html#ssl-warnings\n",
            "  InsecureRequestWarning)\n"
          ],
          "name": "stderr"
        },
        {
          "output_type": "stream",
          "text": [
            "Image sucessfully Downloaded:  25418-400-03.jpg\n"
          ],
          "name": "stdout"
        },
        {
          "output_type": "stream",
          "text": [
            "/usr/local/lib/python3.6/dist-packages/urllib3/connectionpool.py:847: InsecureRequestWarning: Unverified HTTPS request is being made. Adding certificate verification is strongly advised. See: https://urllib3.readthedocs.io/en/latest/advanced-usage.html#ssl-warnings\n",
            "  InsecureRequestWarning)\n"
          ],
          "name": "stderr"
        },
        {
          "output_type": "stream",
          "text": [
            "Image sucessfully Downloaded:  25418-221-03.jpg\n",
            "Image sucessfully Downloaded:  41179-001-03.jpg\n"
          ],
          "name": "stdout"
        },
        {
          "output_type": "stream",
          "text": [
            "/usr/local/lib/python3.6/dist-packages/urllib3/connectionpool.py:847: InsecureRequestWarning: Unverified HTTPS request is being made. Adding certificate verification is strongly advised. See: https://urllib3.readthedocs.io/en/latest/advanced-usage.html#ssl-warnings\n",
            "  InsecureRequestWarning)\n",
            "/usr/local/lib/python3.6/dist-packages/urllib3/connectionpool.py:847: InsecureRequestWarning: Unverified HTTPS request is being made. Adding certificate verification is strongly advised. See: https://urllib3.readthedocs.io/en/latest/advanced-usage.html#ssl-warnings\n",
            "  InsecureRequestWarning)\n"
          ],
          "name": "stderr"
        },
        {
          "output_type": "stream",
          "text": [
            "Image sucessfully Downloaded:  43418-221-03.jpg\n",
            "Image sucessfully Downloaded:  43418-001-03.jpg\n"
          ],
          "name": "stdout"
        },
        {
          "output_type": "stream",
          "text": [
            "/usr/local/lib/python3.6/dist-packages/urllib3/connectionpool.py:847: InsecureRequestWarning: Unverified HTTPS request is being made. Adding certificate verification is strongly advised. See: https://urllib3.readthedocs.io/en/latest/advanced-usage.html#ssl-warnings\n",
            "  InsecureRequestWarning)\n",
            "/usr/local/lib/python3.6/dist-packages/urllib3/connectionpool.py:847: InsecureRequestWarning: Unverified HTTPS request is being made. Adding certificate verification is strongly advised. See: https://urllib3.readthedocs.io/en/latest/advanced-usage.html#ssl-warnings\n",
            "  InsecureRequestWarning)\n"
          ],
          "name": "stderr"
        },
        {
          "output_type": "stream",
          "text": [
            "Image sucessfully Downloaded:  25404-013-04.jpg\n",
            "Image sucessfully Downloaded:  25404-410-04.jpg\n"
          ],
          "name": "stdout"
        },
        {
          "output_type": "stream",
          "text": [
            "/usr/local/lib/python3.6/dist-packages/urllib3/connectionpool.py:847: InsecureRequestWarning: Unverified HTTPS request is being made. Adding certificate verification is strongly advised. See: https://urllib3.readthedocs.io/en/latest/advanced-usage.html#ssl-warnings\n",
            "  InsecureRequestWarning)\n",
            "/usr/local/lib/python3.6/dist-packages/urllib3/connectionpool.py:847: InsecureRequestWarning: Unverified HTTPS request is being made. Adding certificate verification is strongly advised. See: https://urllib3.readthedocs.io/en/latest/advanced-usage.html#ssl-warnings\n",
            "  InsecureRequestWarning)\n"
          ],
          "name": "stderr"
        },
        {
          "output_type": "stream",
          "text": [
            "Image sucessfully Downloaded:  25359-001-04.jpg\n",
            "Image sucessfully Downloaded:  25359-410-04.jpg\n"
          ],
          "name": "stdout"
        },
        {
          "output_type": "stream",
          "text": [
            "/usr/local/lib/python3.6/dist-packages/urllib3/connectionpool.py:847: InsecureRequestWarning: Unverified HTTPS request is being made. Adding certificate verification is strongly advised. See: https://urllib3.readthedocs.io/en/latest/advanced-usage.html#ssl-warnings\n",
            "  InsecureRequestWarning)\n",
            "/usr/local/lib/python3.6/dist-packages/urllib3/connectionpool.py:847: InsecureRequestWarning: Unverified HTTPS request is being made. Adding certificate verification is strongly advised. See: https://urllib3.readthedocs.io/en/latest/advanced-usage.html#ssl-warnings\n",
            "  InsecureRequestWarning)\n"
          ],
          "name": "stderr"
        },
        {
          "output_type": "stream",
          "text": [
            "Image sucessfully Downloaded:  25359-275-04.jpg\n",
            "Image sucessfully Downloaded:  25403-975-04.jpg\n"
          ],
          "name": "stdout"
        },
        {
          "output_type": "stream",
          "text": [
            "/usr/local/lib/python3.6/dist-packages/urllib3/connectionpool.py:847: InsecureRequestWarning: Unverified HTTPS request is being made. Adding certificate verification is strongly advised. See: https://urllib3.readthedocs.io/en/latest/advanced-usage.html#ssl-warnings\n",
            "  InsecureRequestWarning)\n",
            "/usr/local/lib/python3.6/dist-packages/urllib3/connectionpool.py:847: InsecureRequestWarning: Unverified HTTPS request is being made. Adding certificate verification is strongly advised. See: https://urllib3.readthedocs.io/en/latest/advanced-usage.html#ssl-warnings\n",
            "  InsecureRequestWarning)\n"
          ],
          "name": "stderr"
        },
        {
          "output_type": "stream",
          "text": [
            "Image sucessfully Downloaded:  25403-013-04.jpg\n",
            "Image sucessfully Downloaded:  25382-001-04.jpg\n"
          ],
          "name": "stdout"
        },
        {
          "output_type": "stream",
          "text": [
            "/usr/local/lib/python3.6/dist-packages/urllib3/connectionpool.py:847: InsecureRequestWarning: Unverified HTTPS request is being made. Adding certificate verification is strongly advised. See: https://urllib3.readthedocs.io/en/latest/advanced-usage.html#ssl-warnings\n",
            "  InsecureRequestWarning)\n",
            "/usr/local/lib/python3.6/dist-packages/urllib3/connectionpool.py:847: InsecureRequestWarning: Unverified HTTPS request is being made. Adding certificate verification is strongly advised. See: https://urllib3.readthedocs.io/en/latest/advanced-usage.html#ssl-warnings\n",
            "  InsecureRequestWarning)\n"
          ],
          "name": "stderr"
        },
        {
          "output_type": "stream",
          "text": [
            "Image sucessfully Downloaded:  25382-400-04.jpg\n",
            "Image sucessfully Downloaded:  25382-100-04.jpg\n"
          ],
          "name": "stdout"
        },
        {
          "output_type": "stream",
          "text": [
            "/usr/local/lib/python3.6/dist-packages/urllib3/connectionpool.py:847: InsecureRequestWarning: Unverified HTTPS request is being made. Adding certificate verification is strongly advised. See: https://urllib3.readthedocs.io/en/latest/advanced-usage.html#ssl-warnings\n",
            "  InsecureRequestWarning)\n",
            "/usr/local/lib/python3.6/dist-packages/urllib3/connectionpool.py:847: InsecureRequestWarning: Unverified HTTPS request is being made. Adding certificate verification is strongly advised. See: https://urllib3.readthedocs.io/en/latest/advanced-usage.html#ssl-warnings\n",
            "  InsecureRequestWarning)\n"
          ],
          "name": "stderr"
        },
        {
          "output_type": "stream",
          "text": [
            "Image sucessfully Downloaded:  25406-280-04.jpg\n",
            "Image sucessfully Downloaded:  25406-645-04.jpg\n"
          ],
          "name": "stdout"
        },
        {
          "output_type": "stream",
          "text": [
            "/usr/local/lib/python3.6/dist-packages/urllib3/connectionpool.py:847: InsecureRequestWarning: Unverified HTTPS request is being made. Adding certificate verification is strongly advised. See: https://urllib3.readthedocs.io/en/latest/advanced-usage.html#ssl-warnings\n",
            "  InsecureRequestWarning)\n",
            "/usr/local/lib/python3.6/dist-packages/urllib3/connectionpool.py:847: InsecureRequestWarning: Unverified HTTPS request is being made. Adding certificate verification is strongly advised. See: https://urllib3.readthedocs.io/en/latest/advanced-usage.html#ssl-warnings\n",
            "  InsecureRequestWarning)\n"
          ],
          "name": "stderr"
        },
        {
          "output_type": "stream",
          "text": [
            "Image sucessfully Downloaded:  25419-001-04.jpg\n",
            "Image sucessfully Downloaded:  25419-221-04.jpg\n"
          ],
          "name": "stdout"
        },
        {
          "output_type": "stream",
          "text": [
            "/usr/local/lib/python3.6/dist-packages/urllib3/connectionpool.py:847: InsecureRequestWarning: Unverified HTTPS request is being made. Adding certificate verification is strongly advised. See: https://urllib3.readthedocs.io/en/latest/advanced-usage.html#ssl-warnings\n",
            "  InsecureRequestWarning)\n",
            "/usr/local/lib/python3.6/dist-packages/urllib3/connectionpool.py:847: InsecureRequestWarning: Unverified HTTPS request is being made. Adding certificate verification is strongly advised. See: https://urllib3.readthedocs.io/en/latest/advanced-usage.html#ssl-warnings\n",
            "  InsecureRequestWarning)\n"
          ],
          "name": "stderr"
        },
        {
          "output_type": "stream",
          "text": [
            "Image sucessfully Downloaded:  25418-400-04.jpg\n",
            "Image sucessfully Downloaded:  25418-221-04.jpg\n"
          ],
          "name": "stdout"
        },
        {
          "output_type": "stream",
          "text": [
            "/usr/local/lib/python3.6/dist-packages/urllib3/connectionpool.py:847: InsecureRequestWarning: Unverified HTTPS request is being made. Adding certificate verification is strongly advised. See: https://urllib3.readthedocs.io/en/latest/advanced-usage.html#ssl-warnings\n",
            "  InsecureRequestWarning)\n",
            "/usr/local/lib/python3.6/dist-packages/urllib3/connectionpool.py:847: InsecureRequestWarning: Unverified HTTPS request is being made. Adding certificate verification is strongly advised. See: https://urllib3.readthedocs.io/en/latest/advanced-usage.html#ssl-warnings\n",
            "  InsecureRequestWarning)\n"
          ],
          "name": "stderr"
        },
        {
          "output_type": "stream",
          "text": [
            "Image sucessfully Downloaded:  41179-001-04.jpg\n",
            "Image sucessfully Downloaded:  43418-221-04.jpg\n"
          ],
          "name": "stdout"
        },
        {
          "output_type": "stream",
          "text": [
            "/usr/local/lib/python3.6/dist-packages/urllib3/connectionpool.py:847: InsecureRequestWarning: Unverified HTTPS request is being made. Adding certificate verification is strongly advised. See: https://urllib3.readthedocs.io/en/latest/advanced-usage.html#ssl-warnings\n",
            "  InsecureRequestWarning)\n",
            "/usr/local/lib/python3.6/dist-packages/urllib3/connectionpool.py:847: InsecureRequestWarning: Unverified HTTPS request is being made. Adding certificate verification is strongly advised. See: https://urllib3.readthedocs.io/en/latest/advanced-usage.html#ssl-warnings\n",
            "  InsecureRequestWarning)\n"
          ],
          "name": "stderr"
        },
        {
          "output_type": "stream",
          "text": [
            "Image sucessfully Downloaded:  43418-001-04.jpg\n",
            "Image sucessfully Downloaded:  25404-013-05.jpg\n"
          ],
          "name": "stdout"
        },
        {
          "output_type": "stream",
          "text": [
            "/usr/local/lib/python3.6/dist-packages/urllib3/connectionpool.py:847: InsecureRequestWarning: Unverified HTTPS request is being made. Adding certificate verification is strongly advised. See: https://urllib3.readthedocs.io/en/latest/advanced-usage.html#ssl-warnings\n",
            "  InsecureRequestWarning)\n",
            "/usr/local/lib/python3.6/dist-packages/urllib3/connectionpool.py:847: InsecureRequestWarning: Unverified HTTPS request is being made. Adding certificate verification is strongly advised. See: https://urllib3.readthedocs.io/en/latest/advanced-usage.html#ssl-warnings\n",
            "  InsecureRequestWarning)\n"
          ],
          "name": "stderr"
        },
        {
          "output_type": "stream",
          "text": [
            "Image sucessfully Downloaded:  25404-410-05.jpg\n",
            "Image sucessfully Downloaded:  25359-001-05.jpg\n"
          ],
          "name": "stdout"
        },
        {
          "output_type": "stream",
          "text": [
            "/usr/local/lib/python3.6/dist-packages/urllib3/connectionpool.py:847: InsecureRequestWarning: Unverified HTTPS request is being made. Adding certificate verification is strongly advised. See: https://urllib3.readthedocs.io/en/latest/advanced-usage.html#ssl-warnings\n",
            "  InsecureRequestWarning)\n",
            "/usr/local/lib/python3.6/dist-packages/urllib3/connectionpool.py:847: InsecureRequestWarning: Unverified HTTPS request is being made. Adding certificate verification is strongly advised. See: https://urllib3.readthedocs.io/en/latest/advanced-usage.html#ssl-warnings\n",
            "  InsecureRequestWarning)\n"
          ],
          "name": "stderr"
        },
        {
          "output_type": "stream",
          "text": [
            "Image sucessfully Downloaded:  25359-410-05.jpg\n",
            "Image sucessfully Downloaded:  25359-275-05.jpg\n"
          ],
          "name": "stdout"
        },
        {
          "output_type": "stream",
          "text": [
            "/usr/local/lib/python3.6/dist-packages/urllib3/connectionpool.py:847: InsecureRequestWarning: Unverified HTTPS request is being made. Adding certificate verification is strongly advised. See: https://urllib3.readthedocs.io/en/latest/advanced-usage.html#ssl-warnings\n",
            "  InsecureRequestWarning)\n",
            "/usr/local/lib/python3.6/dist-packages/urllib3/connectionpool.py:847: InsecureRequestWarning: Unverified HTTPS request is being made. Adding certificate verification is strongly advised. See: https://urllib3.readthedocs.io/en/latest/advanced-usage.html#ssl-warnings\n",
            "  InsecureRequestWarning)\n"
          ],
          "name": "stderr"
        },
        {
          "output_type": "stream",
          "text": [
            "Image sucessfully Downloaded:  25403-975-05.jpg\n",
            "Image sucessfully Downloaded:  25403-013-05.jpg\n"
          ],
          "name": "stdout"
        },
        {
          "output_type": "stream",
          "text": [
            "/usr/local/lib/python3.6/dist-packages/urllib3/connectionpool.py:847: InsecureRequestWarning: Unverified HTTPS request is being made. Adding certificate verification is strongly advised. See: https://urllib3.readthedocs.io/en/latest/advanced-usage.html#ssl-warnings\n",
            "  InsecureRequestWarning)\n",
            "/usr/local/lib/python3.6/dist-packages/urllib3/connectionpool.py:847: InsecureRequestWarning: Unverified HTTPS request is being made. Adding certificate verification is strongly advised. See: https://urllib3.readthedocs.io/en/latest/advanced-usage.html#ssl-warnings\n",
            "  InsecureRequestWarning)\n"
          ],
          "name": "stderr"
        },
        {
          "output_type": "stream",
          "text": [
            "Image sucessfully Downloaded:  25382-001-05.jpg\n",
            "Image sucessfully Downloaded:  25382-400-05.jpg\n"
          ],
          "name": "stdout"
        },
        {
          "output_type": "stream",
          "text": [
            "/usr/local/lib/python3.6/dist-packages/urllib3/connectionpool.py:847: InsecureRequestWarning: Unverified HTTPS request is being made. Adding certificate verification is strongly advised. See: https://urllib3.readthedocs.io/en/latest/advanced-usage.html#ssl-warnings\n",
            "  InsecureRequestWarning)\n",
            "/usr/local/lib/python3.6/dist-packages/urllib3/connectionpool.py:847: InsecureRequestWarning: Unverified HTTPS request is being made. Adding certificate verification is strongly advised. See: https://urllib3.readthedocs.io/en/latest/advanced-usage.html#ssl-warnings\n",
            "  InsecureRequestWarning)\n",
            "/usr/local/lib/python3.6/dist-packages/urllib3/connectionpool.py:847: InsecureRequestWarning: Unverified HTTPS request is being made. Adding certificate verification is strongly advised. See: https://urllib3.readthedocs.io/en/latest/advanced-usage.html#ssl-warnings\n",
            "  InsecureRequestWarning)\n"
          ],
          "name": "stderr"
        },
        {
          "output_type": "stream",
          "text": [
            "Image sucessfully Downloaded:  25382-100-05.jpg\n",
            "Image sucessfully Downloaded:  25406-280-05.jpg\n"
          ],
          "name": "stdout"
        },
        {
          "output_type": "stream",
          "text": [
            "/usr/local/lib/python3.6/dist-packages/urllib3/connectionpool.py:847: InsecureRequestWarning: Unverified HTTPS request is being made. Adding certificate verification is strongly advised. See: https://urllib3.readthedocs.io/en/latest/advanced-usage.html#ssl-warnings\n",
            "  InsecureRequestWarning)\n",
            "/usr/local/lib/python3.6/dist-packages/urllib3/connectionpool.py:847: InsecureRequestWarning: Unverified HTTPS request is being made. Adding certificate verification is strongly advised. See: https://urllib3.readthedocs.io/en/latest/advanced-usage.html#ssl-warnings\n",
            "  InsecureRequestWarning)\n"
          ],
          "name": "stderr"
        },
        {
          "output_type": "stream",
          "text": [
            "Image sucessfully Downloaded:  25406-645-05.jpg\n",
            "Image sucessfully Downloaded:  25419-001-05.jpg\n"
          ],
          "name": "stdout"
        },
        {
          "output_type": "stream",
          "text": [
            "/usr/local/lib/python3.6/dist-packages/urllib3/connectionpool.py:847: InsecureRequestWarning: Unverified HTTPS request is being made. Adding certificate verification is strongly advised. See: https://urllib3.readthedocs.io/en/latest/advanced-usage.html#ssl-warnings\n",
            "  InsecureRequestWarning)\n",
            "/usr/local/lib/python3.6/dist-packages/urllib3/connectionpool.py:847: InsecureRequestWarning: Unverified HTTPS request is being made. Adding certificate verification is strongly advised. See: https://urllib3.readthedocs.io/en/latest/advanced-usage.html#ssl-warnings\n",
            "  InsecureRequestWarning)\n"
          ],
          "name": "stderr"
        },
        {
          "output_type": "stream",
          "text": [
            "Image sucessfully Downloaded:  25419-221-05.jpg\n",
            "Image sucessfully Downloaded:  25418-400-05.jpg\n"
          ],
          "name": "stdout"
        },
        {
          "output_type": "stream",
          "text": [
            "/usr/local/lib/python3.6/dist-packages/urllib3/connectionpool.py:847: InsecureRequestWarning: Unverified HTTPS request is being made. Adding certificate verification is strongly advised. See: https://urllib3.readthedocs.io/en/latest/advanced-usage.html#ssl-warnings\n",
            "  InsecureRequestWarning)\n",
            "/usr/local/lib/python3.6/dist-packages/urllib3/connectionpool.py:847: InsecureRequestWarning: Unverified HTTPS request is being made. Adding certificate verification is strongly advised. See: https://urllib3.readthedocs.io/en/latest/advanced-usage.html#ssl-warnings\n",
            "  InsecureRequestWarning)\n"
          ],
          "name": "stderr"
        },
        {
          "output_type": "stream",
          "text": [
            "Image sucessfully Downloaded:  25418-221-05.jpg\n",
            "Image sucessfully Downloaded:  41179-001-05.jpg\n"
          ],
          "name": "stdout"
        },
        {
          "output_type": "stream",
          "text": [
            "/usr/local/lib/python3.6/dist-packages/urllib3/connectionpool.py:847: InsecureRequestWarning: Unverified HTTPS request is being made. Adding certificate verification is strongly advised. See: https://urllib3.readthedocs.io/en/latest/advanced-usage.html#ssl-warnings\n",
            "  InsecureRequestWarning)\n",
            "/usr/local/lib/python3.6/dist-packages/urllib3/connectionpool.py:847: InsecureRequestWarning: Unverified HTTPS request is being made. Adding certificate verification is strongly advised. See: https://urllib3.readthedocs.io/en/latest/advanced-usage.html#ssl-warnings\n",
            "  InsecureRequestWarning)\n"
          ],
          "name": "stderr"
        },
        {
          "output_type": "stream",
          "text": [
            "Image sucessfully Downloaded:  43418-221-05.jpg\n",
            "Image sucessfully Downloaded:  43418-001-05.jpg\n"
          ],
          "name": "stdout"
        },
        {
          "output_type": "stream",
          "text": [
            "/usr/local/lib/python3.6/dist-packages/urllib3/connectionpool.py:847: InsecureRequestWarning: Unverified HTTPS request is being made. Adding certificate verification is strongly advised. See: https://urllib3.readthedocs.io/en/latest/advanced-usage.html#ssl-warnings\n",
            "  InsecureRequestWarning)\n",
            "/usr/local/lib/python3.6/dist-packages/urllib3/connectionpool.py:847: InsecureRequestWarning: Unverified HTTPS request is being made. Adding certificate verification is strongly advised. See: https://urllib3.readthedocs.io/en/latest/advanced-usage.html#ssl-warnings\n",
            "  InsecureRequestWarning)\n"
          ],
          "name": "stderr"
        },
        {
          "output_type": "stream",
          "text": [
            "Image sucessfully Downloaded:  25404-013-06.jpg\n",
            "Image sucessfully Downloaded:  25404-410-06.jpg\n"
          ],
          "name": "stdout"
        },
        {
          "output_type": "stream",
          "text": [
            "/usr/local/lib/python3.6/dist-packages/urllib3/connectionpool.py:847: InsecureRequestWarning: Unverified HTTPS request is being made. Adding certificate verification is strongly advised. See: https://urllib3.readthedocs.io/en/latest/advanced-usage.html#ssl-warnings\n",
            "  InsecureRequestWarning)\n",
            "/usr/local/lib/python3.6/dist-packages/urllib3/connectionpool.py:847: InsecureRequestWarning: Unverified HTTPS request is being made. Adding certificate verification is strongly advised. See: https://urllib3.readthedocs.io/en/latest/advanced-usage.html#ssl-warnings\n",
            "  InsecureRequestWarning)\n"
          ],
          "name": "stderr"
        },
        {
          "output_type": "stream",
          "text": [
            "Image sucessfully Downloaded:  25359-001-06.jpg\n",
            "Image sucessfully Downloaded:  25359-410-06.jpg\n"
          ],
          "name": "stdout"
        },
        {
          "output_type": "stream",
          "text": [
            "/usr/local/lib/python3.6/dist-packages/urllib3/connectionpool.py:847: InsecureRequestWarning: Unverified HTTPS request is being made. Adding certificate verification is strongly advised. See: https://urllib3.readthedocs.io/en/latest/advanced-usage.html#ssl-warnings\n",
            "  InsecureRequestWarning)\n",
            "/usr/local/lib/python3.6/dist-packages/urllib3/connectionpool.py:847: InsecureRequestWarning: Unverified HTTPS request is being made. Adding certificate verification is strongly advised. See: https://urllib3.readthedocs.io/en/latest/advanced-usage.html#ssl-warnings\n",
            "  InsecureRequestWarning)\n"
          ],
          "name": "stderr"
        },
        {
          "output_type": "stream",
          "text": [
            "Image sucessfully Downloaded:  25359-275-06.jpg\n",
            "Image sucessfully Downloaded:  25403-975-06.jpg\n"
          ],
          "name": "stdout"
        },
        {
          "output_type": "stream",
          "text": [
            "/usr/local/lib/python3.6/dist-packages/urllib3/connectionpool.py:847: InsecureRequestWarning: Unverified HTTPS request is being made. Adding certificate verification is strongly advised. See: https://urllib3.readthedocs.io/en/latest/advanced-usage.html#ssl-warnings\n",
            "  InsecureRequestWarning)\n",
            "/usr/local/lib/python3.6/dist-packages/urllib3/connectionpool.py:847: InsecureRequestWarning: Unverified HTTPS request is being made. Adding certificate verification is strongly advised. See: https://urllib3.readthedocs.io/en/latest/advanced-usage.html#ssl-warnings\n",
            "  InsecureRequestWarning)\n"
          ],
          "name": "stderr"
        },
        {
          "output_type": "stream",
          "text": [
            "Image sucessfully Downloaded:  25403-013-06.jpg\n",
            "Image sucessfully Downloaded:  25382-001-06.jpg\n"
          ],
          "name": "stdout"
        },
        {
          "output_type": "stream",
          "text": [
            "/usr/local/lib/python3.6/dist-packages/urllib3/connectionpool.py:847: InsecureRequestWarning: Unverified HTTPS request is being made. Adding certificate verification is strongly advised. See: https://urllib3.readthedocs.io/en/latest/advanced-usage.html#ssl-warnings\n",
            "  InsecureRequestWarning)\n",
            "/usr/local/lib/python3.6/dist-packages/urllib3/connectionpool.py:847: InsecureRequestWarning: Unverified HTTPS request is being made. Adding certificate verification is strongly advised. See: https://urllib3.readthedocs.io/en/latest/advanced-usage.html#ssl-warnings\n",
            "  InsecureRequestWarning)\n"
          ],
          "name": "stderr"
        },
        {
          "output_type": "stream",
          "text": [
            "Image sucessfully Downloaded:  25382-400-06.jpg\n",
            "Image sucessfully Downloaded:  25382-100-06.jpg\n"
          ],
          "name": "stdout"
        },
        {
          "output_type": "stream",
          "text": [
            "/usr/local/lib/python3.6/dist-packages/urllib3/connectionpool.py:847: InsecureRequestWarning: Unverified HTTPS request is being made. Adding certificate verification is strongly advised. See: https://urllib3.readthedocs.io/en/latest/advanced-usage.html#ssl-warnings\n",
            "  InsecureRequestWarning)\n",
            "/usr/local/lib/python3.6/dist-packages/urllib3/connectionpool.py:847: InsecureRequestWarning: Unverified HTTPS request is being made. Adding certificate verification is strongly advised. See: https://urllib3.readthedocs.io/en/latest/advanced-usage.html#ssl-warnings\n",
            "  InsecureRequestWarning)\n"
          ],
          "name": "stderr"
        },
        {
          "output_type": "stream",
          "text": [
            "Image sucessfully Downloaded:  25406-280-06.jpg\n",
            "Image sucessfully Downloaded:  25406-645-06.jpg\n"
          ],
          "name": "stdout"
        },
        {
          "output_type": "stream",
          "text": [
            "/usr/local/lib/python3.6/dist-packages/urllib3/connectionpool.py:847: InsecureRequestWarning: Unverified HTTPS request is being made. Adding certificate verification is strongly advised. See: https://urllib3.readthedocs.io/en/latest/advanced-usage.html#ssl-warnings\n",
            "  InsecureRequestWarning)\n",
            "/usr/local/lib/python3.6/dist-packages/urllib3/connectionpool.py:847: InsecureRequestWarning: Unverified HTTPS request is being made. Adding certificate verification is strongly advised. See: https://urllib3.readthedocs.io/en/latest/advanced-usage.html#ssl-warnings\n",
            "  InsecureRequestWarning)\n"
          ],
          "name": "stderr"
        },
        {
          "output_type": "stream",
          "text": [
            "Image sucessfully Downloaded:  25419-001-06.jpg\n",
            "Image sucessfully Downloaded:  25419-221-06.jpg\n"
          ],
          "name": "stdout"
        },
        {
          "output_type": "stream",
          "text": [
            "/usr/local/lib/python3.6/dist-packages/urllib3/connectionpool.py:847: InsecureRequestWarning: Unverified HTTPS request is being made. Adding certificate verification is strongly advised. See: https://urllib3.readthedocs.io/en/latest/advanced-usage.html#ssl-warnings\n",
            "  InsecureRequestWarning)\n",
            "/usr/local/lib/python3.6/dist-packages/urllib3/connectionpool.py:847: InsecureRequestWarning: Unverified HTTPS request is being made. Adding certificate verification is strongly advised. See: https://urllib3.readthedocs.io/en/latest/advanced-usage.html#ssl-warnings\n",
            "  InsecureRequestWarning)\n"
          ],
          "name": "stderr"
        },
        {
          "output_type": "stream",
          "text": [
            "Image sucessfully Downloaded:  25418-400-06.jpg\n",
            "Image sucessfully Downloaded:  25418-221-06.jpg\n"
          ],
          "name": "stdout"
        },
        {
          "output_type": "stream",
          "text": [
            "/usr/local/lib/python3.6/dist-packages/urllib3/connectionpool.py:847: InsecureRequestWarning: Unverified HTTPS request is being made. Adding certificate verification is strongly advised. See: https://urllib3.readthedocs.io/en/latest/advanced-usage.html#ssl-warnings\n",
            "  InsecureRequestWarning)\n"
          ],
          "name": "stderr"
        },
        {
          "output_type": "stream",
          "text": [
            "Image sucessfully Downloaded:  41179-001-06.jpg\n"
          ],
          "name": "stdout"
        },
        {
          "output_type": "stream",
          "text": [
            "/usr/local/lib/python3.6/dist-packages/urllib3/connectionpool.py:847: InsecureRequestWarning: Unverified HTTPS request is being made. Adding certificate verification is strongly advised. See: https://urllib3.readthedocs.io/en/latest/advanced-usage.html#ssl-warnings\n",
            "  InsecureRequestWarning)\n",
            "/usr/local/lib/python3.6/dist-packages/urllib3/connectionpool.py:847: InsecureRequestWarning: Unverified HTTPS request is being made. Adding certificate verification is strongly advised. See: https://urllib3.readthedocs.io/en/latest/advanced-usage.html#ssl-warnings\n",
            "  InsecureRequestWarning)\n"
          ],
          "name": "stderr"
        },
        {
          "output_type": "stream",
          "text": [
            "Image sucessfully Downloaded:  43418-221-06.jpg\n",
            "Image sucessfully Downloaded:  43418-001-06.jpg\n"
          ],
          "name": "stdout"
        }
      ]
    },
    {
      "cell_type": "code",
      "metadata": {
        "id": "xhUXgA5LMFIF",
        "outputId": "7fca925b-43ce-41e7-e0e1-c16741034e2b",
        "colab": {
          "base_uri": "https://localhost:8080/"
        }
      },
      "source": [
        "!zip -r /content/gdrive/My\\ Drive/fiverr/1.zip /content/gdrive/My\\ Drive/fiverr/1/"
      ],
      "execution_count": 52,
      "outputs": [
        {
          "output_type": "stream",
          "text": [
            "  adding: content/gdrive/My Drive/fiverr/1/ (stored 0%)\n",
            "  adding: content/gdrive/My Drive/fiverr/1/.ipynb_checkpoints/ (stored 0%)\n",
            "  adding: content/gdrive/My Drive/fiverr/1/nunnbush/ (stored 0%)\n",
            "  adding: content/gdrive/My Drive/fiverr/1/nunnbush/84826-238/ (stored 0%)\n",
            "  adding: content/gdrive/My Drive/fiverr/1/nunnbush/84826-238/84826-238-01.jpg (deflated 31%)\n",
            "  adding: content/gdrive/My Drive/fiverr/1/nunnbush/84826-238/84826-238-02.jpg (deflated 22%)\n",
            "  adding: content/gdrive/My Drive/fiverr/1/nunnbush/84826-238/84826-238-03.jpg (deflated 33%)\n",
            "  adding: content/gdrive/My Drive/fiverr/1/nunnbush/84826-238/84826-238-04.jpg (deflated 23%)\n",
            "  adding: content/gdrive/My Drive/fiverr/1/nunnbush/84826-238/84826-238-05.jpg (deflated 22%)\n",
            "  adding: content/gdrive/My Drive/fiverr/1/nunnbush/84826-238/84826-238-06.jpg (deflated 26%)\n",
            "  adding: content/gdrive/My Drive/fiverr/1/nunnbush/84827-238/ (stored 0%)\n",
            "  adding: content/gdrive/My Drive/fiverr/1/nunnbush/84827-238/84827-238-01.jpg (deflated 37%)\n",
            "  adding: content/gdrive/My Drive/fiverr/1/nunnbush/84827-238/84827-238-02.jpg (deflated 26%)\n",
            "  adding: content/gdrive/My Drive/fiverr/1/nunnbush/84827-238/84827-238-03.jpg (deflated 37%)\n",
            "  adding: content/gdrive/My Drive/fiverr/1/nunnbush/84827-238/84827-238-04.jpg (deflated 26%)\n",
            "  adding: content/gdrive/My Drive/fiverr/1/nunnbush/84827-238/84827-238-05.jpg (deflated 24%)\n",
            "  adding: content/gdrive/My Drive/fiverr/1/nunnbush/84827-238/84827-238-06.jpg (deflated 26%)\n",
            "  adding: content/gdrive/My Drive/fiverr/1/nunnbush/84828-200/ (stored 0%)\n",
            "  adding: content/gdrive/My Drive/fiverr/1/nunnbush/84828-200/84828-200-01.jpg (deflated 31%)\n",
            "  adding: content/gdrive/My Drive/fiverr/1/nunnbush/84828-200/84828-200-02.jpg (deflated 22%)\n",
            "  adding: content/gdrive/My Drive/fiverr/1/nunnbush/84828-200/84828-200-03.jpg (deflated 32%)\n",
            "  adding: content/gdrive/My Drive/fiverr/1/nunnbush/84828-200/84828-200-04.jpg (deflated 22%)\n",
            "  adding: content/gdrive/My Drive/fiverr/1/nunnbush/84828-200/84828-200-05.jpg (deflated 25%)\n",
            "  adding: content/gdrive/My Drive/fiverr/1/nunnbush/84828-200/84828-200-06.jpg (deflated 26%)\n",
            "  adding: content/gdrive/My Drive/fiverr/1/nunnbush/84848-001/ (stored 0%)\n",
            "  adding: content/gdrive/My Drive/fiverr/1/nunnbush/84848-001/84848-001-01.jpg (deflated 13%)\n",
            "  adding: content/gdrive/My Drive/fiverr/1/nunnbush/84848-001/84848-001-02.jpg (deflated 7%)\n",
            "  adding: content/gdrive/My Drive/fiverr/1/nunnbush/84848-001/84848-001-03.jpg (deflated 11%)\n",
            "  adding: content/gdrive/My Drive/fiverr/1/nunnbush/84848-001/84848-001-04.jpg (deflated 9%)\n",
            "  adding: content/gdrive/My Drive/fiverr/1/nunnbush/84848-001/84848-001-05.jpg (deflated 9%)\n",
            "  adding: content/gdrive/My Drive/fiverr/1/nunnbush/84848-001/84848-001-06.jpg (deflated 5%)\n",
            "  adding: content/gdrive/My Drive/fiverr/1/nunnbush/84848-221/ (stored 0%)\n",
            "  adding: content/gdrive/My Drive/fiverr/1/nunnbush/84848-221/84848-221-01.jpg (deflated 9%)\n",
            "  adding: content/gdrive/My Drive/fiverr/1/nunnbush/84848-221/84848-221-02.jpg (deflated 5%)\n",
            "  adding: content/gdrive/My Drive/fiverr/1/nunnbush/84848-221/84848-221-03.jpg (deflated 7%)\n",
            "  adding: content/gdrive/My Drive/fiverr/1/nunnbush/84848-221/84848-221-04.jpg (deflated 6%)\n",
            "  adding: content/gdrive/My Drive/fiverr/1/nunnbush/84848-221/84848-221-05.jpg (deflated 7%)\n",
            "  adding: content/gdrive/My Drive/fiverr/1/nunnbush/84848-221/84848-221-06.jpg (deflated 6%)\n",
            "  adding: content/gdrive/My Drive/fiverr/1/nunnbush/84849-001/ (stored 0%)\n",
            "  adding: content/gdrive/My Drive/fiverr/1/nunnbush/84849-001/84849-001-01.jpg (deflated 12%)\n",
            "  adding: content/gdrive/My Drive/fiverr/1/nunnbush/84849-001/84849-001-02.jpg (deflated 7%)\n",
            "  adding: content/gdrive/My Drive/fiverr/1/nunnbush/84849-001/84849-001-03.jpg (deflated 10%)\n",
            "  adding: content/gdrive/My Drive/fiverr/1/nunnbush/84849-001/84849-001-04.jpg (deflated 8%)\n",
            "  adding: content/gdrive/My Drive/fiverr/1/nunnbush/84849-001/84849-001-05.jpg (deflated 8%)\n",
            "  adding: content/gdrive/My Drive/fiverr/1/nunnbush/84849-001/84849-001-06.jpg (deflated 5%)\n",
            "  adding: content/gdrive/My Drive/fiverr/1/nunnbush/84849-229/ (stored 0%)\n",
            "  adding: content/gdrive/My Drive/fiverr/1/nunnbush/84849-229/84849-229-01.jpg (deflated 8%)\n",
            "  adding: content/gdrive/My Drive/fiverr/1/nunnbush/84849-229/84849-229-02.jpg (deflated 6%)\n",
            "  adding: content/gdrive/My Drive/fiverr/1/nunnbush/84849-229/84849-229-03.jpg (deflated 7%)\n",
            "  adding: content/gdrive/My Drive/fiverr/1/nunnbush/84849-229/84849-229-04.jpg (deflated 6%)\n",
            "  adding: content/gdrive/My Drive/fiverr/1/nunnbush/84849-229/84849-229-05.jpg (deflated 6%)\n",
            "  adding: content/gdrive/My Drive/fiverr/1/nunnbush/84849-229/84849-229-06.jpg (deflated 6%)\n",
            "  adding: content/gdrive/My Drive/fiverr/1/nunnbush/84849-415/ (stored 0%)\n",
            "  adding: content/gdrive/My Drive/fiverr/1/nunnbush/84849-415/84849-415-01.jpg (deflated 9%)\n",
            "  adding: content/gdrive/My Drive/fiverr/1/nunnbush/84849-415/84849-415-02.jpg (deflated 5%)\n",
            "  adding: content/gdrive/My Drive/fiverr/1/nunnbush/84849-415/84849-415-03.jpg (deflated 8%)\n",
            "  adding: content/gdrive/My Drive/fiverr/1/nunnbush/84849-415/84849-415-04.jpg (deflated 5%)\n",
            "  adding: content/gdrive/My Drive/fiverr/1/nunnbush/84849-415/84849-415-05.jpg (deflated 6%)\n",
            "  adding: content/gdrive/My Drive/fiverr/1/nunnbush/84849-415/84849-415-06.jpg (deflated 6%)\n",
            "  adding: content/gdrive/My Drive/fiverr/1/nunnbush/84852-009/ (stored 0%)\n",
            "  adding: content/gdrive/My Drive/fiverr/1/nunnbush/84852-009/84852-009-01.jpg (deflated 12%)\n",
            "  adding: content/gdrive/My Drive/fiverr/1/nunnbush/84852-009/84852-009-02.jpg (deflated 7%)\n",
            "  adding: content/gdrive/My Drive/fiverr/1/nunnbush/84852-009/84852-009-03.jpg (deflated 10%)\n",
            "  adding: content/gdrive/My Drive/fiverr/1/nunnbush/84852-009/84852-009-04.jpg (deflated 8%)\n",
            "  adding: content/gdrive/My Drive/fiverr/1/nunnbush/84852-009/84852-009-05.jpg (deflated 8%)\n",
            "  adding: content/gdrive/My Drive/fiverr/1/nunnbush/84852-009/84852-009-06.jpg (deflated 6%)\n",
            "  adding: content/gdrive/My Drive/fiverr/1/nunnbush/84852-229/ (stored 0%)\n",
            "  adding: content/gdrive/My Drive/fiverr/1/nunnbush/84852-229/84852-229-01.jpg (deflated 10%)\n",
            "  adding: content/gdrive/My Drive/fiverr/1/nunnbush/84852-229/84852-229-02.jpg (deflated 5%)\n",
            "  adding: content/gdrive/My Drive/fiverr/1/nunnbush/84852-229/84852-229-03.jpg (deflated 8%)\n",
            "  adding: content/gdrive/My Drive/fiverr/1/nunnbush/84852-229/84852-229-04.jpg (deflated 6%)\n",
            "  adding: content/gdrive/My Drive/fiverr/1/nunnbush/84852-229/84852-229-05.jpg (deflated 6%)\n",
            "  adding: content/gdrive/My Drive/fiverr/1/nunnbush/84852-229/84852-229-06.jpg (deflated 6%)\n",
            "  adding: content/gdrive/My Drive/fiverr/1/nunnbush/84853-009/ (stored 0%)\n",
            "  adding: content/gdrive/My Drive/fiverr/1/nunnbush/84853-009/84853-009-01.jpg (deflated 13%)\n",
            "  adding: content/gdrive/My Drive/fiverr/1/nunnbush/84853-009/84853-009-02.jpg (deflated 6%)\n",
            "  adding: content/gdrive/My Drive/fiverr/1/nunnbush/84853-009/84853-009-03.jpg (deflated 10%)\n",
            "  adding: content/gdrive/My Drive/fiverr/1/nunnbush/84853-009/84853-009-04.jpg (deflated 7%)\n",
            "  adding: content/gdrive/My Drive/fiverr/1/nunnbush/84853-009/84853-009-05.jpg (deflated 7%)\n",
            "  adding: content/gdrive/My Drive/fiverr/1/nunnbush/84853-009/84853-009-06.jpg (deflated 6%)\n",
            "  adding: content/gdrive/My Drive/fiverr/1/nunnbush/84853-229/ (stored 0%)\n",
            "  adding: content/gdrive/My Drive/fiverr/1/nunnbush/84853-229/84853-229-01.jpg (deflated 10%)\n",
            "  adding: content/gdrive/My Drive/fiverr/1/nunnbush/84853-229/84853-229-02.jpg (deflated 5%)\n",
            "  adding: content/gdrive/My Drive/fiverr/1/nunnbush/84853-229/84853-229-03.jpg (deflated 8%)\n",
            "  adding: content/gdrive/My Drive/fiverr/1/nunnbush/84853-229/84853-229-04.jpg (deflated 6%)\n",
            "  adding: content/gdrive/My Drive/fiverr/1/nunnbush/84853-229/84853-229-05.jpg (deflated 6%)\n",
            "  adding: content/gdrive/My Drive/fiverr/1/nunnbush/84853-229/84853-229-06.jpg (deflated 6%)\n",
            "  adding: content/gdrive/My Drive/fiverr/1/nunnbush/84857-009/ (stored 0%)\n",
            "  adding: content/gdrive/My Drive/fiverr/1/nunnbush/84857-009/84857-009-01.jpg (deflated 11%)\n",
            "  adding: content/gdrive/My Drive/fiverr/1/nunnbush/84857-009/84857-009-02.jpg (deflated 7%)\n",
            "  adding: content/gdrive/My Drive/fiverr/1/nunnbush/84857-009/84857-009-03.jpg (deflated 8%)\n",
            "  adding: content/gdrive/My Drive/fiverr/1/nunnbush/84857-009/84857-009-04.jpg (deflated 8%)\n",
            "  adding: content/gdrive/My Drive/fiverr/1/nunnbush/84857-009/84857-009-05.jpg (deflated 8%)\n",
            "  adding: content/gdrive/My Drive/fiverr/1/nunnbush/84857-009/84857-009-06.jpg (deflated 5%)\n",
            "  adding: content/gdrive/My Drive/fiverr/1/nunnbush/84857-226/ (stored 0%)\n",
            "  adding: content/gdrive/My Drive/fiverr/1/nunnbush/84857-226/84857-226-01.jpg (deflated 8%)\n",
            "  adding: content/gdrive/My Drive/fiverr/1/nunnbush/84857-226/84857-226-02.jpg (deflated 5%)\n",
            "  adding: content/gdrive/My Drive/fiverr/1/nunnbush/84857-226/84857-226-03.jpg (deflated 7%)\n",
            "  adding: content/gdrive/My Drive/fiverr/1/nunnbush/84857-226/84857-226-04.jpg (deflated 6%)\n",
            "  adding: content/gdrive/My Drive/fiverr/1/nunnbush/84857-226/84857-226-05.jpg (deflated 5%)\n",
            "  adding: content/gdrive/My Drive/fiverr/1/nunnbush/84857-226/84857-226-06.jpg (deflated 5%)\n",
            "  adding: content/gdrive/My Drive/fiverr/1/nunnbush/84859-009/ (stored 0%)\n",
            "  adding: content/gdrive/My Drive/fiverr/1/nunnbush/84859-009/84859-009-01.jpg (deflated 11%)\n",
            "  adding: content/gdrive/My Drive/fiverr/1/nunnbush/84859-009/84859-009-02.jpg (deflated 4%)\n",
            "  adding: content/gdrive/My Drive/fiverr/1/nunnbush/84859-009/84859-009-03.jpg (deflated 6%)\n",
            "  adding: content/gdrive/My Drive/fiverr/1/nunnbush/84859-009/84859-009-04.jpg (deflated 4%)\n",
            "  adding: content/gdrive/My Drive/fiverr/1/nunnbush/84859-009/84859-009-05.jpg (deflated 8%)\n",
            "  adding: content/gdrive/My Drive/fiverr/1/nunnbush/84859-009/84859-009-06.jpg (deflated 5%)\n",
            "  adding: content/gdrive/My Drive/fiverr/1/nunnbush/84859-226/ (stored 0%)\n",
            "  adding: content/gdrive/My Drive/fiverr/1/nunnbush/84859-226/84859-226-01.jpg (deflated 9%)\n",
            "  adding: content/gdrive/My Drive/fiverr/1/nunnbush/84859-226/84859-226-02.jpg (deflated 4%)\n",
            "  adding: content/gdrive/My Drive/fiverr/1/nunnbush/84859-226/84859-226-04.jpg (deflated 5%)\n",
            "  adding: content/gdrive/My Drive/fiverr/1/nunnbush/84859-226/84859-226-05.jpg (deflated 8%)\n",
            "  adding: content/gdrive/My Drive/fiverr/1/nunnbush/84859-226/84859-226-06.jpg (deflated 5%)\n",
            "  adding: content/gdrive/My Drive/fiverr/1/nunnbush/84870-001/ (stored 0%)\n",
            "  adding: content/gdrive/My Drive/fiverr/1/nunnbush/84870-001/84870-001-01.jpg (deflated 11%)\n",
            "  adding: content/gdrive/My Drive/fiverr/1/nunnbush/84870-001/84870-001-02.jpg (deflated 7%)\n",
            "  adding: content/gdrive/My Drive/fiverr/1/nunnbush/84870-001/84870-001-03.jpg (deflated 10%)\n",
            "  adding: content/gdrive/My Drive/fiverr/1/nunnbush/84870-001/84870-001-04.jpg (deflated 7%)\n",
            "  adding: content/gdrive/My Drive/fiverr/1/nunnbush/84870-001/84870-001-05.jpg (deflated 6%)\n",
            "  adding: content/gdrive/My Drive/fiverr/1/nunnbush/84870-001/84870-001-06.jpg (deflated 8%)\n",
            "  adding: content/gdrive/My Drive/fiverr/1/nunnbush/84870-215/ (stored 0%)\n",
            "  adding: content/gdrive/My Drive/fiverr/1/nunnbush/84870-215/84870-215-01.jpg (deflated 9%)\n",
            "  adding: content/gdrive/My Drive/fiverr/1/nunnbush/84870-215/84870-215-02.jpg (deflated 7%)\n",
            "  adding: content/gdrive/My Drive/fiverr/1/nunnbush/84870-215/84870-215-03.jpg (deflated 9%)\n",
            "  adding: content/gdrive/My Drive/fiverr/1/nunnbush/84870-215/84870-215-04.jpg (deflated 7%)\n",
            "  adding: content/gdrive/My Drive/fiverr/1/nunnbush/84870-215/84870-215-05.jpg (deflated 6%)\n",
            "  adding: content/gdrive/My Drive/fiverr/1/nunnbush/84870-215/84870-215-06.jpg (deflated 8%)\n",
            "  adding: content/gdrive/My Drive/fiverr/1/nunnbush/84870-226/ (stored 0%)\n",
            "  adding: content/gdrive/My Drive/fiverr/1/nunnbush/84870-226/84870-226-01.jpg (deflated 8%)\n",
            "  adding: content/gdrive/My Drive/fiverr/1/nunnbush/84870-226/84870-226-02.jpg (deflated 5%)\n",
            "  adding: content/gdrive/My Drive/fiverr/1/nunnbush/84870-226/84870-226-03.jpg (deflated 8%)\n",
            "  adding: content/gdrive/My Drive/fiverr/1/nunnbush/84870-226/84870-226-04.jpg (deflated 5%)\n",
            "  adding: content/gdrive/My Drive/fiverr/1/nunnbush/84870-226/84870-226-05.jpg (deflated 5%)\n",
            "  adding: content/gdrive/My Drive/fiverr/1/nunnbush/84870-226/84870-226-06.jpg (deflated 8%)\n",
            "  adding: content/gdrive/My Drive/fiverr/1/nunnbush/84879-007/ (stored 0%)\n",
            "  adding: content/gdrive/My Drive/fiverr/1/nunnbush/84879-007/84879-007-01.jpg (deflated 7%)\n",
            "  adding: content/gdrive/My Drive/fiverr/1/nunnbush/84879-007/84879-007-02.jpg (deflated 4%)\n",
            "  adding: content/gdrive/My Drive/fiverr/1/nunnbush/84879-007/84879-007-03.jpg (deflated 8%)\n",
            "  adding: content/gdrive/My Drive/fiverr/1/nunnbush/84879-007/84879-007-04.jpg (deflated 4%)\n",
            "  adding: content/gdrive/My Drive/fiverr/1/nunnbush/84879-007/84879-007-05.jpg (deflated 6%)\n",
            "  adding: content/gdrive/My Drive/fiverr/1/nunnbush/84879-007/84879-007-06.jpg (deflated 6%)\n",
            "  adding: content/gdrive/My Drive/fiverr/1/nunnbush/84879-229/ (stored 0%)\n",
            "  adding: content/gdrive/My Drive/fiverr/1/nunnbush/84879-229/84879-229-01.jpg (deflated 7%)\n",
            "  adding: content/gdrive/My Drive/fiverr/1/nunnbush/84879-229/84879-229-02.jpg (deflated 5%)\n",
            "  adding: content/gdrive/My Drive/fiverr/1/nunnbush/84879-229/84879-229-03.jpg (deflated 7%)\n",
            "  adding: content/gdrive/My Drive/fiverr/1/nunnbush/84879-229/84879-229-04.jpg (deflated 6%)\n",
            "  adding: content/gdrive/My Drive/fiverr/1/nunnbush/84879-229/84879-229-05.jpg (deflated 6%)\n",
            "  adding: content/gdrive/My Drive/fiverr/1/nunnbush/84879-229/84879-229-06.jpg (deflated 6%)\n",
            "  adding: content/gdrive/My Drive/fiverr/1/nunnbush/84901-007/ (stored 0%)\n",
            "  adding: content/gdrive/My Drive/fiverr/1/nunnbush/84901-007/84901-007-01.jpg (deflated 11%)\n",
            "  adding: content/gdrive/My Drive/fiverr/1/nunnbush/84901-007/84901-007-02.jpg (deflated 6%)\n",
            "  adding: content/gdrive/My Drive/fiverr/1/nunnbush/84901-007/84901-007-03.jpg (deflated 12%)\n",
            "  adding: content/gdrive/My Drive/fiverr/1/nunnbush/84901-007/84901-007-04.jpg (deflated 7%)\n",
            "  adding: content/gdrive/My Drive/fiverr/1/nunnbush/84901-007/84901-007-05.jpg (deflated 5%)\n",
            "  adding: content/gdrive/My Drive/fiverr/1/nunnbush/84901-007/84901-007-06.jpg (deflated 6%)\n",
            "  adding: content/gdrive/My Drive/fiverr/1/nunnbush/84901-240/ (stored 0%)\n",
            "  adding: content/gdrive/My Drive/fiverr/1/nunnbush/84901-240/84901-240-01.jpg (deflated 9%)\n",
            "  adding: content/gdrive/My Drive/fiverr/1/nunnbush/84901-240/84901-240-02.jpg (deflated 7%)\n",
            "  adding: content/gdrive/My Drive/fiverr/1/nunnbush/84901-240/84901-240-03.jpg (deflated 11%)\n",
            "  adding: content/gdrive/My Drive/fiverr/1/nunnbush/84901-240/84901-240-04.jpg (deflated 8%)\n",
            "  adding: content/gdrive/My Drive/fiverr/1/nunnbush/84901-240/84901-240-05.jpg (deflated 5%)\n",
            "  adding: content/gdrive/My Drive/fiverr/1/nunnbush/84901-240/84901-240-06.jpg (deflated 6%)\n",
            "  adding: content/gdrive/My Drive/fiverr/1/bogsfootwear/ (stored 0%)\n",
            "  adding: content/gdrive/My Drive/fiverr/1/bogsfootwear/71460-001/ (stored 0%)\n",
            "  adding: content/gdrive/My Drive/fiverr/1/bogsfootwear/71460-001/71460-001-01.jpg (deflated 8%)\n",
            "  adding: content/gdrive/My Drive/fiverr/1/bogsfootwear/71460-001/71460-001-02.jpg (deflated 3%)\n",
            "  adding: content/gdrive/My Drive/fiverr/1/bogsfootwear/71460-001/71460-001-03.jpg (deflated 13%)\n",
            "  adding: content/gdrive/My Drive/fiverr/1/bogsfootwear/71460-001/71460-001-04.jpg (deflated 7%)\n",
            "  adding: content/gdrive/My Drive/fiverr/1/bogsfootwear/71460-001/71460-001-05.jpg (deflated 2%)\n",
            "  adding: content/gdrive/My Drive/fiverr/1/bogsfootwear/71460-001/71460-001-06.jpg (deflated 8%)\n",
            "  adding: content/gdrive/My Drive/fiverr/1/bogsfootwear/72165I-409/ (stored 0%)\n",
            "  adding: content/gdrive/My Drive/fiverr/1/bogsfootwear/72165I-409/72165I-409-01.jpg (deflated 13%)\n",
            "  adding: content/gdrive/My Drive/fiverr/1/bogsfootwear/72165I-409/72165I-409-02.jpg (deflated 25%)\n",
            "  adding: content/gdrive/My Drive/fiverr/1/bogsfootwear/72165I-409/72165I-409-03.jpg (deflated 18%)\n",
            "  adding: content/gdrive/My Drive/fiverr/1/bogsfootwear/72165I-409/72165I-409-04.jpg (deflated 24%)\n",
            "  adding: content/gdrive/My Drive/fiverr/1/bogsfootwear/72165I-409/72165I-409-05.jpg (deflated 18%)\n",
            "  adding: content/gdrive/My Drive/fiverr/1/bogsfootwear/72606I-074/ (stored 0%)\n",
            "  adding: content/gdrive/My Drive/fiverr/1/bogsfootwear/72606I-074/72606I-074-01.jpg (deflated 3%)\n",
            "  adding: content/gdrive/My Drive/fiverr/1/bogsfootwear/72606I-074/72606I-074-02.jpg (deflated 7%)\n",
            "  adding: content/gdrive/My Drive/fiverr/1/bogsfootwear/72606I-074/72606I-074-03.jpg (deflated 3%)\n",
            "  adding: content/gdrive/My Drive/fiverr/1/bogsfootwear/72606I-074/72606I-074-04.jpg (deflated 6%)\n",
            "  adding: content/gdrive/My Drive/fiverr/1/bogsfootwear/72606I-074/72606I-074-05.jpg (deflated 4%)\n",
            "  adding: content/gdrive/My Drive/fiverr/1/bogsfootwear/78756-009/ (stored 0%)\n",
            "  adding: content/gdrive/My Drive/fiverr/1/bogsfootwear/78756-009/78756-009-01.jpg (deflated 25%)\n",
            "  adding: content/gdrive/My Drive/fiverr/1/bogsfootwear/78756-009/78756-009-02.jpg (deflated 38%)\n",
            "  adding: content/gdrive/My Drive/fiverr/1/bogsfootwear/78756-009/78756-009-03.jpg (deflated 32%)\n",
            "  adding: content/gdrive/My Drive/fiverr/1/bogsfootwear/78756-009/78756-009-04.jpg (deflated 35%)\n",
            "  adding: content/gdrive/My Drive/fiverr/1/bogsfootwear/78756-009/78756-009-05.jpg (deflated 29%)\n",
            "  adding: content/gdrive/My Drive/fiverr/1/bogsfootwear/78759-009/ (stored 0%)\n",
            "  adding: content/gdrive/My Drive/fiverr/1/bogsfootwear/78759-009/78759-009-01.jpg (deflated 24%)\n",
            "  adding: content/gdrive/My Drive/fiverr/1/bogsfootwear/78759-009/78759-009-02.jpg (deflated 37%)\n",
            "  adding: content/gdrive/My Drive/fiverr/1/bogsfootwear/78759-009/78759-009-03.jpg (deflated 31%)\n",
            "  adding: content/gdrive/My Drive/fiverr/1/bogsfootwear/78759-009/78759-009-04.jpg (deflated 34%)\n",
            "  adding: content/gdrive/My Drive/fiverr/1/bogsfootwear/78759-009/78759-009-05.jpg (deflated 29%)\n",
            "  adding: content/gdrive/My Drive/fiverr/1/bogsfootwear/78759-540/ (stored 0%)\n",
            "  adding: content/gdrive/My Drive/fiverr/1/bogsfootwear/78759-540/78759-540-01.jpg (deflated 28%)\n",
            "  adding: content/gdrive/My Drive/fiverr/1/bogsfootwear/78759-540/78759-540-02.jpg (deflated 41%)\n",
            "  adding: content/gdrive/My Drive/fiverr/1/bogsfootwear/78759-540/78759-540-03.jpg (deflated 36%)\n",
            "  adding: content/gdrive/My Drive/fiverr/1/bogsfootwear/78759-540/78759-540-04.jpg (deflated 38%)\n",
            "  adding: content/gdrive/My Drive/fiverr/1/bogsfootwear/78759-540/78759-540-05.jpg (deflated 29%)\n",
            "  adding: content/gdrive/My Drive/fiverr/1/bogsfootwear/60542-973/ (stored 0%)\n",
            "  adding: content/gdrive/My Drive/fiverr/1/bogsfootwear/60542-973/60542-973-01.jpg (deflated 17%)\n",
            "  adding: content/gdrive/My Drive/fiverr/1/bogsfootwear/60542-973/60542-973-02.jpg (deflated 30%)\n",
            "  adding: content/gdrive/My Drive/fiverr/1/bogsfootwear/60542-973/60542-973-03.jpg (deflated 18%)\n",
            "  adding: content/gdrive/My Drive/fiverr/1/bogsfootwear/60542-973/60542-973-04.jpg (deflated 30%)\n",
            "  adding: content/gdrive/My Drive/fiverr/1/bogsfootwear/60542-973/60542-973-05.jpg (deflated 24%)\n",
            "  adding: content/gdrive/My Drive/fiverr/1/bogsfootwear/61142-001/ (stored 0%)\n",
            "  adding: content/gdrive/My Drive/fiverr/1/bogsfootwear/61142-001/61142-001-01.jpg (deflated 20%)\n",
            "  adding: content/gdrive/My Drive/fiverr/1/bogsfootwear/61142-001/61142-001-02.jpg (deflated 32%)\n",
            "  adding: content/gdrive/My Drive/fiverr/1/bogsfootwear/61142-001/61142-001-03.jpg (deflated 6%)\n",
            "  adding: content/gdrive/My Drive/fiverr/1/bogsfootwear/61142-001/61142-001-04.jpg (deflated 23%)\n",
            "  adding: content/gdrive/My Drive/fiverr/1/bogsfootwear/61142-001/61142-001-05.jpg (deflated 5%)\n",
            "  adding: content/gdrive/My Drive/fiverr/1/bogsfootwear/61142-001/61142-001-06.jpg (deflated 6%)\n",
            "  adding: content/gdrive/My Drive/fiverr/1/bogsfootwear/69172-001/ (stored 0%)\n",
            "  adding: content/gdrive/My Drive/fiverr/1/bogsfootwear/69172-001/69172-001-01.jpg (deflated 19%)\n",
            "  adding: content/gdrive/My Drive/fiverr/1/bogsfootwear/69172-001/69172-001-02.jpg (deflated 32%)\n",
            "  adding: content/gdrive/My Drive/fiverr/1/bogsfootwear/69172-001/69172-001-03.jpg (deflated 21%)\n",
            "  adding: content/gdrive/My Drive/fiverr/1/bogsfootwear/69172-001/69172-001-04.jpg (deflated 30%)\n",
            "  adding: content/gdrive/My Drive/fiverr/1/bogsfootwear/69172-001/69172-001-05.jpg (deflated 24%)\n",
            "  adding: content/gdrive/My Drive/fiverr/1/bogsfootwear/72132-001/ (stored 0%)\n",
            "  adding: content/gdrive/My Drive/fiverr/1/bogsfootwear/72132-001/72132-001-01.jpg (deflated 13%)\n",
            "  adding: content/gdrive/My Drive/fiverr/1/bogsfootwear/72132-001/72132-001-02.jpg (deflated 21%)\n",
            "  adding: content/gdrive/My Drive/fiverr/1/bogsfootwear/72132-001/72132-001-03.jpg (deflated 16%)\n",
            "  adding: content/gdrive/My Drive/fiverr/1/bogsfootwear/72132-001/72132-001-05.jpg (deflated 12%)\n",
            "  adding: content/gdrive/My Drive/fiverr/1/bogsfootwear/72132-001/72132-001-06.jpg (deflated 5%)\n",
            "  adding: content/gdrive/My Drive/fiverr/1/bogsfootwear/72234CT-001/ (stored 0%)\n",
            "  adding: content/gdrive/My Drive/fiverr/1/bogsfootwear/72234CT-001/72234CT-001-01.jpg (deflated 13%)\n",
            "  adding: content/gdrive/My Drive/fiverr/1/bogsfootwear/72234CT-001/72234CT-001-02.jpg (deflated 21%)\n",
            "  adding: content/gdrive/My Drive/fiverr/1/bogsfootwear/72234CT-001/72234CT-001-03.jpg (deflated 23%)\n",
            "  adding: content/gdrive/My Drive/fiverr/1/bogsfootwear/72234CT-001/72234CT-001-04.jpg (deflated 22%)\n",
            "  adding: content/gdrive/My Drive/fiverr/1/bogsfootwear/72234CT-001/72234CT-001-05.jpg (deflated 19%)\n",
            "  adding: content/gdrive/My Drive/fiverr/1/bogsfootwear/72234CT-001/72234CT-001-06.jpg (deflated 10%)\n",
            "  adding: content/gdrive/My Drive/fiverr/1/bogsfootwear/72234CT-200/ (stored 0%)\n",
            "  adding: content/gdrive/My Drive/fiverr/1/bogsfootwear/72234CT-200/72234CT-200-01.jpg (deflated 14%)\n",
            "  adding: content/gdrive/My Drive/fiverr/1/bogsfootwear/72234CT-200/72234CT-200-02.jpg (deflated 21%)\n",
            "  adding: content/gdrive/My Drive/fiverr/1/bogsfootwear/72234CT-200/72234CT-200-03.jpg (deflated 19%)\n",
            "  adding: content/gdrive/My Drive/fiverr/1/bogsfootwear/72234CT-200/72234CT-200-04.jpg (deflated 21%)\n",
            "  adding: content/gdrive/My Drive/fiverr/1/bogsfootwear/72234CT-200/72234CT-200-05.jpg (deflated 18%)\n",
            "  adding: content/gdrive/My Drive/fiverr/1/bogsfootwear/72234CT-200/72234CT-200-06.jpg (deflated 10%)\n",
            "  adding: content/gdrive/My Drive/fiverr/1/bogsfootwear/72235CT-200/ (stored 0%)\n",
            "  adding: content/gdrive/My Drive/fiverr/1/bogsfootwear/72235CT-200/72235CT-200-01.jpg (deflated 15%)\n",
            "  adding: content/gdrive/My Drive/fiverr/1/bogsfootwear/72235CT-200/72235CT-200-02.jpg (deflated 32%)\n",
            "  adding: content/gdrive/My Drive/fiverr/1/bogsfootwear/72235CT-200/72235CT-200-03.jpg (deflated 20%)\n",
            "  adding: content/gdrive/My Drive/fiverr/1/bogsfootwear/72235CT-200/72235CT-200-04.jpg (deflated 33%)\n",
            "  adding: content/gdrive/My Drive/fiverr/1/bogsfootwear/72235CT-200/72235CT-200-05.jpg (deflated 20%)\n",
            "  adding: content/gdrive/My Drive/fiverr/1/bogsfootwear/72301CT-009/ (stored 0%)\n",
            "  adding: content/gdrive/My Drive/fiverr/1/bogsfootwear/72301CT-009/72301CT-009-01.jpg (deflated 17%)\n",
            "  adding: content/gdrive/My Drive/fiverr/1/bogsfootwear/72301CT-009/72301CT-009-02.jpg (deflated 24%)\n",
            "  adding: content/gdrive/My Drive/fiverr/1/bogsfootwear/72301CT-009/72301CT-009-03.jpg (deflated 24%)\n",
            "  adding: content/gdrive/My Drive/fiverr/1/bogsfootwear/72301CT-009/72301CT-009-04.jpg (deflated 28%)\n",
            "  adding: content/gdrive/My Drive/fiverr/1/bogsfootwear/72301CT-009/72301CT-009-05.jpg (deflated 27%)\n",
            "  adding: content/gdrive/My Drive/fiverr/1/bogsfootwear/72301CT-249/ (stored 0%)\n",
            "  adding: content/gdrive/My Drive/fiverr/1/bogsfootwear/72301CT-249/72301CT-249-01.jpg (deflated 11%)\n",
            "  adding: content/gdrive/My Drive/fiverr/1/bogsfootwear/72301CT-249/72301CT-249-02.jpg (deflated 14%)\n",
            "  adding: content/gdrive/My Drive/fiverr/1/bogsfootwear/72301CT-249/72301CT-249-03.jpg (deflated 9%)\n",
            "  adding: content/gdrive/My Drive/fiverr/1/bogsfootwear/72301CT-249/72301CT-249-04.jpg (deflated 29%)\n",
            "  adding: content/gdrive/My Drive/fiverr/1/bogsfootwear/72301CT-249/72301CT-249-05.jpg (deflated 18%)\n",
            "  adding: content/gdrive/My Drive/fiverr/1/bogsfootwear/72301CT-249/72301CT-249-06.jpg (deflated 10%)\n",
            "  adding: content/gdrive/My Drive/fiverr/1/bogsfootwear/72302CT-009/ (stored 0%)\n",
            "  adding: content/gdrive/My Drive/fiverr/1/bogsfootwear/72302CT-009/72302CT-009-01.jpg (deflated 19%)\n",
            "  adding: content/gdrive/My Drive/fiverr/1/bogsfootwear/72302CT-009/72302CT-009-02.jpg (deflated 24%)\n",
            "  adding: content/gdrive/My Drive/fiverr/1/bogsfootwear/72302CT-009/72302CT-009-03.jpg (deflated 9%)\n",
            "  adding: content/gdrive/My Drive/fiverr/1/bogsfootwear/72302CT-009/72302CT-009-04.jpg (deflated 29%)\n",
            "  adding: content/gdrive/My Drive/fiverr/1/bogsfootwear/72302CT-009/72302CT-009-05.jpg (deflated 18%)\n",
            "  adding: content/gdrive/My Drive/fiverr/1/bogsfootwear/72302CT-009/72302CT-009-06.jpg (deflated 10%)\n",
            "  adding: content/gdrive/My Drive/fiverr/1/bogsfootwear/72302CT-249/ (stored 0%)\n",
            "  adding: content/gdrive/My Drive/fiverr/1/bogsfootwear/72302CT-249/72302CT-249-01.jpg (deflated 19%)\n",
            "  adding: content/gdrive/My Drive/fiverr/1/bogsfootwear/72302CT-249/72302CT-249-02.jpg (deflated 23%)\n",
            "  adding: content/gdrive/My Drive/fiverr/1/bogsfootwear/72302CT-249/72302CT-249-03.jpg (deflated 1%)\n",
            "  adding: content/gdrive/My Drive/fiverr/1/bogsfootwear/72302CT-249/72302CT-249-04.jpg (deflated 9%)\n",
            "  adding: content/gdrive/My Drive/fiverr/1/bogsfootwear/72302CT-249/72302CT-249-05.jpg (deflated 29%)\n",
            "  adding: content/gdrive/My Drive/fiverr/1/bogsfootwear/72302CT-249/72302CT-249-06.jpg (deflated 18%)\n",
            "  adding: content/gdrive/My Drive/fiverr/1/bogsfootwear/72303CT-249/ (stored 0%)\n",
            "  adding: content/gdrive/My Drive/fiverr/1/bogsfootwear/72303CT-249/72303CT-249-01.jpg (deflated 16%)\n",
            "  adding: content/gdrive/My Drive/fiverr/1/bogsfootwear/72303CT-249/72303CT-249-02.jpg (deflated 25%)\n",
            "  adding: content/gdrive/My Drive/fiverr/1/bogsfootwear/72303CT-249/72303CT-249-03.jpg (deflated 9%)\n",
            "  adding: content/gdrive/My Drive/fiverr/1/bogsfootwear/72303CT-249/72303CT-249-04.jpg (deflated 29%)\n",
            "  adding: content/gdrive/My Drive/fiverr/1/bogsfootwear/72303CT-249/72303CT-249-05.jpg (deflated 18%)\n",
            "  adding: content/gdrive/My Drive/fiverr/1/bogsfootwear/72303CT-249/72303CT-249-06.jpg (deflated 10%)\n",
            "  adding: content/gdrive/My Drive/fiverr/1/bogsfootwear/72469-201/ (stored 0%)\n",
            "  adding: content/gdrive/My Drive/fiverr/1/bogsfootwear/72469-201/72469-201-01.jpg (deflated 11%)\n",
            "  adding: content/gdrive/My Drive/fiverr/1/bogsfootwear/72469-201/72469-201-02.jpg (deflated 14%)\n",
            "  adding: content/gdrive/My Drive/fiverr/1/bogsfootwear/72469-201/72469-201-03.jpg (deflated 10%)\n",
            "  adding: content/gdrive/My Drive/fiverr/1/bogsfootwear/72469-201/72469-201-04.jpg (deflated 13%)\n",
            "  adding: content/gdrive/My Drive/fiverr/1/bogsfootwear/72469-201/72469-201-05.jpg (deflated 15%)\n",
            "  adding: content/gdrive/My Drive/fiverr/1/bogsfootwear/72469-231/ (stored 0%)\n",
            "  adding: content/gdrive/My Drive/fiverr/1/bogsfootwear/72469-231/72469-231-01.jpg (deflated 19%)\n",
            "  adding: content/gdrive/My Drive/fiverr/1/bogsfootwear/72469-231/72469-231-02.jpg (deflated 23%)\n",
            "  adding: content/gdrive/My Drive/fiverr/1/bogsfootwear/72469-231/72469-231-03.jpg (deflated 23%)\n",
            "  adding: content/gdrive/My Drive/fiverr/1/bogsfootwear/72469-231/72469-231-04.jpg (deflated 23%)\n",
            "  adding: content/gdrive/My Drive/fiverr/1/bogsfootwear/72469-231/72469-231-05.jpg (deflated 15%)\n",
            "  adding: content/gdrive/My Drive/fiverr/1/bogsfootwear/72470-020/ (stored 0%)\n",
            "  adding: content/gdrive/My Drive/fiverr/1/bogsfootwear/72470-020/72470-020-01.jpg (deflated 12%)\n",
            "  adding: content/gdrive/My Drive/fiverr/1/bogsfootwear/72470-020/72470-020-02.jpg (deflated 25%)\n",
            "  adding: content/gdrive/My Drive/fiverr/1/bogsfootwear/72470-020/72470-020-03.jpg (deflated 13%)\n",
            "  adding: content/gdrive/My Drive/fiverr/1/bogsfootwear/72470-020/72470-020-04.jpg (deflated 24%)\n",
            "  adding: content/gdrive/My Drive/fiverr/1/bogsfootwear/72470-020/72470-020-05.jpg (deflated 16%)\n",
            "  adding: content/gdrive/My Drive/fiverr/1/bogsfootwear/72470-201/ (stored 0%)\n",
            "  adding: content/gdrive/My Drive/fiverr/1/bogsfootwear/72470-201/72470-201-01.jpg (deflated 12%)\n",
            "  adding: content/gdrive/My Drive/fiverr/1/bogsfootwear/72470-201/72470-201-02.jpg (deflated 24%)\n",
            "  adding: content/gdrive/My Drive/fiverr/1/bogsfootwear/72470-201/72470-201-03.jpg (deflated 10%)\n",
            "  adding: content/gdrive/My Drive/fiverr/1/bogsfootwear/72470-201/72470-201-04.jpg (deflated 23%)\n",
            "  adding: content/gdrive/My Drive/fiverr/1/bogsfootwear/72470-201/72470-201-05.jpg (deflated 15%)\n",
            "  adding: content/gdrive/My Drive/fiverr/1/bogsfootwear/72470-231/ (stored 0%)\n",
            "  adding: content/gdrive/My Drive/fiverr/1/bogsfootwear/72470-231/72470-231-01.jpg (deflated 20%)\n",
            "  adding: content/gdrive/My Drive/fiverr/1/bogsfootwear/72470-231/72470-231-02.jpg (deflated 39%)\n",
            "  adding: content/gdrive/My Drive/fiverr/1/bogsfootwear/72470-231/72470-231-03.jpg (deflated 23%)\n",
            "  adding: content/gdrive/My Drive/fiverr/1/bogsfootwear/72470-231/72470-231-04.jpg (deflated 41%)\n",
            "  adding: content/gdrive/My Drive/fiverr/1/bogsfootwear/72470-231/72470-231-05.jpg (deflated 15%)\n",
            "  adding: content/gdrive/My Drive/fiverr/1/bogsfootwear/72619-001/ (stored 0%)\n",
            "  adding: content/gdrive/My Drive/fiverr/1/bogsfootwear/72619-001/72619-001-01.jpg (deflated 12%)\n",
            "  adding: content/gdrive/My Drive/fiverr/1/bogsfootwear/72619-001/72619-001-02.jpg (deflated 16%)\n",
            "  adding: content/gdrive/My Drive/fiverr/1/bogsfootwear/72619-001/72619-001-03.jpg (deflated 15%)\n",
            "  adding: content/gdrive/My Drive/fiverr/1/bogsfootwear/72619-001/72619-001-04.jpg (deflated 11%)\n",
            "  adding: content/gdrive/My Drive/fiverr/1/bogsfootwear/72619-001/72619-001-05.jpg (deflated 13%)\n",
            "  adding: content/gdrive/My Drive/fiverr/1/bogsfootwear/72619-200/ (stored 0%)\n",
            "  adding: content/gdrive/My Drive/fiverr/1/bogsfootwear/72619-200/72619-200-01.jpg (deflated 8%)\n",
            "  adding: content/gdrive/My Drive/fiverr/1/bogsfootwear/72619-200/72619-200-02.jpg (deflated 11%)\n",
            "  adding: content/gdrive/My Drive/fiverr/1/bogsfootwear/72619-200/72619-200-03.jpg (deflated 9%)\n",
            "  adding: content/gdrive/My Drive/fiverr/1/bogsfootwear/72619-200/72619-200-04.jpg (deflated 8%)\n",
            "  adding: content/gdrive/My Drive/fiverr/1/bogsfootwear/72619-200/72619-200-05.jpg (deflated 13%)\n",
            "  adding: content/gdrive/My Drive/fiverr/1/bogsfootwear/72197-001/ (stored 0%)\n",
            "  adding: content/gdrive/My Drive/fiverr/1/bogsfootwear/72197-001/72197-001-01.jpg (deflated 29%)\n",
            "  adding: content/gdrive/My Drive/fiverr/1/bogsfootwear/72197-001/72197-001-02.jpg (deflated 52%)\n",
            "  adding: content/gdrive/My Drive/fiverr/1/bogsfootwear/72197-001/72197-001-03.jpg (deflated 35%)\n",
            "  adding: content/gdrive/My Drive/fiverr/1/bogsfootwear/72197-001/72197-001-04.jpg (deflated 44%)\n",
            "  adding: content/gdrive/My Drive/fiverr/1/bogsfootwear/72197-001/72197-001-05.jpg (deflated 27%)\n",
            "  adding: content/gdrive/My Drive/fiverr/1/bogsfootwear/72197-306/ (stored 0%)\n",
            "  adding: content/gdrive/My Drive/fiverr/1/bogsfootwear/72197-306/72197-306-01.jpg (deflated 26%)\n",
            "  adding: content/gdrive/My Drive/fiverr/1/bogsfootwear/72197-306/72197-306-02.jpg (deflated 49%)\n",
            "  adding: content/gdrive/My Drive/fiverr/1/bogsfootwear/72197-306/72197-306-03.jpg (deflated 29%)\n",
            "  adding: content/gdrive/My Drive/fiverr/1/bogsfootwear/72197-306/72197-306-04.jpg (deflated 41%)\n",
            "  adding: content/gdrive/My Drive/fiverr/1/bogsfootwear/72197-306/72197-306-05.jpg (deflated 27%)\n",
            "  adding: content/gdrive/My Drive/fiverr/1/bogsfootwear/72198-001/ (stored 0%)\n",
            "  adding: content/gdrive/My Drive/fiverr/1/bogsfootwear/72198-001/72198-001-01.jpg (deflated 23%)\n",
            "  adding: content/gdrive/My Drive/fiverr/1/bogsfootwear/72198-001/72198-001-02.jpg (deflated 43%)\n",
            "  adding: content/gdrive/My Drive/fiverr/1/bogsfootwear/72198-001/72198-001-03.jpg (deflated 30%)\n",
            "  adding: content/gdrive/My Drive/fiverr/1/bogsfootwear/72198-001/72198-001-04.jpg (deflated 52%)\n",
            "  adding: content/gdrive/My Drive/fiverr/1/bogsfootwear/72198-001/72198-001-05.jpg (deflated 29%)\n",
            "  adding: content/gdrive/My Drive/fiverr/1/bogsfootwear/72198-001/72198-001-06.jpg (deflated 19%)\n",
            "  adding: content/gdrive/My Drive/fiverr/1/bogsfootwear/72198-306/ (stored 0%)\n",
            "  adding: content/gdrive/My Drive/fiverr/1/bogsfootwear/72198-306/72198-306-01.jpg (deflated 20%)\n",
            "  adding: content/gdrive/My Drive/fiverr/1/bogsfootwear/72198-306/72198-306-02.jpg (deflated 28%)\n",
            "  adding: content/gdrive/My Drive/fiverr/1/bogsfootwear/72198-306/72198-306-03.jpg (deflated 17%)\n",
            "  adding: content/gdrive/My Drive/fiverr/1/bogsfootwear/72198-306/72198-306-04.jpg (deflated 4%)\n",
            "  adding: content/gdrive/My Drive/fiverr/1/bogsfootwear/72198-306/72198-306-05.jpg (deflated 4%)\n",
            "  adding: content/gdrive/My Drive/fiverr/1/bogsfootwear/72198-306/72198-306-06.jpg (deflated 44%)\n",
            "  adding: content/gdrive/My Drive/fiverr/1/bogsfootwear/72198-500/ (stored 0%)\n",
            "  adding: content/gdrive/My Drive/fiverr/1/bogsfootwear/72198-500/72198-500-01.jpg (deflated 25%)\n",
            "  adding: content/gdrive/My Drive/fiverr/1/bogsfootwear/72198-500/72198-500-02.jpg (deflated 62%)\n",
            "  adding: content/gdrive/My Drive/fiverr/1/bogsfootwear/72198-500/72198-500-03.jpg (deflated 22%)\n",
            "  adding: content/gdrive/My Drive/fiverr/1/bogsfootwear/72198-500/72198-500-04.jpg (deflated 51%)\n",
            "  adding: content/gdrive/My Drive/fiverr/1/bogsfootwear/72198-500/72198-500-05.jpg (deflated 24%)\n",
            "  adding: content/gdrive/My Drive/fiverr/1/bogsfootwear/72400-001/ (stored 0%)\n",
            "  adding: content/gdrive/My Drive/fiverr/1/bogsfootwear/72400-001/72400-001-01.jpg (deflated 20%)\n",
            "  adding: content/gdrive/My Drive/fiverr/1/bogsfootwear/72400-001/72400-001-02.jpg (deflated 35%)\n",
            "  adding: content/gdrive/My Drive/fiverr/1/bogsfootwear/72400-001/72400-001-03.jpg (deflated 17%)\n",
            "  adding: content/gdrive/My Drive/fiverr/1/bogsfootwear/72400-001/72400-001-04.jpg (deflated 29%)\n",
            "  adding: content/gdrive/My Drive/fiverr/1/bogsfootwear/72400-001/72400-001-05.jpg (deflated 28%)\n",
            "  adding: content/gdrive/My Drive/fiverr/1/bogsfootwear/72400-040/ (stored 0%)\n",
            "  adding: content/gdrive/My Drive/fiverr/1/bogsfootwear/72400-040/72400-040-01.jpg (deflated 32%)\n",
            "  adding: content/gdrive/My Drive/fiverr/1/bogsfootwear/72400-040/72400-040-02.jpg (deflated 49%)\n",
            "  adding: content/gdrive/My Drive/fiverr/1/bogsfootwear/72400-040/72400-040-03.jpg (deflated 41%)\n",
            "  adding: content/gdrive/My Drive/fiverr/1/bogsfootwear/72400-040/72400-040-04.jpg (deflated 45%)\n",
            "  adding: content/gdrive/My Drive/fiverr/1/bogsfootwear/72400-040/72400-040-05.jpg (deflated 24%)\n",
            "  adding: content/gdrive/My Drive/fiverr/1/bogsfootwear/72406-001/ (stored 0%)\n",
            "  adding: content/gdrive/My Drive/fiverr/1/bogsfootwear/72406-001/72406-001-01.jpg (deflated 21%)\n",
            "  adding: content/gdrive/My Drive/fiverr/1/bogsfootwear/72406-001/72406-001-02.jpg (deflated 60%)\n",
            "  adding: content/gdrive/My Drive/fiverr/1/bogsfootwear/72406-001/72406-001-03.jpg (deflated 45%)\n",
            "  adding: content/gdrive/My Drive/fiverr/1/bogsfootwear/72406-001/72406-001-04.jpg (deflated 33%)\n",
            "  adding: content/gdrive/My Drive/fiverr/1/bogsfootwear/72406-001/72406-001-05.jpg (deflated 34%)\n",
            "  adding: content/gdrive/My Drive/fiverr/1/bogsfootwear/72406-303/ (stored 0%)\n",
            "  adding: content/gdrive/My Drive/fiverr/1/bogsfootwear/72406-303/72406-303-01.jpg (deflated 34%)\n",
            "  adding: content/gdrive/My Drive/fiverr/1/bogsfootwear/72406-303/72406-303-02.jpg (deflated 60%)\n",
            "  adding: content/gdrive/My Drive/fiverr/1/bogsfootwear/72406-303/72406-303-03.jpg (deflated 47%)\n",
            "  adding: content/gdrive/My Drive/fiverr/1/bogsfootwear/72406-303/72406-303-04.jpg (deflated 54%)\n",
            "  adding: content/gdrive/My Drive/fiverr/1/bogsfootwear/72406-303/72406-303-05.jpg (deflated 35%)\n",
            "  adding: content/gdrive/My Drive/fiverr/1/bogsfootwear/72412-221/ (stored 0%)\n",
            "  adding: content/gdrive/My Drive/fiverr/1/bogsfootwear/72412-221/72412-221-01.jpg (deflated 17%)\n",
            "  adding: content/gdrive/My Drive/fiverr/1/bogsfootwear/72412-221/72412-221-02.jpg (deflated 29%)\n",
            "  adding: content/gdrive/My Drive/fiverr/1/bogsfootwear/72412-221/72412-221-03.jpg (deflated 25%)\n",
            "  adding: content/gdrive/My Drive/fiverr/1/bogsfootwear/72412-221/72412-221-04.jpg (deflated 27%)\n",
            "  adding: content/gdrive/My Drive/fiverr/1/bogsfootwear/72412-221/72412-221-05.jpg (deflated 25%)\n",
            "  adding: content/gdrive/My Drive/fiverr/1/bogsfootwear/72412-221/72412-221-06.jpg (deflated 27%)\n",
            "  adding: content/gdrive/My Drive/fiverr/1/bogsfootwear/72412-260/ (stored 0%)\n",
            "  adding: content/gdrive/My Drive/fiverr/1/bogsfootwear/72412-260/72412-260-01.jpg (deflated 18%)\n",
            "  adding: content/gdrive/My Drive/fiverr/1/bogsfootwear/72412-260/72412-260-02.jpg (deflated 28%)\n",
            "  adding: content/gdrive/My Drive/fiverr/1/bogsfootwear/72412-260/72412-260-03.jpg (deflated 36%)\n",
            "  adding: content/gdrive/My Drive/fiverr/1/bogsfootwear/72412-260/72412-260-04.jpg (deflated 25%)\n",
            "  adding: content/gdrive/My Drive/fiverr/1/bogsfootwear/72412-260/72412-260-05.jpg (deflated 26%)\n",
            "  adding: content/gdrive/My Drive/fiverr/1/bogsfootwear/72413-221/ (stored 0%)\n",
            "  adding: content/gdrive/My Drive/fiverr/1/bogsfootwear/72413-221/72413-221-01.jpg (deflated 27%)\n",
            "  adding: content/gdrive/My Drive/fiverr/1/bogsfootwear/72413-221/72413-221-02.jpg (deflated 54%)\n",
            "  adding: content/gdrive/My Drive/fiverr/1/bogsfootwear/72413-221/72413-221-03.jpg (deflated 20%)\n",
            "  adding: content/gdrive/My Drive/fiverr/1/bogsfootwear/72413-221/72413-221-04.jpg (deflated 47%)\n",
            "  adding: content/gdrive/My Drive/fiverr/1/bogsfootwear/72413-221/72413-221-05.jpg (deflated 32%)\n",
            "  adding: content/gdrive/My Drive/fiverr/1/bogsfootwear/72413-260/ (stored 0%)\n",
            "  adding: content/gdrive/My Drive/fiverr/1/bogsfootwear/72413-260/72413-260-01.jpg (deflated 26%)\n",
            "  adding: content/gdrive/My Drive/fiverr/1/bogsfootwear/72413-260/72413-260-02.jpg (deflated 54%)\n",
            "  adding: content/gdrive/My Drive/fiverr/1/bogsfootwear/72413-260/72413-260-03.jpg (deflated 17%)\n",
            "  adding: content/gdrive/My Drive/fiverr/1/bogsfootwear/72413-260/72413-260-04.jpg (deflated 47%)\n",
            "  adding: content/gdrive/My Drive/fiverr/1/bogsfootwear/72413-260/72413-260-05.jpg (deflated 32%)\n",
            "  adding: content/gdrive/My Drive/fiverr/1/bogsfootwear/72522-009/ (stored 0%)\n",
            "  adding: content/gdrive/My Drive/fiverr/1/bogsfootwear/72522-009/72522-009-01.jpg (deflated 24%)\n",
            "  adding: content/gdrive/My Drive/fiverr/1/bogsfootwear/72522-009/72522-009-02.jpg (deflated 40%)\n",
            "  adding: content/gdrive/My Drive/fiverr/1/bogsfootwear/72522-009/72522-009-03.jpg (deflated 24%)\n",
            "  adding: content/gdrive/My Drive/fiverr/1/bogsfootwear/72522-009/72522-009-04.jpg (deflated 33%)\n",
            "  adding: content/gdrive/My Drive/fiverr/1/bogsfootwear/72522-009/72522-009-05.jpg (deflated 32%)\n",
            "  adding: content/gdrive/My Drive/fiverr/1/stacyadams/ (stored 0%)\n",
            "  adding: content/gdrive/My Drive/fiverr/1/stacyadams/25404-013/ (stored 0%)\n",
            "  adding: content/gdrive/My Drive/fiverr/1/stacyadams/25404-013/25404-013-01.jpg (deflated 7%)\n",
            "  adding: content/gdrive/My Drive/fiverr/1/stacyadams/25404-013/25404-013-02.jpg (deflated 4%)\n",
            "  adding: content/gdrive/My Drive/fiverr/1/stacyadams/25404-013/25404-013-03.jpg (deflated 8%)\n",
            "  adding: content/gdrive/My Drive/fiverr/1/stacyadams/25404-013/25404-013-04.jpg (deflated 4%)\n",
            "  adding: content/gdrive/My Drive/fiverr/1/stacyadams/25404-013/25404-013-05.jpg (deflated 5%)\n",
            "  adding: content/gdrive/My Drive/fiverr/1/stacyadams/25404-013/25404-013-06.jpg (deflated 5%)\n",
            "  adding: content/gdrive/My Drive/fiverr/1/stacyadams/25404-410/ (stored 0%)\n",
            "  adding: content/gdrive/My Drive/fiverr/1/stacyadams/25404-410/25404-410-01.jpg (deflated 9%)\n",
            "  adding: content/gdrive/My Drive/fiverr/1/stacyadams/25404-410/25404-410-02.jpg (deflated 5%)\n",
            "  adding: content/gdrive/My Drive/fiverr/1/stacyadams/25404-410/25404-410-03.jpg (deflated 10%)\n",
            "  adding: content/gdrive/My Drive/fiverr/1/stacyadams/25404-410/25404-410-04.jpg (deflated 6%)\n",
            "  adding: content/gdrive/My Drive/fiverr/1/stacyadams/25404-410/25404-410-05.jpg (deflated 6%)\n",
            "  adding: content/gdrive/My Drive/fiverr/1/stacyadams/25404-410/25404-410-06.jpg (deflated 5%)\n",
            "  adding: content/gdrive/My Drive/fiverr/1/stacyadams/25359-001/ (stored 0%)\n",
            "  adding: content/gdrive/My Drive/fiverr/1/stacyadams/25359-001/25359-001-01.jpg (deflated 12%)\n",
            "  adding: content/gdrive/My Drive/fiverr/1/stacyadams/25359-001/25359-001-02.jpg (deflated 9%)\n",
            "  adding: content/gdrive/My Drive/fiverr/1/stacyadams/25359-001/25359-001-03.jpg (deflated 17%)\n",
            "  adding: content/gdrive/My Drive/fiverr/1/stacyadams/25359-001/25359-001-04.jpg (deflated 11%)\n",
            "  adding: content/gdrive/My Drive/fiverr/1/stacyadams/25359-001/25359-001-05.jpg (deflated 9%)\n",
            "  adding: content/gdrive/My Drive/fiverr/1/stacyadams/25359-001/25359-001-06.jpg (deflated 7%)\n",
            "  adding: content/gdrive/My Drive/fiverr/1/stacyadams/25359-410/ (stored 0%)\n",
            "  adding: content/gdrive/My Drive/fiverr/1/stacyadams/25359-410/25359-410-01.jpg (deflated 9%)\n",
            "  adding: content/gdrive/My Drive/fiverr/1/stacyadams/25359-410/25359-410-02.jpg (deflated 7%)\n",
            "  adding: content/gdrive/My Drive/fiverr/1/stacyadams/25359-410/25359-410-03.jpg (deflated 11%)\n",
            "  adding: content/gdrive/My Drive/fiverr/1/stacyadams/25359-410/25359-410-04.jpg (deflated 7%)\n",
            "  adding: content/gdrive/My Drive/fiverr/1/stacyadams/25359-410/25359-410-05.jpg (deflated 6%)\n",
            "  adding: content/gdrive/My Drive/fiverr/1/stacyadams/25359-410/25359-410-06.jpg (deflated 7%)\n",
            "  adding: content/gdrive/My Drive/fiverr/1/stacyadams/25359-275/ (stored 0%)\n",
            "  adding: content/gdrive/My Drive/fiverr/1/stacyadams/25359-275/25359-275-01.jpg (deflated 9%)\n",
            "  adding: content/gdrive/My Drive/fiverr/1/stacyadams/25359-275/25359-275-02.jpg (deflated 7%)\n",
            "  adding: content/gdrive/My Drive/fiverr/1/stacyadams/25359-275/25359-275-03.jpg (deflated 11%)\n",
            "  adding: content/gdrive/My Drive/fiverr/1/stacyadams/25359-275/25359-275-04.jpg (deflated 7%)\n",
            "  adding: content/gdrive/My Drive/fiverr/1/stacyadams/25359-275/25359-275-05.jpg (deflated 6%)\n",
            "  adding: content/gdrive/My Drive/fiverr/1/stacyadams/25359-275/25359-275-06.jpg (deflated 7%)\n",
            "  adding: content/gdrive/My Drive/fiverr/1/stacyadams/25403-975/ (stored 0%)\n",
            "  adding: content/gdrive/My Drive/fiverr/1/stacyadams/25403-975/25403-975-01.jpg (deflated 8%)\n",
            "  adding: content/gdrive/My Drive/fiverr/1/stacyadams/25403-975/25403-975-02.jpg (deflated 7%)\n",
            "  adding: content/gdrive/My Drive/fiverr/1/stacyadams/25403-975/25403-975-03.jpg (deflated 11%)\n",
            "  adding: content/gdrive/My Drive/fiverr/1/stacyadams/25403-975/25403-975-04.jpg (deflated 7%)\n",
            "  adding: content/gdrive/My Drive/fiverr/1/stacyadams/25403-975/25403-975-05.jpg (deflated 5%)\n",
            "  adding: content/gdrive/My Drive/fiverr/1/stacyadams/25403-975/25403-975-06.jpg (deflated 6%)\n",
            "  adding: content/gdrive/My Drive/fiverr/1/stacyadams/25403-013/ (stored 0%)\n",
            "  adding: content/gdrive/My Drive/fiverr/1/stacyadams/25403-013/25403-013-01.jpg (deflated 9%)\n",
            "  adding: content/gdrive/My Drive/fiverr/1/stacyadams/25403-013/25403-013-02.jpg (deflated 6%)\n",
            "  adding: content/gdrive/My Drive/fiverr/1/stacyadams/25403-013/25403-013-03.jpg (deflated 11%)\n",
            "  adding: content/gdrive/My Drive/fiverr/1/stacyadams/25403-013/25403-013-04.jpg (deflated 7%)\n",
            "  adding: content/gdrive/My Drive/fiverr/1/stacyadams/25403-013/25403-013-05.jpg (deflated 6%)\n",
            "  adding: content/gdrive/My Drive/fiverr/1/stacyadams/25403-013/25403-013-06.jpg (deflated 5%)\n",
            "  adding: content/gdrive/My Drive/fiverr/1/stacyadams/25382-001/ (stored 0%)\n",
            "  adding: content/gdrive/My Drive/fiverr/1/stacyadams/25382-001/25382-001-01.jpg (deflated 14%)\n",
            "  adding: content/gdrive/My Drive/fiverr/1/stacyadams/25382-001/25382-001-02.jpg (deflated 7%)\n",
            "  adding: content/gdrive/My Drive/fiverr/1/stacyadams/25382-001/25382-001-03.jpg (deflated 14%)\n",
            "  adding: content/gdrive/My Drive/fiverr/1/stacyadams/25382-001/25382-001-04.jpg (deflated 8%)\n",
            "  adding: content/gdrive/My Drive/fiverr/1/stacyadams/25382-001/25382-001-05.jpg (deflated 10%)\n",
            "  adding: content/gdrive/My Drive/fiverr/1/stacyadams/25382-001/25382-001-06.jpg (deflated 6%)\n",
            "  adding: content/gdrive/My Drive/fiverr/1/stacyadams/25382-400/ (stored 0%)\n",
            "  adding: content/gdrive/My Drive/fiverr/1/stacyadams/25382-400/25382-400-01.jpg (deflated 10%)\n",
            "  adding: content/gdrive/My Drive/fiverr/1/stacyadams/25382-400/25382-400-02.jpg (deflated 5%)\n",
            "  adding: content/gdrive/My Drive/fiverr/1/stacyadams/25382-400/25382-400-03.jpg (deflated 14%)\n",
            "  adding: content/gdrive/My Drive/fiverr/1/stacyadams/25382-400/25382-400-04.jpg (deflated 7%)\n",
            "  adding: content/gdrive/My Drive/fiverr/1/stacyadams/25382-400/25382-400-05.jpg (deflated 8%)\n",
            "  adding: content/gdrive/My Drive/fiverr/1/stacyadams/25382-400/25382-400-06.jpg (deflated 6%)\n",
            "  adding: content/gdrive/My Drive/fiverr/1/stacyadams/25382-100/ (stored 0%)\n",
            "  adding: content/gdrive/My Drive/fiverr/1/stacyadams/25382-100/25382-100-01.jpg (deflated 14%)\n",
            "  adding: content/gdrive/My Drive/fiverr/1/stacyadams/25382-100/25382-100-02.jpg (deflated 8%)\n",
            "  adding: content/gdrive/My Drive/fiverr/1/stacyadams/25382-100/25382-100-03.jpg (deflated 15%)\n",
            "  adding: content/gdrive/My Drive/fiverr/1/stacyadams/25382-100/25382-100-04.jpg (deflated 8%)\n",
            "  adding: content/gdrive/My Drive/fiverr/1/stacyadams/25382-100/25382-100-05.jpg (deflated 10%)\n",
            "  adding: content/gdrive/My Drive/fiverr/1/stacyadams/25382-100/25382-100-06.jpg (deflated 6%)\n",
            "  adding: content/gdrive/My Drive/fiverr/1/stacyadams/25406-280/ (stored 0%)\n",
            "  adding: content/gdrive/My Drive/fiverr/1/stacyadams/25406-280/25406-280-01.jpg (deflated 8%)\n",
            "  adding: content/gdrive/My Drive/fiverr/1/stacyadams/25406-280/25406-280-02.jpg (deflated 5%)\n",
            "  adding: content/gdrive/My Drive/fiverr/1/stacyadams/25406-280/25406-280-03.jpg (deflated 8%)\n",
            "  adding: content/gdrive/My Drive/fiverr/1/stacyadams/25406-280/25406-280-04.jpg (deflated 5%)\n",
            "  adding: content/gdrive/My Drive/fiverr/1/stacyadams/25406-280/25406-280-05.jpg (deflated 6%)\n",
            "  adding: content/gdrive/My Drive/fiverr/1/stacyadams/25406-280/25406-280-06.jpg (deflated 5%)\n",
            "  adding: content/gdrive/My Drive/fiverr/1/stacyadams/25406-645/ (stored 0%)\n",
            "  adding: content/gdrive/My Drive/fiverr/1/stacyadams/25406-645/25406-645-01.jpg (deflated 8%)\n",
            "  adding: content/gdrive/My Drive/fiverr/1/stacyadams/25406-645/25406-645-02.jpg (deflated 6%)\n",
            "  adding: content/gdrive/My Drive/fiverr/1/stacyadams/25406-645/25406-645-03.jpg (deflated 9%)\n",
            "  adding: content/gdrive/My Drive/fiverr/1/stacyadams/25406-645/25406-645-04.jpg (deflated 6%)\n",
            "  adding: content/gdrive/My Drive/fiverr/1/stacyadams/25406-645/25406-645-05.jpg (deflated 6%)\n",
            "  adding: content/gdrive/My Drive/fiverr/1/stacyadams/25406-645/25406-645-06.jpg (deflated 6%)\n",
            "  adding: content/gdrive/My Drive/fiverr/1/stacyadams/25419-001/ (stored 0%)\n",
            "  adding: content/gdrive/My Drive/fiverr/1/stacyadams/25419-001/25419-001-01.jpg (deflated 13%)\n",
            "  adding: content/gdrive/My Drive/fiverr/1/stacyadams/25419-001/25419-001-02.jpg (deflated 8%)\n",
            "  adding: content/gdrive/My Drive/fiverr/1/stacyadams/25419-001/25419-001-03.jpg (deflated 12%)\n",
            "  adding: content/gdrive/My Drive/fiverr/1/stacyadams/25419-001/25419-001-04.jpg (deflated 9%)\n",
            "  adding: content/gdrive/My Drive/fiverr/1/stacyadams/25419-001/25419-001-05.jpg (deflated 7%)\n",
            "  adding: content/gdrive/My Drive/fiverr/1/stacyadams/25419-001/25419-001-06.jpg (deflated 7%)\n",
            "  adding: content/gdrive/My Drive/fiverr/1/stacyadams/25419-221/ (stored 0%)\n",
            "  adding: content/gdrive/My Drive/fiverr/1/stacyadams/25419-221/25419-221-01.jpg (deflated 11%)\n",
            "  adding: content/gdrive/My Drive/fiverr/1/stacyadams/25419-221/25419-221-02.jpg (deflated 7%)\n",
            "  adding: content/gdrive/My Drive/fiverr/1/stacyadams/25419-221/25419-221-03.jpg (deflated 9%)\n",
            "  adding: content/gdrive/My Drive/fiverr/1/stacyadams/25419-221/25419-221-04.jpg (deflated 7%)\n",
            "  adding: content/gdrive/My Drive/fiverr/1/stacyadams/25419-221/25419-221-05.jpg (deflated 5%)\n",
            "  adding: content/gdrive/My Drive/fiverr/1/stacyadams/25419-221/25419-221-06.jpg (deflated 7%)\n",
            "  adding: content/gdrive/My Drive/fiverr/1/stacyadams/25418-400/ (stored 0%)\n",
            "  adding: content/gdrive/My Drive/fiverr/1/stacyadams/25418-400/25418-400-01.jpg (deflated 10%)\n",
            "  adding: content/gdrive/My Drive/fiverr/1/stacyadams/25418-400/25418-400-02.jpg (deflated 7%)\n",
            "  adding: content/gdrive/My Drive/fiverr/1/stacyadams/25418-400/25418-400-03.jpg (deflated 11%)\n",
            "  adding: content/gdrive/My Drive/fiverr/1/stacyadams/25418-400/25418-400-04.jpg (deflated 7%)\n",
            "  adding: content/gdrive/My Drive/fiverr/1/stacyadams/25418-400/25418-400-05.jpg (deflated 6%)\n",
            "  adding: content/gdrive/My Drive/fiverr/1/stacyadams/25418-400/25418-400-06.jpg (deflated 6%)\n",
            "  adding: content/gdrive/My Drive/fiverr/1/stacyadams/25418-221/ (stored 0%)\n",
            "  adding: content/gdrive/My Drive/fiverr/1/stacyadams/25418-221/25418-221-01.jpg (deflated 8%)\n",
            "  adding: content/gdrive/My Drive/fiverr/1/stacyadams/25418-221/25418-221-02.jpg (deflated 6%)\n",
            "  adding: content/gdrive/My Drive/fiverr/1/stacyadams/25418-221/25418-221-03.jpg (deflated 9%)\n",
            "  adding: content/gdrive/My Drive/fiverr/1/stacyadams/25418-221/25418-221-04.jpg (deflated 6%)\n",
            "  adding: content/gdrive/My Drive/fiverr/1/stacyadams/25418-221/25418-221-05.jpg (deflated 5%)\n",
            "  adding: content/gdrive/My Drive/fiverr/1/stacyadams/25418-221/25418-221-06.jpg (deflated 6%)\n",
            "  adding: content/gdrive/My Drive/fiverr/1/stacyadams/41179-001/ (stored 0%)\n",
            "  adding: content/gdrive/My Drive/fiverr/1/stacyadams/41179-001/41179-001-01.jpg (deflated 45%)\n",
            "  adding: content/gdrive/My Drive/fiverr/1/stacyadams/41179-001/41179-001-02.jpg (deflated 31%)\n",
            "  adding: content/gdrive/My Drive/fiverr/1/stacyadams/41179-001/41179-001-03.jpg (deflated 42%)\n",
            "  adding: content/gdrive/My Drive/fiverr/1/stacyadams/41179-001/41179-001-04.jpg (deflated 32%)\n",
            "  adding: content/gdrive/My Drive/fiverr/1/stacyadams/41179-001/41179-001-05.jpg (deflated 29%)\n",
            "  adding: content/gdrive/My Drive/fiverr/1/stacyadams/41179-001/41179-001-06.jpg (deflated 26%)\n",
            "  adding: content/gdrive/My Drive/fiverr/1/stacyadams/43418-221/ (stored 0%)\n",
            "  adding: content/gdrive/My Drive/fiverr/1/stacyadams/43418-221/43418-221-01.jpg (deflated 37%)\n",
            "  adding: content/gdrive/My Drive/fiverr/1/stacyadams/43418-221/43418-221-02.jpg (deflated 24%)\n",
            "  adding: content/gdrive/My Drive/fiverr/1/stacyadams/43418-221/43418-221-03.jpg (deflated 37%)\n",
            "  adding: content/gdrive/My Drive/fiverr/1/stacyadams/43418-221/43418-221-04.jpg (deflated 26%)\n",
            "  adding: content/gdrive/My Drive/fiverr/1/stacyadams/43418-221/43418-221-05.jpg (deflated 25%)\n",
            "  adding: content/gdrive/My Drive/fiverr/1/stacyadams/43418-221/43418-221-06.jpg (deflated 34%)\n",
            "  adding: content/gdrive/My Drive/fiverr/1/stacyadams/43418-001/ (stored 0%)\n",
            "  adding: content/gdrive/My Drive/fiverr/1/stacyadams/43418-001/43418-001-01.jpg (deflated 41%)\n",
            "  adding: content/gdrive/My Drive/fiverr/1/stacyadams/43418-001/43418-001-02.jpg (deflated 26%)\n",
            "  adding: content/gdrive/My Drive/fiverr/1/stacyadams/43418-001/43418-001-03.jpg (deflated 43%)\n",
            "  adding: content/gdrive/My Drive/fiverr/1/stacyadams/43418-001/43418-001-04.jpg (deflated 29%)\n",
            "  adding: content/gdrive/My Drive/fiverr/1/stacyadams/43418-001/43418-001-05.jpg (deflated 30%)\n",
            "  adding: content/gdrive/My Drive/fiverr/1/stacyadams/43418-001/43418-001-06.jpg (deflated 35%)\n"
          ],
          "name": "stdout"
        }
      ]
    },
    {
      "cell_type": "code",
      "metadata": {
        "id": "aiuaIUvLScVr"
      },
      "source": [
        ""
      ],
      "execution_count": null,
      "outputs": []
    }
  ]
}